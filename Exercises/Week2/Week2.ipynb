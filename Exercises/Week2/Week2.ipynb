{
 "cells": [
  {
   "cell_type": "markdown",
   "id": "3275ace2",
   "metadata": {
    "id": "3275ace2"
   },
   "source": [
    "# 📚  Exercise Session - Week 2\n",
    "\n",
    "Welcome to Week 2 exercise's session of CS552-Modern NLP!\n",
    "\n",
    "\n",
    "> **What will be covered:**\n",
    "1. [**TASK A:** N-gram Language Models](#ngram_lm)\n",
    "    - [Unigram Language Model](#unigram_lm)\n",
    "    - [Bi-gram Language Model](#bigram_lm)\n",
    "    - [Tri-gram Language Model](#trigram_lm)\n",
    "     \n",
    "2. [**TASK B:** Neural Language Models](#neural_lm)\n",
    "    - [Fixed-Window Neural Language Model](#fixed_window_lm)\n",
    "    - [RNN-based Language Model](#rnn_lm)\n",
    "\n",
    "> **By the end of the session you will be able to:**\n",
    "> - ✅  Compute and interpret the perplexity of a language model\n",
    "> - ✅  Implement N-gram language models for N=1,2,3\n",
    "> - ✅  Implement, train, and evaluate a fixed window language model\n",
    "> - ✅  Evaluate an RNN language model\n",
    "> - ✅  Understand the advantages and disadvantages of each of the above models"
   ]
  },
  {
   "cell_type": "code",
   "execution_count": null,
   "id": "7BChR8cinbA8",
   "metadata": {
    "id": "7BChR8cinbA8"
   },
   "outputs": [],
   "source": [
    "# Connect to the exercise folder if you're using Colab\n",
    "# from google.colab import drive\n",
    "# drive.mount('/content/drive')"
   ]
  },
  {
   "cell_type": "code",
   "execution_count": 1,
   "id": "98eb6b6c",
   "metadata": {
    "id": "98eb6b6c"
   },
   "outputs": [
    {
     "name": "stdout",
     "output_type": "stream",
     "text": [
      "D:\\UNIV\\MASTER-EPFL\\MNLP\\cs-552-modern-nlp\\Exercises\\Week2\n",
      "Requirement already satisfied: torch in d:\\anaconda\\envs\\mnlp\\lib\\site-packages (from -r requirements.txt (line 1)) (2.5.1)\n",
      "Requirement already satisfied: numpy in d:\\anaconda\\envs\\mnlp\\lib\\site-packages (from -r requirements.txt (line 2)) (1.26.4)\n",
      "Requirement already satisfied: datasets in d:\\anaconda\\envs\\mnlp\\lib\\site-packages (from -r requirements.txt (line 3)) (3.3.2)\n",
      "Requirement already satisfied: filelock in d:\\anaconda\\envs\\mnlp\\lib\\site-packages (from torch->-r requirements.txt (line 1)) (3.13.1)\n",
      "Requirement already satisfied: typing-extensions>=4.8.0 in d:\\anaconda\\envs\\mnlp\\lib\\site-packages (from torch->-r requirements.txt (line 1)) (4.12.2)\n",
      "Requirement already satisfied: networkx in d:\\anaconda\\envs\\mnlp\\lib\\site-packages (from torch->-r requirements.txt (line 1)) (3.4.2)\n",
      "Requirement already satisfied: jinja2 in d:\\anaconda\\envs\\mnlp\\lib\\site-packages (from torch->-r requirements.txt (line 1)) (3.1.5)\n",
      "Requirement already satisfied: fsspec in d:\\anaconda\\envs\\mnlp\\lib\\site-packages (from torch->-r requirements.txt (line 1)) (2024.12.0)\n",
      "Requirement already satisfied: sympy==1.13.1 in d:\\anaconda\\envs\\mnlp\\lib\\site-packages (from torch->-r requirements.txt (line 1)) (1.13.1)\n",
      "Requirement already satisfied: mpmath<1.4,>=1.1.0 in d:\\anaconda\\envs\\mnlp\\lib\\site-packages (from sympy==1.13.1->torch->-r requirements.txt (line 1)) (1.3.0)\n",
      "Requirement already satisfied: pyarrow>=15.0.0 in d:\\anaconda\\envs\\mnlp\\lib\\site-packages (from datasets->-r requirements.txt (line 3)) (19.0.1)\n",
      "Requirement already satisfied: dill<0.3.9,>=0.3.0 in d:\\anaconda\\envs\\mnlp\\lib\\site-packages (from datasets->-r requirements.txt (line 3)) (0.3.8)\n",
      "Requirement already satisfied: pandas in d:\\anaconda\\envs\\mnlp\\lib\\site-packages (from datasets->-r requirements.txt (line 3)) (2.2.3)\n",
      "Requirement already satisfied: requests>=2.32.2 in d:\\anaconda\\envs\\mnlp\\lib\\site-packages (from datasets->-r requirements.txt (line 3)) (2.32.3)\n",
      "Requirement already satisfied: tqdm>=4.66.3 in d:\\anaconda\\envs\\mnlp\\lib\\site-packages (from datasets->-r requirements.txt (line 3)) (4.67.1)\n",
      "Requirement already satisfied: xxhash in d:\\anaconda\\envs\\mnlp\\lib\\site-packages (from datasets->-r requirements.txt (line 3)) (3.5.0)\n",
      "Requirement already satisfied: multiprocess<0.70.17 in d:\\anaconda\\envs\\mnlp\\lib\\site-packages (from datasets->-r requirements.txt (line 3)) (0.70.16)\n",
      "Requirement already satisfied: aiohttp in d:\\anaconda\\envs\\mnlp\\lib\\site-packages (from datasets->-r requirements.txt (line 3)) (3.11.13)\n",
      "Requirement already satisfied: huggingface-hub>=0.24.0 in d:\\anaconda\\envs\\mnlp\\lib\\site-packages (from datasets->-r requirements.txt (line 3)) (0.29.1)\n",
      "Requirement already satisfied: packaging in d:\\anaconda\\envs\\mnlp\\lib\\site-packages (from datasets->-r requirements.txt (line 3)) (24.2)\n",
      "Requirement already satisfied: pyyaml>=5.1 in d:\\anaconda\\envs\\mnlp\\lib\\site-packages (from datasets->-r requirements.txt (line 3)) (6.0.2)\n",
      "Requirement already satisfied: aiohappyeyeballs>=2.3.0 in d:\\anaconda\\envs\\mnlp\\lib\\site-packages (from aiohttp->datasets->-r requirements.txt (line 3)) (2.4.6)\n",
      "Requirement already satisfied: aiosignal>=1.1.2 in d:\\anaconda\\envs\\mnlp\\lib\\site-packages (from aiohttp->datasets->-r requirements.txt (line 3)) (1.3.2)\n",
      "Requirement already satisfied: async-timeout<6.0,>=4.0 in d:\\anaconda\\envs\\mnlp\\lib\\site-packages (from aiohttp->datasets->-r requirements.txt (line 3)) (5.0.1)\n",
      "Requirement already satisfied: attrs>=17.3.0 in d:\\anaconda\\envs\\mnlp\\lib\\site-packages (from aiohttp->datasets->-r requirements.txt (line 3)) (25.1.0)\n",
      "Requirement already satisfied: frozenlist>=1.1.1 in d:\\anaconda\\envs\\mnlp\\lib\\site-packages (from aiohttp->datasets->-r requirements.txt (line 3)) (1.5.0)\n",
      "Requirement already satisfied: multidict<7.0,>=4.5 in d:\\anaconda\\envs\\mnlp\\lib\\site-packages (from aiohttp->datasets->-r requirements.txt (line 3)) (6.1.0)\n",
      "Requirement already satisfied: propcache>=0.2.0 in d:\\anaconda\\envs\\mnlp\\lib\\site-packages (from aiohttp->datasets->-r requirements.txt (line 3)) (0.3.0)\n",
      "Requirement already satisfied: yarl<2.0,>=1.17.0 in d:\\anaconda\\envs\\mnlp\\lib\\site-packages (from aiohttp->datasets->-r requirements.txt (line 3)) (1.18.3)\n",
      "Requirement already satisfied: charset-normalizer<4,>=2 in d:\\anaconda\\envs\\mnlp\\lib\\site-packages (from requests>=2.32.2->datasets->-r requirements.txt (line 3)) (3.4.1)\n",
      "Requirement already satisfied: idna<4,>=2.5 in d:\\anaconda\\envs\\mnlp\\lib\\site-packages (from requests>=2.32.2->datasets->-r requirements.txt (line 3)) (3.10)\n",
      "Requirement already satisfied: urllib3<3,>=1.21.1 in d:\\anaconda\\envs\\mnlp\\lib\\site-packages (from requests>=2.32.2->datasets->-r requirements.txt (line 3)) (2.3.0)\n",
      "Requirement already satisfied: certifi>=2017.4.17 in d:\\anaconda\\envs\\mnlp\\lib\\site-packages (from requests>=2.32.2->datasets->-r requirements.txt (line 3)) (2025.1.31)\n",
      "Requirement already satisfied: colorama in d:\\anaconda\\envs\\mnlp\\lib\\site-packages (from tqdm>=4.66.3->datasets->-r requirements.txt (line 3)) (0.4.6)\n",
      "Requirement already satisfied: MarkupSafe>=2.0 in d:\\anaconda\\envs\\mnlp\\lib\\site-packages (from jinja2->torch->-r requirements.txt (line 1)) (3.0.2)\n",
      "Requirement already satisfied: python-dateutil>=2.8.2 in d:\\anaconda\\envs\\mnlp\\lib\\site-packages (from pandas->datasets->-r requirements.txt (line 3)) (2.9.0.post0)\n",
      "Requirement already satisfied: pytz>=2020.1 in d:\\anaconda\\envs\\mnlp\\lib\\site-packages (from pandas->datasets->-r requirements.txt (line 3)) (2024.1)\n",
      "Requirement already satisfied: tzdata>=2022.7 in d:\\anaconda\\envs\\mnlp\\lib\\site-packages (from pandas->datasets->-r requirements.txt (line 3)) (2023.3)\n",
      "Requirement already satisfied: six>=1.5 in d:\\anaconda\\envs\\mnlp\\lib\\site-packages (from python-dateutil>=2.8.2->pandas->datasets->-r requirements.txt (line 3)) (1.16.0)\n"
     ]
    }
   ],
   "source": [
    "# install the libraries if needed using the requirements.txt file\n",
    "\n",
    "%cd D:\\UNIV\\MASTER-EPFL\\MNLP\\cs-552-modern-nlp\\Exercises\\Week2\n",
    "!pip install -r requirements.txt"
   ]
  },
  {
   "cell_type": "markdown",
   "id": "272c0a7c",
   "metadata": {
    "id": "272c0a7c"
   },
   "source": [
    "<a name=\"ngram_lm\"></a>\n",
    "## 1. Task A: N-gram Language Models"
   ]
  },
  {
   "cell_type": "markdown",
   "id": "85c137c6",
   "metadata": {
    "id": "85c137c6"
   },
   "source": [
    "\n",
    "In this exercise, we will better understand the functioning of different types of (non-neural) language modeling, namely,  Unigram LM, Bi-gram LM, and Tri-gram LM."
   ]
  },
  {
   "cell_type": "markdown",
   "id": "066c0427",
   "metadata": {
    "id": "066c0427"
   },
   "source": [
    "### 1.1 Unigram Language Model <a name=\"unigram_lm\"></a>\n",
    "In the simple Unigram language model, we pick/generate next token independent of the previous token. In other words, during the generation, we pick the tokens according to the token probability. Therefore, for an arbitrary sequence $x_1x_2~...x_n$, its respective probability becomes:\n",
    "$$p(x_1x_2~...x_n) = \\Pi_{i=1} ^n p(x_i)$$\n",
    "Let's use an unsupervised dataset (raw corpus) to evaluate this model's perplexity. We use Huggingface's `datasets` library to download needed datasets.\n",
    "\n",
    "\n",
    "Here we use the `Penn Treebank` dataset, featuring a million words of 1989 Wall Street Journal material. The rare words in this version are already replaced with `<unk>` token. The numbers are also replaced with a special token. This token replacement helps us to end up with a more reasonable vocabulary size to work with.\n"
   ]
  },
  {
   "cell_type": "code",
   "execution_count": 2,
   "id": "69afb9de",
   "metadata": {
    "id": "69afb9de",
    "scrolled": true
   },
   "outputs": [
    {
     "name": "stderr",
     "output_type": "stream",
     "text": [
      "d:\\Anaconda\\envs\\mnlp\\lib\\site-packages\\tqdm\\auto.py:21: TqdmWarning: IProgress not found. Please update jupyter and ipywidgets. See https://ipywidgets.readthedocs.io/en/stable/user_install.html\n",
      "  from .autonotebook import tqdm as notebook_tqdm\n"
     ]
    }
   ],
   "source": [
    "import torch\n",
    "import datasets\n",
    "import numpy as np\n",
    "from datasets import load_dataset\n",
    "\n",
    "ptb_dataset = load_dataset(\"ptb_text_only\", split=\"train\", trust_remote_code=True)\n",
    "\n",
    "# splitting dataset in train/test (to be later used for language model evaluation)\n",
    "ptb_dataset = ptb_dataset.train_test_split(test_size=0.2, seed=1)\n",
    "ptb_train, ptb_test = ptb_dataset['train'], ptb_dataset['test']"
   ]
  },
  {
   "cell_type": "markdown",
   "id": "20589cd0",
   "metadata": {
    "id": "20589cd0"
   },
   "source": [
    "#### Let's have a look at a few samples of the training dataset (and also the structure of the dataset)"
   ]
  },
  {
   "cell_type": "code",
   "execution_count": 3,
   "id": "b6ceb684",
   "metadata": {
    "id": "b6ceb684"
   },
   "outputs": [
    {
     "name": "stdout",
     "output_type": "stream",
     "text": [
      "{'sentence': \"a former executive agreed that the departures do n't reflect major problems adding if you see any company that grows as fast as reebok did it is going to have people coming and going\"}\n",
      "\n",
      "{'sentence': 'with talk today of a second economic <unk> in west germany east germany no longer can content itself with being the economic star in a loser league'}\n",
      "\n",
      "{'sentence': 'transportation secretary sam skinner who earlier fueled the anti-takeover fires with his <unk> attacks on foreign investment in u.s. carriers now says the bill would further <unk> the jittery capital markets'}\n"
     ]
    }
   ],
   "source": [
    "print(f\"{ptb_train[0]}\\n\\n{ptb_train[1]}\\n\\n{ptb_train[2]}\")"
   ]
  },
  {
   "cell_type": "markdown",
   "id": "07207b13",
   "metadata": {
    "id": "07207b13"
   },
   "source": [
    "During generation with a given language model, we often need to have a `<stop>` token in our vocabulary to terminate the generation of a given sentence/paragraph. In this dataset, every sample is a sentence, and the `<stop>` token should be added to the end of every sample (i.e., end of sentence).\n",
    "\n",
    "#### Create a new train/test dataset starting from `ptb_train` and `ptb_test` that has a `<stop>` at the end of each sentence. (Note: do not change the structure of the datasets objects, and just change the respective sentences as discussed).\n",
    "Hint: use the `.map()` functionality of the `datasets` package (read more [here](https://huggingface.co/docs/datasets/process#map]))."
   ]
  },
  {
   "cell_type": "code",
   "execution_count": 4,
   "id": "aa1b7b70",
   "metadata": {
    "id": "aa1b7b70"
   },
   "outputs": [
    {
     "name": "stdout",
     "output_type": "stream",
     "text": [
      "dict_values([\"a former executive agreed that the departures do n't reflect major problems adding if you see any company that grows as fast as reebok did it is going to have people coming and going\"])\n",
      "dict_values(['jefferies group inc. said third-quarter net income fell N N to $ N million or N cents a share from $ N million or N cents a share on more shares a year earlier'])\n"
     ]
    }
   ],
   "source": [
    "def add_stop_token(input_sample: dict):\n",
    "    '''\n",
    "    args:\n",
    "        input_sample: a dict representing a sample of the dataset. (look above for the dict struture)\n",
    "    output:\n",
    "        modified_sample: modified dict adding <stop> at the end of each sentence.\n",
    "    '''\n",
    "    # TODO: add `<stop>` token at the end of each sentence\n",
    "    # YOUR CODE HERE\n",
    "    print(input_sample[0].values())\n",
    "    return input_sample.map(lambda sentence, idx: {\"sentence\": list(input_sample[idx].values())[0] + \" <stop>\"}, with_indices=True)\n",
    "\n",
    "# TODO: apply `add_stop_token` function in-place on ptb_train and ptb_test datasets\n",
    "ptb_train = add_stop_token(ptb_train)\n",
    "ptb_test = add_stop_token(ptb_test)"
   ]
  },
  {
   "cell_type": "code",
   "execution_count": 5,
   "id": "44d26c9e",
   "metadata": {},
   "outputs": [
    {
     "name": "stdout",
     "output_type": "stream",
     "text": [
      "{'sentence': \"a former executive agreed that the departures do n't reflect major problems adding if you see any company that grows as fast as reebok did it is going to have people coming and going <stop>\"}\n",
      "\n",
      "{'sentence': 'with talk today of a second economic <unk> in west germany east germany no longer can content itself with being the economic star in a loser league <stop>'}\n",
      "\n",
      "{'sentence': 'transportation secretary sam skinner who earlier fueled the anti-takeover fires with his <unk> attacks on foreign investment in u.s. carriers now says the bill would further <unk> the jittery capital markets <stop>'}\n"
     ]
    }
   ],
   "source": [
    "print(f\"{ptb_train[0]}\\n\\n{ptb_train[1]}\\n\\n{ptb_train[2]}\")"
   ]
  },
  {
   "cell_type": "markdown",
   "id": "2d338821",
   "metadata": {
    "id": "2d338821"
   },
   "source": [
    "For both `ptb_train` and `ptb_test` datasets, filter out every sample that has less than 3 tokens. it will help remove very short sentences that are not very helpful for training/evaluating a langugage model.\n",
    "\n",
    "Hint: use `.filter()` functionality of the `datasets` package (read more [here](https://huggingface.co/docs/datasets/process#select-and-filter))."
   ]
  },
  {
   "cell_type": "code",
   "execution_count": 6,
   "id": "9c0222f5",
   "metadata": {
    "id": "9c0222f5"
   },
   "outputs": [],
   "source": [
    "# YOUR CODE HERE\n",
    "ptb_train = ptb_train.filter(lambda sample: len(sample[\"sentence\"].split(\" \")) > 3) \n",
    "ptb_test = ptb_test.filter(lambda sample: len(sample[\"sentence\"].split(\" \")) > 3) "
   ]
  },
  {
   "cell_type": "markdown",
   "id": "2733f77b",
   "metadata": {
    "id": "2733f77b"
   },
   "source": [
    "#### Print the 10 most frequent tokens in `ptb_train` dataset.\n",
    "\n",
    "> **Observation**: Can you spot the token used to replace the numbers in this dataset? How are rare tokens replaced in this dataset?"
   ]
  },
  {
   "cell_type": "code",
   "execution_count": 7,
   "id": "28e93fb6",
   "metadata": {
    "id": "28e93fb6"
   },
   "outputs": [
    {
     "name": "stdout",
     "output_type": "stream",
     "text": [
      "the: 40612\n",
      "<unk>: 35814\n",
      "<stop>: 33306\n",
      "N: 25940\n",
      "of: 19459\n",
      "to: 18896\n",
      "a: 16899\n",
      "in: 14472\n",
      "and: 14013\n",
      "'s: 7850\n"
     ]
    }
   ],
   "source": [
    "from collections import Counter\n",
    "\n",
    "# YOUR CODE HERE\n",
    "count = Counter()\n",
    "\n",
    "for example in ptb_train:\n",
    "    tokens = example[\"sentence\"].split()\n",
    "    count.update(tokens)\n",
    "\n",
    "most_common = count.most_common(10)\n",
    "\n",
    "for token, freq in most_common:\n",
    "    print(f\"{token}: {freq}\")"
   ]
  },
  {
   "cell_type": "markdown",
   "id": "a6eaec09",
   "metadata": {
    "id": "a6eaec09"
   },
   "source": [
    "#### Now let's create a dictionary of the word probabilites (in the format of `{word: Prob(word)}`in the following function. We will use these probabilities to estimate sequence probabilities for a given sequence, as mentioned above."
   ]
  },
  {
   "cell_type": "code",
   "execution_count": 8,
   "id": "0e015a74",
   "metadata": {
    "id": "0e015a74"
   },
   "outputs": [],
   "source": [
    "from collections import defaultdict, Counter\n",
    "\n",
    "def get_word_probability_dict(train_dataset: datasets.arrow_dataset.Dataset):\n",
    "    '''\n",
    "    args:\n",
    "        train_dataset: a Dataset object that can be iterated to get all the sentences\n",
    "    output:\n",
    "        word_prob_dict: a dictionary containing the word probabilities (and outputing zero for non-seen tokens)\n",
    "    '''\n",
    "    # get word probabilities across all available tokens in the train_dataset\n",
    "    # YOUR CODE HERE\n",
    "    \n",
    "    word_counts = defaultdict(int)\n",
    "    total_tokens = 0\n",
    "\n",
    "    for example in train_dataset:\n",
    "        tokens = example[\"sentence\"].split()  \n",
    "        for token in tokens:\n",
    "            word_counts[token] += 1\n",
    "            total_tokens += 1\n",
    "\n",
    "    word_prob_dict = {word: count / total_tokens for word, count in word_counts.items()}\n",
    "    \n",
    "    return word_prob_dict\n",
    "\n",
    "word_prob_dict = get_word_probability_dict(ptb_train)"
   ]
  },
  {
   "cell_type": "markdown",
   "id": "766d403e",
   "metadata": {
    "id": "766d403e"
   },
   "source": [
    "Let's also get a sense of how high the top-k probabilities are:"
   ]
  },
  {
   "cell_type": "code",
   "execution_count": 9,
   "id": "37d958f6",
   "metadata": {
    "id": "37d958f6",
    "scrolled": true
   },
   "outputs": [
    {
     "data": {
      "text/plain": [
       "[('the', 0.05472703188187844),\n",
       " ('<unk>', 0.0482614478434353),\n",
       " ('<stop>', 0.044881771985074446),\n",
       " ('N', 0.03495565859883598),\n",
       " ('of', 0.026222134181755948),\n",
       " ('to', 0.02546345893922917),\n",
       " ('a', 0.022772385299218552),\n",
       " ('in', 0.01950186165159423),\n",
       " ('and', 0.01888333245742053),\n",
       " (\"'s\", 0.010578331534343193),\n",
       " ('for', 0.009578443381670245),\n",
       " ('that', 0.009567662916412315),\n",
       " ('$', 0.008023361268213933),\n",
       " ('is', 0.007981586965339457),\n",
       " ('it', 0.006557217993135539),\n",
       " ('said', 0.006522181481047268),\n",
       " ('on', 0.006054578800484582),\n",
       " ('at', 0.005317464488473661),\n",
       " ('by', 0.005308031581372973),\n",
       " ('as', 0.00520157448695092)]"
      ]
     },
     "execution_count": 9,
     "metadata": {},
     "output_type": "execute_result"
    }
   ],
   "source": [
    "sorted(word_prob_dict.items(), key=lambda item: item[1], reverse=True)[:20]"
   ]
  },
  {
   "cell_type": "markdown",
   "id": "e1b408c2",
   "metadata": {
    "id": "e1b408c2"
   },
   "source": [
    "#### Now let's analyze the Unigram language model for different sequences. We first create a function that can output the probability for a given string."
   ]
  },
  {
   "cell_type": "code",
   "execution_count": 10,
   "id": "fc167228",
   "metadata": {
    "id": "fc167228"
   },
   "outputs": [],
   "source": [
    "def unigram_lm_seq_probability(input_sentence: str,\n",
    "                               word_prob_dict: dict):\n",
    "    '''\n",
    "    args:\n",
    "        input_sentence: The input sequence string. Here we assume\n",
    "        word_prob_dict: A dictionary containing the probability for a given token\n",
    "    output:\n",
    "        probability: The probability of the input_sentence according to the Unigram language model\n",
    "    '''\n",
    "    # TODO: get sequence probability using unigram probabilities\n",
    "    # YOUR CODE HERE\n",
    "    word = input_sentence.split()\n",
    "    probability = 1.0\n",
    "\n",
    "    for token in word:\n",
    "        probability *= word_prob_dict[token]\n",
    "\n",
    "    return probability"
   ]
  },
  {
   "cell_type": "markdown",
   "id": "3427e046",
   "metadata": {
    "id": "3427e046"
   },
   "source": [
    "#### Let's investigate a major issue with Unigram language model. What are the probabilities for the two following sequences?\n",
    "- the the the the \\<stop>\n",
    "- i love computer science \\<stop>\n",
    "\n",
    "DIscussion: How can we avoid having large probability values for sequences like `the the the <stop>`\n",
    "\n",
    "Stop words should be removed or largely penalized"
   ]
  },
  {
   "cell_type": "code",
   "execution_count": 11,
   "id": "2c753d2d",
   "metadata": {
    "id": "2c753d2d"
   },
   "outputs": [
    {
     "name": "stdout",
     "output_type": "stream",
     "text": [
      "probability for seq1 is 4.0260352626148156e-07, and for seq2 is 2.3386075741772593e-17\n"
     ]
    }
   ],
   "source": [
    "seq1 = \"the the the the <stop>\"\n",
    "seq2 = \"i love computer science <stop>\"\n",
    "\n",
    "prob_seq1 = unigram_lm_seq_probability(seq1, word_prob_dict)\n",
    "prob_seq2 = unigram_lm_seq_probability(seq2, word_prob_dict)\n",
    "print(f\"probability for seq1 is {prob_seq1}, and for seq2 is {prob_seq2}\")"
   ]
  },
  {
   "cell_type": "markdown",
   "id": "06747969",
   "metadata": {
    "id": "06747969"
   },
   "source": [
    "#### Now let's formally evaluate the Unigram model in terms of perplexity. We first compute the entropy as the average negative log-likelihood:\n",
    "$$H(W_{test}∣M)= \\frac{1}{|W_{test}|} \\sum_{w\\in W_{test}} −log_2P(w∣M)$$\n",
    ", where $W_{test}$ is the input sequence and M is the Unigram language model. (note that the logarithm is in base 2).\n",
    "\n",
    "#### We provide **`get_unigram_lm_entropy`** function to perform the entropy calculation."
   ]
  },
  {
   "cell_type": "code",
   "execution_count": 12,
   "id": "aa48300f",
   "metadata": {
    "id": "aa48300f"
   },
   "outputs": [],
   "source": [
    "def get_unigram_lm_entropy(input_sentence: str,\n",
    "                           word_prob_dict: dict):\n",
    "    '''\n",
    "    args:\n",
    "        input_sentence: the input string that we would like to have its respective entropy value.\n",
    "        word_prob_dict: A dictionary containing the probability for a given token\n",
    "    output:\n",
    "        entropy: entropy value as defined above\n",
    "    '''\n",
    "    entropy = np.mean([-np.log2(max(word_prob_dict.get(word, 1e-6), 1e-6)) for word in input_sentence.split()]) # prevent divide-by-zero error\n",
    "    return entropy"
   ]
  },
  {
   "cell_type": "markdown",
   "id": "b07afa63",
   "metadata": {
    "id": "b07afa63"
   },
   "source": [
    "Now compute the average entropy for all the sentences in the `ptb_test` given above function, and then compute the average entropy. Then compute the perplexity as $2^{\\bar{H}}$, where $\\bar{H}$ is the average entropy over the test dataset."
   ]
  },
  {
   "cell_type": "code",
   "execution_count": 13,
   "id": "ac66be2c",
   "metadata": {
    "id": "ac66be2c"
   },
   "outputs": [
    {
     "name": "stdout",
     "output_type": "stream",
     "text": [
      "The perplexity for the Unigram language model is 680.4365297629997\n"
     ]
    }
   ],
   "source": [
    "def get_unigram_lm_perplexity(test_dataset: datasets.arrow_dataset.Dataset,\n",
    "                              word_prob_dict: dict):\n",
    "    '''\n",
    "    args:\n",
    "        test_dataset: the test dataset samples are used to compute the perplexity for the Unigram LM.\n",
    "        word_prob_dict: A dictionary containing the probability for a given token\n",
    "    output:\n",
    "        perplexity: entropy value as defined above\n",
    "    '''\n",
    "\n",
    "    # TODO: Compute perplexity on the test dataset with unigram probabilities\n",
    "    # YOUR CODE HERE\n",
    "    entropy = []\n",
    "    for ex in test_dataset:\n",
    "        #print(get_unigram_lm_entropy(ex[\"sentence\"], word_prob_dict))\n",
    "        entropy.append(get_unigram_lm_entropy(ex[\"sentence\"], word_prob_dict))\n",
    "    avg_entropy = np.mean(entropy)\n",
    "    perplexity = 2**avg_entropy\n",
    "    return perplexity\n",
    "\n",
    "unigram_lm_perplexity = get_unigram_lm_perplexity(ptb_test, word_prob_dict)\n",
    "print(f\"The perplexity for the Unigram language model is {unigram_lm_perplexity}\")"
   ]
  },
  {
   "cell_type": "markdown",
   "id": "4a3cec0a",
   "metadata": {
    "id": "4a3cec0a"
   },
   "source": [
    "As discussed in the lectures, the models with lower perplexities are desired; however, we should be careful when comparing language models with different vocabualry sizes.\n",
    "#### In the `ptb_train` dataset, replace every token that is appearing less than 10 times with the `<unk>` token. (Note: the same token replacement should be done for the test dataset). What is the Unigram language model perplexity for the new dataset?\n",
    "Discussion: What would happen to the vocabulary size and perplexity as we increase the rare token threshold to higher values? (instead of 10 here)"
   ]
  },
  {
   "cell_type": "code",
   "execution_count": 14,
   "id": "3a14c853",
   "metadata": {
    "id": "3a14c853"
   },
   "outputs": [],
   "source": [
    "def remove_rare_token(train_dataset: datasets.arrow_dataset.Dataset,\n",
    "                      test_dataset: datasets.arrow_dataset.Dataset,\n",
    "                      rare_token_threshold: int):\n",
    "    '''\n",
    "    Note that the tokens that are considered rare here, are identified based on the train_dataset, so that\n",
    "    we have the same token mapping (to <unk>) for both the train and test datasets.\n",
    "    args:\n",
    "        train_dataset: the input dataset where its rare tokens has to be replaced with <unk> token.\n",
    "        rare_token_threshold: every word that is appearing less than this threshold in the train dataset will\n",
    "                              be replace with the <unk> token\n",
    "    output:\n",
    "        cleaned_train_dataset: the cleaned train dataset where rare tokens are replace with <unk> token.\n",
    "        cleaned_test_dataset: the cleaned test dataset where rare tokens are replace with <unk> token.\n",
    "    '''\n",
    "    all_tokens = \" \".join([i[\"sentence\"] for i in train_dataset]).split()\n",
    "    word_frequency_dict = Counter(all_tokens)\n",
    "\n",
    "    rare_tokens = {word for word, count in word_frequency_dict.items() if count < rare_token_threshold}\n",
    "\n",
    "    def rare_removal(input_sample):\n",
    "        modified_sample = input_sample\n",
    "        # TODO: replace rare tokens with `<unk>`\n",
    "        # YOUR CODE HERE\n",
    "        modified_sample['sentence'] = \" \".join([word if word not in rare_tokens else \"<unk>\" for word in modified_sample[\"sentence\"].split()])\n",
    "        return modified_sample\n",
    "\n",
    "    cleaned_train_dataset = train_dataset.map(rare_removal)\n",
    "    cleaned_test_dataset = test_dataset.map(rare_removal)\n",
    "\n",
    "    return cleaned_train_dataset, cleaned_test_dataset\n",
    "\n",
    "cleaned_train_dataset, cleaned_test_dataset = remove_rare_token(train_dataset=ptb_train,\n",
    "                                                                test_dataset=ptb_test,\n",
    "                                                                rare_token_threshold=10)\n"
   ]
  },
  {
   "cell_type": "markdown",
   "id": "6f09a7d3",
   "metadata": {
    "id": "6f09a7d3"
   },
   "source": [
    "#### Compute the test perplexity (`cleaned_test_dataset`) given token probabilities on a train dataset (`cleaned_train_dataset`)"
   ]
  },
  {
   "cell_type": "code",
   "execution_count": 15,
   "id": "d2083f50",
   "metadata": {
    "id": "d2083f50"
   },
   "outputs": [
    {
     "name": "stdout",
     "output_type": "stream",
     "text": [
      "The perplexity for the Unigram language model after replacing rare tokens is  461.76870781173915\n"
     ]
    }
   ],
   "source": [
    "cleaned_word_prob_dict = get_word_probability_dict(cleaned_train_dataset)\n",
    "cleaned_unigram_lm_perplexity = get_unigram_lm_perplexity(cleaned_test_dataset, cleaned_word_prob_dict)\n",
    "\n",
    "print(\"The perplexity for the Unigram language model after replacing rare tokens is \",\n",
    "      cleaned_unigram_lm_perplexity)"
   ]
  },
  {
   "cell_type": "markdown",
   "id": "4abe9eac",
   "metadata": {
    "id": "4abe9eac"
   },
   "source": [
    "## 1.2 Bi-gram Language Model <a name='bigram_lm'></a>\n",
    "In the Bi-gram language model, we pick/generate next token conditioned only on the previous token. Therefore, for an arbitrary sequence $x_1x_2~...x_n$, its respective probability becomes:\n",
    "$$p(x_1x_2~...x_n) = p(x_1) ~\\Pi_{i=2} ^n p(x_i|x_{i-1})$$\n",
    "Let's use the same dataset (`Penn Treebank`) to evaluate this model's perplexity. (We use the dataset that already has the `<stop>` token at the end).\n",
    "\n",
    "We estimate $p(x_i|x_{i-1})$ as the $\\frac{count(x_{i-1},~x_i)}{count(x_{i-1})}$ according to the training dataset frequencies."
   ]
  },
  {
   "cell_type": "code",
   "execution_count": 16,
   "id": "f96966fc",
   "metadata": {
    "id": "f96966fc"
   },
   "outputs": [],
   "source": [
    "def get_first_order_conditional_probabilities(train_dataset: datasets.arrow_dataset.Dataset):\n",
    "    '''\n",
    "    In this function the conditional probabilities have to be computed based train_dataset. The output of the\n",
    "    function is a dictionary having keys like (x_{i-1}, x_i) as a tuple and the value being p(x_i|x_{i-1}).\n",
    "    args:\n",
    "        train_dataset: a Dataset object that can be iterated to get all the sentences\n",
    "    output:\n",
    "        word_prob_dict:\n",
    "        first_order_condition_prob: a dictionary having containing the first order conditional probabilities\n",
    "                                    as discussed above.\n",
    "        word_prob_dict: a dictionary containing the word probabilities\n",
    "    '''\n",
    "    first_order_condition_prob = defaultdict(float) # in order to get zeroes\n",
    "    # let's first get the word frequencies (later used for computation of conditional probabilities)\n",
    "    word_prob_dict = get_word_probability_dict(train_dataset)\n",
    "\n",
    "    all_tokens = \" \".join([i[\"sentence\"] for i in train_dataset]).split()\n",
    "    word_frequency_dict = Counter(all_tokens)\n",
    "\n",
    "    # TODO: Get all bigrams and bigram probabilities\n",
    "    all_bigrams = []\n",
    "    for sample in train_dataset:\n",
    "        # YOUR CODE HERE\n",
    "        words = sample[\"sentence\"].split()\n",
    "        all_bigrams.extend([(words[i], words[i+1]) for i in range(len(words)-1)])\n",
    "\n",
    "    bigram_frequency_dict = Counter(all_bigrams)\n",
    "    # YOUR CODE HERE\n",
    "    first_order_condition_prob = {bigram: count/word_frequency_dict[bigram[0]] for bigram, count in bigram_frequency_dict.items()}\n",
    "\n",
    "    return word_prob_dict, first_order_condition_prob\n",
    "\n",
    "word_prob_dict, first_order_condition_prob = get_first_order_conditional_probabilities(ptb_train)"
   ]
  },
  {
   "cell_type": "markdown",
   "id": "c89cb406",
   "metadata": {
    "id": "c89cb406"
   },
   "source": [
    "#### Now let's analyze the Bi-gram language model for different sequences. We first create a function that can output the probability for a given string."
   ]
  },
  {
   "cell_type": "code",
   "execution_count": 17,
   "id": "e459cdc4",
   "metadata": {
    "id": "e459cdc4"
   },
   "outputs": [],
   "source": [
    "def bigram_lm_seq_probability(input_sentence: str,\n",
    "                              word_prob_dict: dict,\n",
    "                              first_order_condition_prob: dict):\n",
    "    '''\n",
    "    args:\n",
    "        input_sentence: The input sequence string. Here we assume\n",
    "        word_prob_dict: a dictionary containing the word probabilities\n",
    "        first_order_condition_prob: a dictionary containing the first order conditional probabilities\n",
    "                                    as discussed in the previous function.\n",
    "    output:\n",
    "        probability: The probability of the input_sentence according to the Bi-gram language model\n",
    "    '''\n",
    "    # YOUR CODE HERE\n",
    "    input_words = input_sentence.split()\n",
    "\n",
    "    if len(input_words) == 1: \n",
    "        return word_prob_dict.get(input_words[0], 1e-10)\n",
    "    \n",
    "    probability = 1.0\n",
    "\n",
    "    for i in range(len(input_words)-1):\n",
    "        bigram = (input_words[i], input_words[i+1])\n",
    "        \n",
    "        if bigram in first_order_condition_prob: \n",
    "            probability *= first_order_condition_prob[bigram]\n",
    "    return probability"
   ]
  },
  {
   "cell_type": "markdown",
   "id": "a87509ef",
   "metadata": {
    "id": "a87509ef"
   },
   "source": [
    "Let's investigate a major issue with higher order language models.\n",
    "#### Compute the probabilities for all the sequences in `ptb_test` dataset, and compute the minimum value among these probablities. What would be the perplexity for the dataset given these values?\n",
    "Discussion: How can we avoid this **overfitting** to train dataset?"
   ]
  },
  {
   "cell_type": "code",
   "execution_count": 18,
   "id": "3d9a0460",
   "metadata": {
    "id": "3d9a0460"
   },
   "outputs": [
    {
     "name": "stdout",
     "output_type": "stream",
     "text": [
      "0.0% of samples in the test set have zero probability!\n"
     ]
    }
   ],
   "source": [
    "# TODO: get bigram probabilities on test dataset\n",
    "# YOUR CODE HERE\n",
    "\n",
    "bigram_test_probabilities = [bigram_lm_seq_probability(sample[\"sentence\"], word_prob_dict, first_order_condition_prob) for sample in ptb_test]\n",
    "\n",
    "print(f\"{bigram_test_probabilities.count(0)/len(ptb_test)*100}% of samples in the test set have zero probability!\")"
   ]
  },
  {
   "cell_type": "markdown",
   "id": "9ced914f",
   "metadata": {
    "id": "9ced914f"
   },
   "source": [
    "### Smoothing\n",
    "As we saw above, due to having new pair of consecutive words in the test dataset, we might have zero probabilities for some sequences. Therefore, as discussed in the lectures, in order to have a meaningful perplexity for N-gram language models, we need to smooth the probabilities to have non-zero values for non-seen sequences. In this exercise, we use Laplace smoothing as defined below:\n",
    "$$P(x_i|x_{i-1}) = \\frac{count(x_{i-1},~x_i) + \\alpha}{count(x_{i-1}) + \\alpha ~|V|}$$\n",
    ", where $\\alpha$ is the smoothing parameter, and $|V|$ is the (train dataset) vocabulary size.\n",
    "\n",
    "#### Let's recompute the conditional probabilities using Laplace smoothing."
   ]
  },
  {
   "cell_type": "code",
   "execution_count": 19,
   "id": "5d808944",
   "metadata": {
    "id": "5d808944"
   },
   "outputs": [],
   "source": [
    "def get_smoothed_first_order_conditional_probabilities(train_dataset: datasets.arrow_dataset.Dataset,\n",
    "                                                       smoothing_alpha: float):\n",
    "    '''\n",
    "    In this function the conditional probabilities have to be computed based on train_dataset. The output\n",
    "    of the function is a dictionary having keys like (x_{i-1}, x_i) as a tuple and the\n",
    "    value being p(x_i|x_{i-1}).\n",
    "    args:\n",
    "        train_dataset: a Dataset object that can be iterated to get all the sentences\n",
    "        smoothing_alpha: The alpha parameter used in the Laplace smoothing.\n",
    "    output:\n",
    "        word_prob_dict: a dictionary containing the word probabilities\n",
    "        first_order_condition_prob: a dictionary containing the smoothed first order\n",
    "                                    conditional probabilities as discussed above.\n",
    "    '''\n",
    "    first_order_condition_prob = defaultdict(float)  # Note that we shouldn't get zeros for unseen events.\n",
    "    # let's first get the word probabilities (later used for computation of conditional probabilities)\n",
    "    word_prob_dict = get_word_probability_dict(train_dataset)\n",
    "\n",
    "    all_tokens = \" \".join([i[\"sentence\"] for i in train_dataset]).split()\n",
    "    word_frequency_dict = Counter(all_tokens)\n",
    "    vocab_size = len(word_frequency_dict)\n",
    "\n",
    "    all_bigrams = []\n",
    "    for sample in train_dataset:\n",
    "        # TODO: get bigram frequencies\n",
    "        # YOUR CODE HERE\n",
    "        words = sample[\"sentence\"].split()\n",
    "        all_bigrams.extend([(words[i], words[i+1]) for i in range(len(words)-1)])\n",
    "\n",
    "    bigram_frequency_dict = Counter(all_bigrams)\n",
    "\n",
    "    # TODO: get bigram probabilities\n",
    "    # YOUR CODE HERE\n",
    "    first_order_condition_prob = {bigram: (count+smoothing_alpha)/(word_frequency_dict[bigram[0]]+smoothing_alpha * abs(vocab_size)) for bigram, count in bigram_frequency_dict.items()}\n",
    "\n",
    "    return word_prob_dict, first_order_condition_prob"
   ]
  },
  {
   "cell_type": "code",
   "execution_count": 20,
   "id": "3008240c",
   "metadata": {
    "id": "3008240c"
   },
   "outputs": [],
   "source": [
    "def smoothed_bigram_lm_seq_probability(input_sentence: str,\n",
    "                                       word_prob_dict: dict,\n",
    "                                       word_frequency_dict: dict,\n",
    "                                       first_order_condition_prob: dict,\n",
    "                                       smoothing_alpha: float):\n",
    "    '''\n",
    "    args:\n",
    "        input_sentence: The input sequence string. Here we assume\n",
    "        word_prob_dict: a dictionary containing the word probabilities\n",
    "        word_frequency_dict: a dictionary containing the frequency for every word in vocabulary\n",
    "        first_order_condition_prob: a dictionary containing the first order conditional probabilities\n",
    "                                    as discussed in the previous function.\n",
    "        smoothing_alpha: The alpha parameter used in the Laplace smoothing.\n",
    "    output:\n",
    "        probability: The probability of the input_sentence according to the Bi-gram language model\n",
    "    '''\n",
    "    vocab_size = len(word_prob_dict)\n",
    "    token_list = input_sentence.split()\n",
    "    bigram_list = [(s1, s2) for s1, s2 in zip(token_list, token_list[1:])]\n",
    "\n",
    "    # TODO: compute sentence probability\n",
    "    # YOUR CODE HERE\n",
    "\n",
    "    probability = 1.0\n",
    "\n",
    "    for bigram in bigram_list:\n",
    "        # Apply smoothing in case the bigram is not in the dictionary\n",
    "        bigram_prob = first_order_condition_prob.get(\n",
    "            bigram,\n",
    "            (smoothing_alpha) / (word_frequency_dict.get(bigram[0], 0) + smoothing_alpha * vocab_size)\n",
    "        )\n",
    "        probability *= bigram_prob  # Multiply probabilities of each bigram\n",
    "\n",
    "    return probability"
   ]
  },
  {
   "cell_type": "markdown",
   "id": "4cd77e6c",
   "metadata": {
    "id": "4cd77e6c"
   },
   "source": [
    "#### Assuming $\\alpha=0.01$ for the smoothing, use the previous function and `bigram_lm_seq_probability` to compute the sequence probabilities for all the sentences in the `ptb_test` dataset."
   ]
  },
  {
   "cell_type": "code",
   "execution_count": 21,
   "id": "e2c76c94",
   "metadata": {
    "id": "e2c76c94"
   },
   "outputs": [
    {
     "name": "stdout",
     "output_type": "stream",
     "text": [
      "0.0% of samples in the test set have zero probability!\n"
     ]
    }
   ],
   "source": [
    "smoothed_bigram_test_probabilities = []\n",
    "\n",
    "word_frequency_dict = Counter(\" \".join([i[\"sentence\"] for i in ptb_train]).split())\n",
    "(word_prob_dict, smoothed_first_order_condition_prob) = get_smoothed_first_order_conditional_probabilities(ptb_train, 0.01)\n",
    "\n",
    "# TODO: get smoothed bigram probabilities\n",
    "# YOUR CODE HERE\n",
    "smoothed_bigram_test_probabilities =  [smoothed_bigram_lm_seq_probability(sample[\"sentence\"], word_prob_dict, word_frequency_dict, first_order_condition_prob, 0.01) for sample in ptb_test]\n",
    "\n",
    "print(f\"{smoothed_bigram_test_probabilities.count(0)/len(ptb_test)*100}% of samples in the test set have zero probability!\")"
   ]
  },
  {
   "cell_type": "markdown",
   "id": "8f8b38b8",
   "metadata": {
    "id": "8f8b38b8"
   },
   "source": [
    "If the perplexity for a given sequence is computed as below, compute the Bigram language model perplexity over `ptb_test` dataset over all the sentences ($\\alpha=0.01)$:\n",
    "$$Perplexity(x_1x_2...x_n) = p(x_1x_2...x_n)^{-1/n}$$\n",
    ", where $p(x_1x_2...x_n)$ is the probability assigned to $x_1x_2...x_n$ sequence by the language model."
   ]
  },
  {
   "cell_type": "code",
   "execution_count": 22,
   "id": "7e3665f1",
   "metadata": {
    "id": "7e3665f1"
   },
   "outputs": [
    {
     "name": "stdout",
     "output_type": "stream",
     "text": [
      "Bigram language model perplexity is 164.20378386461564\n"
     ]
    }
   ],
   "source": [
    "bigram_lm_perplexity = -1\n",
    "\n",
    "log_perplex_list = []\n",
    "for idx in range(len(ptb_test)):\n",
    "    # TODO: get bigram perplexities \n",
    "    # YOUR CODE HERE\n",
    "    sentence = ptb_test[idx][\"sentence\"].split()\n",
    "    sentence_prob = smoothed_bigram_test_probabilities[idx]\n",
    "    sentence_length = len(sentence)\n",
    "    log_perplex_list.append(-np.log2(sentence_prob)/sentence_length)\n",
    "\n",
    "bigram_lm_perplexity = 2**np.mean(log_perplex_list)\n",
    "\n",
    "print(f\"Bigram language model perplexity is {bigram_lm_perplexity}\")"
   ]
  },
  {
   "cell_type": "markdown",
   "id": "edd753ef",
   "metadata": {
    "id": "edd753ef"
   },
   "source": [
    "Repeat the same steps but for `cleaned_train_dataset` and `cleaned_test_dataset` datasets where rare tokens (with frequency less than 10) are replaced with `<unk>` token. Do we have a better or a worse perplexity compared to the previous computed perplexity?"
   ]
  },
  {
   "cell_type": "code",
   "execution_count": 24,
   "id": "92b98f8b",
   "metadata": {
    "id": "92b98f8b"
   },
   "outputs": [
    {
     "name": "stdout",
     "output_type": "stream",
     "text": [
      "(cleaned) Bigram language model perplexity is 132.1776220087102\n"
     ]
    }
   ],
   "source": [
    "cleaned_word_frequency_dict = Counter(\" \".join([i[\"sentence\"] for i in cleaned_train_dataset]).split())\n",
    "(cleaned_word_prob_dict,\n",
    " cleaned_smoothed_first_order_condition_prob) = get_smoothed_first_order_conditional_probabilities(cleaned_train_dataset, 0.01)\n",
    "\n",
    "# TODO: get smoothed bigram probabilities on the test set\n",
    "# YOUR CODE HERE\n",
    "cleaned_smoothed_bigram_test_probabilities = [smoothed_bigram_lm_seq_probability(sample[\"sentence\"], cleaned_word_prob_dict, cleaned_word_frequency_dict, cleaned_smoothed_first_order_condition_prob, 0.01) for sample in cleaned_test_dataset]\n",
    "\n",
    "log_perplex_list = []\n",
    "for idx in range(len(cleaned_test_dataset)):\n",
    "    # TODO: get sentence log perplexities\n",
    "    # YOUR CODE HERE\n",
    "    sentence = cleaned_test_dataset[idx][\"sentence\"].split()\n",
    "    sentence_prob = cleaned_smoothed_bigram_test_probabilities[idx]\n",
    "    sentence_length = len(sentence)\n",
    "    log_perplex_list.append(-np.log2(sentence_prob)/sentence_length)\n",
    "\n",
    "cleaned_bigram_lm_perplexity = 2**np.mean(log_perplex_list)\n",
    "\n",
    "print(f\"(cleaned) Bigram language model perplexity is {cleaned_bigram_lm_perplexity}\")"
   ]
  },
  {
   "cell_type": "markdown",
   "id": "e2ea844a",
   "metadata": {
    "id": "e2ea844a"
   },
   "source": [
    "## 1.3 Tri-gram Language Model <a name='trigram_lm'></a>\n",
    "In the Tri-gram language model, we pick/generate next token conditioned only on the two previous tokens. Therefore, for an arbitrary sequence $x_1x_2~...x_n$, its respective probability becomes:\n",
    "$$p(x_1x_2~...x_n) = p(x_1) p(x_2|x_1) ~\\Pi_{i=3} ^n p(x_i|x_{i-2}x_{i-1})$$\n",
    "Let's use the same dataset (`Penn Treebank`) to evaluate this model's perplexity. (We use the dataset that already has the `<stop>` token at the end of each sentence).\n",
    "\n",
    "\n",
    "We estimate $p(x_i|x_{i-1}x_{i-2})$ using the Laplace smoothing with $\\alpha=3 \\cdot 10^{-3}$. First let's write a function that computes these conditional probabilities for the Tri-gram language model."
   ]
  },
  {
   "cell_type": "code",
   "execution_count": 33,
   "id": "abdf0b35",
   "metadata": {
    "id": "abdf0b35"
   },
   "outputs": [],
   "source": [
    "def get_smoothed_second_order_conditional_probabilities(train_dataset: datasets.arrow_dataset.Dataset,\n",
    "                                                        smoothing_alpha: float):\n",
    "    '''\n",
    "    In this function the conditional probabilities have to be computed based on train_dataset. The output\n",
    "    of the function is a dictionary having keys like (x_{i-2}, x_{i-1}, x_i) as a tuple and the\n",
    "    value being p(x_i | x_{i-2} x_{i-1}).\n",
    "    args:\n",
    "        train_dataset: a Dataset object that can be iterated to get all the sentences\n",
    "        smoothing_alpha: The alpha parameter used in the Laplace smoothing.\n",
    "    output:\n",
    "        word_prob_dict: a dictionary containing the word probabilities\n",
    "        first_order_condition_prob: a dictionary containing the smoothed first order\n",
    "                                    conditional probabilities.\n",
    "        second_order_condition_prob: a dictionary containing the smoothed second order\n",
    "                                     conditional probabilities.\n",
    "    '''\n",
    "    smoothed_second_order_condition_prob = defaultdict(float)  # Note that we shouldn't get zeros for unseen probabilies.\n",
    "\n",
    "    # let's first get the 0th and 1st order conditional probabilities\n",
    "    (word_prob_dict, first_order_condition_prob) = get_smoothed_first_order_conditional_probabilities(\n",
    "        train_dataset, smoothing_alpha)\n",
    "\n",
    "    # YOUR CODE HERE\n",
    "    all_tokens = \" \".join([i[\"sentence\"] for i in train_dataset]).split()\n",
    "    word_frequency_dict = Counter(all_tokens)\n",
    "    vocab_size = len(word_frequency_dict)\n",
    "    # now let's create all the bigrams in the train_dataset\n",
    "    all_bigrams = []\n",
    "    for sample in train_dataset:\n",
    "        token_list = sample[\"sentence\"].split()\n",
    "        sample_bigrams = [(s1, s2) for s1, s2 in zip(token_list, token_list[1:])]\n",
    "        all_bigrams += sample_bigrams\n",
    "    bigram_frequency_dict = Counter(all_bigrams)\n",
    "\n",
    "    # now let's create all the trigrams in the train_dataset\n",
    "    all_trigrams = []\n",
    "    for sample in train_dataset:\n",
    "        token_list = sample[\"sentence\"].split()\n",
    "        sample_trigrams = [(s1, s2, s3) for s1,s2,s3 in zip(token_list, token_list[1:], token_list[2:])]\n",
    "        all_trigrams += sample_trigrams\n",
    "    trigram_frequency_dict = Counter(all_trigrams)\n",
    "\n",
    "    smoothed_second_order_condition_prob = defaultdict(\n",
    "        float, {(w1,w2,w3): (trigram_freq+smoothing_alpha)/(bigram_frequency_dict[(w1,w2)] +\n",
    "                                                           smoothing_alpha*vocab_size)\n",
    "                for (w1,w2,w3), trigram_freq in trigram_frequency_dict.items()})\n",
    "    \n",
    "    return word_prob_dict, first_order_condition_prob, smoothed_second_order_condition_prob\n"
   ]
  },
  {
   "cell_type": "markdown",
   "id": "936a664f",
   "metadata": {
    "id": "936a664f"
   },
   "source": [
    "#### Now let's analyze the Tri-gram language model for different sequences. We first create a function that can output the probability for a given string."
   ]
  },
  {
   "cell_type": "code",
   "execution_count": 34,
   "id": "3f6a692c",
   "metadata": {
    "id": "3f6a692c"
   },
   "outputs": [],
   "source": [
    "def smoothed_trigram_lm_seq_probability(input_sentence: str,\n",
    "                                        word_prob_dict: dict,\n",
    "                                        word_frequency_dict: dict,\n",
    "                                        bigram_frequency_dict: dict,\n",
    "                                        first_order_condition_prob: dict,\n",
    "                                        second_order_condition_prob: dict,\n",
    "                                        smoothing_alpha: float):\n",
    "    '''\n",
    "    args:\n",
    "        input_sentence: The input sequence string. Here we assume\n",
    "        word_prob_dict: a dictionary containing the word probabilities\n",
    "        word_frequency_dict: a dictionary containing the frequency for every word in vocabulary\n",
    "        bigram_frequency_dict: a dictionary containing the frequency for every bigram in vocabulary\n",
    "        first_order_condition_prob: a dictionary containing the first order conditional probabilities\n",
    "                                    as discussed earlier.\n",
    "        second_order_condition_prob: a dictionary containing the second order conditional probabilities\n",
    "                                     as discussed in the previous function.\n",
    "    output:\n",
    "        probability: The probability of the input_sentence according to the Bi-gram language model\n",
    "    '''\n",
    "\n",
    "    # TODO: compute smoothed trigram sequence probabilities\n",
    "    # YOUR CODE HERE\n",
    "    probability = 1.0\n",
    "    vocab_size = len(word_prob_dict)\n",
    "    token_list = input_sentence.split()\n",
    "    bigram_list = [(s1, s2) for s1, s2 in zip(token_list, token_list[1:])]\n",
    "    trigram_list = [(s1, s2, s3) for s1, s2, s3 in zip(token_list, token_list[1:], token_list[2:])]\n",
    "    probability = np.prod(\n",
    "        [word_prob_dict[token_list[0]]] + [first_order_condition_prob.get(\n",
    "            bigram_list[0], smoothing_alpha / (word_frequency_dict[bigram_list[0][0]] +\n",
    "                                               smoothing_alpha * vocab_size))] + [\n",
    "            second_order_condition_prob.get(trigram,\n",
    "                                            smoothing_alpha / (bigram_frequency_dict[trigram[:2]] +\n",
    "                                                               smoothing_alpha * vocab_size))\n",
    "            for trigram in trigram_list])\n",
    "    return probability"
   ]
  },
  {
   "cell_type": "markdown",
   "id": "16865742",
   "metadata": {
    "id": "16865742"
   },
   "source": [
    "#### Now let's compute the probability for sequences in the test dataset, assuming $\\alpha=3\\cdot10^{-3}$ has been used in the Laplace smoothing."
   ]
  },
  {
   "cell_type": "code",
   "execution_count": 35,
   "id": "36feefd8",
   "metadata": {
    "id": "36feefd8"
   },
   "outputs": [
    {
     "name": "stdout",
     "output_type": "stream",
     "text": [
      "0.0% of samples in the test set have zero probability!\n"
     ]
    }
   ],
   "source": [
    "smoothed_trigram_test_probabilities = []\n",
    "\n",
    "word_frequency_dict = Counter(\" \".join([i[\"sentence\"] for i in ptb_train]).split())\n",
    "\n",
    "all_bigrams = []\n",
    "for sample in ptb_train:\n",
    "    # TODO: get all bigrams\n",
    "    # YOUR CODE HERE\n",
    "    token_list = sample[\"sentence\"].split()\n",
    "    sample_bigrams = [(s1, s2) for s1, s2 in zip(token_list, token_list[1:])]\n",
    "    all_bigrams += sample_bigrams\n",
    "bigram_frequency_dict = Counter(all_bigrams)\n",
    "\n",
    "(word_prob_dict,\n",
    " smoothed_first_order_condition_prob,\n",
    " smoothed_second_order_condition_prob) = get_smoothed_second_order_conditional_probabilities(ptb_train, 3e-3)\n",
    "\n",
    "# TODO: get smoothed trigram probabilities on ptb_test dataset. Set `smoothing_alpha=3e-3`.\n",
    "# YOUR CODE HERE\n",
    "smoothed_trigram_test_probabilities = [smoothed_trigram_lm_seq_probability(sample[\"sentence\"],\n",
    "                                                                           word_prob_dict,\n",
    "                                                                           word_frequency_dict,\n",
    "                                                                           bigram_frequency_dict,\n",
    "                                                                           smoothed_first_order_condition_prob,\n",
    "                                                                           smoothed_second_order_condition_prob, 3e-3) for sample in ptb_test]\n",
    "\n",
    "\n",
    "\n",
    "print(f\"{smoothed_trigram_test_probabilities.count(0)/len(ptb_test)*100}% of samples in the test set have zero probability!\")"
   ]
  },
  {
   "cell_type": "markdown",
   "id": "26ddd040",
   "metadata": {
    "id": "26ddd040"
   },
   "source": [
    "Now we compute the perplexity on the `ptb_test` dataset for the tri-gram language model."
   ]
  },
  {
   "cell_type": "code",
   "execution_count": 36,
   "id": "25ed3d70",
   "metadata": {
    "id": "25ed3d70"
   },
   "outputs": [
    {
     "name": "stdout",
     "output_type": "stream",
     "text": [
      "Trigram language model perplexity is 972.1067321112087\n"
     ]
    }
   ],
   "source": [
    "trigram_lm_perplexity = -1\n",
    "\n",
    "# YOUR CODE HERE\n",
    "log_perplex_list = []\n",
    "for idx in range(len(ptb_test)):\n",
    "    # TODO: get trigram sentence probabilities\n",
    "    # YOUR CODE HERE\n",
    "    sentence_prob = smoothed_trigram_test_probabilities[idx]\n",
    "    if sentence_prob==0:\n",
    "        continue\n",
    "    sentence_length = len(ptb_test[idx][\"sentence\"].split())\n",
    "    log_perplex_list.append(-np.log2(sentence_prob)/sentence_length)\n",
    "trigram_lm_perplexity = 2**np.mean(log_perplex_list)\n",
    "\n",
    "print(f\"Trigram language model perplexity is {trigram_lm_perplexity}\")"
   ]
  },
  {
   "cell_type": "markdown",
   "id": "e34c59c8",
   "metadata": {
    "id": "e34c59c8"
   },
   "source": [
    "Repeat the same steps but for `cleaned_train_dataset` and `cleaned_test_dataset` datasets where rare tokens (with frequency less than 10) are replaced with `<unk>` token. Do we have a better or a worse perplexity compared to the previous computed perplexity?"
   ]
  },
  {
   "cell_type": "code",
   "execution_count": 37,
   "id": "41b456be",
   "metadata": {
    "id": "41b456be"
   },
   "outputs": [
    {
     "name": "stdout",
     "output_type": "stream",
     "text": [
      "(cleaned) Trigram language model perplexity is 514.9146899356747\n"
     ]
    }
   ],
   "source": [
    "cleaned_word_frequency_dict = Counter(\" \".join([i[\"sentence\"] for i in cleaned_train_dataset]).split())\n",
    "\n",
    "all_bigrams = []\n",
    "for sample in cleaned_train_dataset:\n",
    "    # TODO: add all bigrams into `all_bigrams`\n",
    "    # YOUR CODE HERE\n",
    "    token_list = sample[\"sentence\"].split()\n",
    "    sample_bigrams = [(s1, s2) for s1, s2 in zip(token_list, token_list[1:])]\n",
    "    all_bigrams += sample_bigrams\n",
    "cleaned_bigram_frequency_dict = Counter(all_bigrams)\n",
    "\n",
    "\n",
    "(cleaned_word_prob_dict,\n",
    " cleaned_first_order_condition_prob,\n",
    " cleaned_second_order_condition_prob\n",
    ") = get_smoothed_second_order_conditional_probabilities(cleaned_train_dataset, 3e-3)\n",
    "\n",
    "\n",
    "# TODO: get trigram sequence probabilities on `cleaned_test_dataset` using `smoothed_trigram_lm_seq_probability`\n",
    "cleaned_smoothed_trigram_test_probabilities = [smoothed_trigram_lm_seq_probability(sample[\"sentence\"],\n",
    "                                                                           cleaned_word_prob_dict,\n",
    "                                                                           cleaned_word_frequency_dict,\n",
    "                                                                           cleaned_bigram_frequency_dict,\n",
    "                                                                           cleaned_first_order_condition_prob,\n",
    "                                                                           cleaned_second_order_condition_prob, 3e-3) for sample in cleaned_test_dataset]\n",
    "\n",
    "\n",
    "# compute perplexities\n",
    "log_perplex_list = []\n",
    "for idx in range(len(cleaned_test_dataset)):\n",
    "    sentence_prob = cleaned_smoothed_trigram_test_probabilities[idx]\n",
    "    if sentence_prob==0:\n",
    "        continue\n",
    "    sentence_length = len(cleaned_test_dataset[idx][\"sentence\"].split())\n",
    "    log_perplex_list.append(-np.log2(sentence_prob)/sentence_length)\n",
    "cleaned_Trigram_lm_perplexity = 2**np.mean(log_perplex_list)\n",
    "\n",
    "print(f\"(cleaned) Trigram language model perplexity is {cleaned_Trigram_lm_perplexity}\")"
   ]
  },
  {
   "cell_type": "markdown",
   "id": "2d8e69cc",
   "metadata": {
    "id": "2d8e69cc"
   },
   "source": [
    "#### Discussion\n",
    " - How are the three discussed models performance compare to each other?\n",
    " - What is the cost of using N-gram language models for even larger N values?\n",
    " - What is the effect of vocabulary size on models' perplexities? Can we compare models with different vocabulary sizes?\n",
    " - What is the perplexity of a language model (vocabulary size of |V|) that given any context (i.e., $x_1 x_2 ... x_{n-1}$) assigns uniform probabilities (for all the tokens in the vocabulary) for the next token?"
   ]
  },
  {
   "cell_type": "markdown",
   "id": "641578b1",
   "metadata": {
    "id": "641578b1"
   },
   "source": [
    "## 2. Task B: Neural Language Models <a name='neural_lm'></a>\n",
    "\n",
    "In this exercise, we will better understand the functioning of some simple neural language models. We first start with a fixed-window neural language model. In the following subsection, we will investigate an RNN-based language model."
   ]
  },
  {
   "cell_type": "markdown",
   "id": "88cee765",
   "metadata": {
    "id": "88cee765"
   },
   "source": [
    "### 2.1 Fixed-Window Neural Language Model <a name='fixed_window_lm'></a>\n",
    "This language model take as input a constant number of tokens, and then outputs a probability distribution for the next token. In this section, we assume the underlying model is a Multi-layer Perceptron (MLP) with a single hidden layer. This model doesn't have the sparsity issue of N-gram language models, but is always limited to a fixed window of tokens.\n",
    "\n",
    "In this section, we don't include the training of the model but rather we use a pretrained model on the same training dataset. We evaluate the language model over the `ptb_test` dataset, to show the power of neural language models, when compared to N-gram language models.\n",
    "\n",
    "More importantly, we use PyTorch modules in this section, so that you get more familiar with its capabilities. Throughout this exercise, we use a `window_size=3` for this model.\n",
    "\n"
   ]
  },
  {
   "cell_type": "markdown",
   "id": "6808da1e",
   "metadata": {
    "id": "6808da1e"
   },
   "source": [
    "Let's first create a dataset of all consecutive tokens of length `window_size` from the `ptb_train` dataset. you can read more about PyTorch datasets and how to create a custom dataset  [here](https://pytorch.org/tutorials/beginner/basics/data_tutorial.html#creating-a-custom-dataset-for-your-files)."
   ]
  },
  {
   "cell_type": "code",
   "execution_count": 44,
   "id": "70f5c3bf",
   "metadata": {
    "id": "70f5c3bf"
   },
   "outputs": [],
   "source": [
    "from torch.utils.data import Dataset, DataLoader\n",
    "\n",
    "window_size = 3\n",
    "vocabulary_size = 10000\n",
    "word_emb_dim = 100\n",
    "hidden_dim = 100\n",
    "\n",
    "\n",
    "class FixedWindowDataset(Dataset):\n",
    "    # read more about custom datasets at https://pytorch.org/tutorials/beginner/basics/data_tutorial.html\n",
    "    def __init__(self,\n",
    "                 train_dataset: datasets.arrow_dataset.Dataset,\n",
    "                 test_dataset: datasets.arrow_dataset.Dataset,\n",
    "                 window_size: int,\n",
    "                 vocabulary_size: int\n",
    "                ):\n",
    "        self.prepared_train_dataset = self.prepare_fixed_window_lm_dataset(train_dataset, window_size + 1)\n",
    "        self.prepared_test_dataset = self.prepare_fixed_window_lm_dataset(test_dataset, window_size + 1)\n",
    "\n",
    "        dataset_vocab = self.get_dataset_vocabulary(train_dataset)\n",
    "        # defining a dictionary that simply maps tokens to their respective index in the embedding matrix\n",
    "        self.word_to_index = {word: idx for idx,word in enumerate(dataset_vocab)}\n",
    "        self.index_to_word = {idx: word for idx,word in enumerate(dataset_vocab)}\n",
    "\n",
    "        assert vocabulary_size >= len(dataset_vocab) , f\"The dataset vocab size is {len(dataset_vocab)}!\"\n",
    "\n",
    "    def __len__(self):\n",
    "        return len(self.prepared_train_dataset)\n",
    "\n",
    "    def get_encoded_test_samples(self):\n",
    "        all_token_lists = [sample.split() for sample in self.prepared_test_dataset]\n",
    "        all_token_ids = [[self.word_to_index.get(word, self.word_to_index[\"<unk>\"])\n",
    "                          for word in token_list[:-1]]\n",
    "                         for token_list in all_token_lists\n",
    "                        ]\n",
    "        all_next_token_ids = [self.word_to_index.get(token_list[-1], self.word_to_index[\"<unk>\"]) for\n",
    "                              token_list in all_token_lists]\n",
    "        return torch.tensor(all_token_ids), torch.tensor(all_next_token_ids)\n",
    "\n",
    "    def __getitem__(self, idx):\n",
    "        # here we need to transform the data to the format we expect at the model input\n",
    "        token_list = self.prepared_train_dataset[idx].split()\n",
    "        # having a fallback to <unk> token if an unseen word is encoded.\n",
    "        token_ids = [self.word_to_index.get(word, self.word_to_index[\"<unk>\"]) for word in token_list[:-1]]\n",
    "        next_token_id = self.word_to_index.get(token_list[-1], self.word_to_index[\"<unk>\"])\n",
    "        return torch.tensor(token_ids), torch.tensor(next_token_id)\n",
    "\n",
    "    def decode_idx_to_word(self, token_id):\n",
    "        return [self.index_to_word[id_.item()] for id_ in token_id]\n",
    "\n",
    "    def get_dataset_vocabulary(self, train_dataset: datasets.arrow_dataset.Dataset):\n",
    "        vocab = sorted(set(\" \".join([sample[\"sentence\"] for sample in train_dataset]).split()))\n",
    "        # we also add a <start> token to include initial tokens in the sentences in the dataset\n",
    "        vocab += [\"<start>\"]\n",
    "        return vocab\n",
    "\n",
    "    @staticmethod\n",
    "    def prepare_fixed_window_lm_dataset(target_dataset: datasets.arrow_dataset.Dataset,\n",
    "                                        window_size: int):\n",
    "        '''\n",
    "        Please note that for the very first tokens, they will be added like \"<start> <start> Token#1\".\n",
    "        args:\n",
    "            target_dataset: the target dataset where its consecutive tokens of length 'window_size' should be extracted\n",
    "            window_size: the window size for the language model\n",
    "        output:\n",
    "            prepared_dataset: a list of strings each containing 'window_size' tokens.\n",
    "        '''\n",
    "\n",
    "        prepared_dataset = []\n",
    "\n",
    "        # YOUR CODE HERE\n",
    "        # TODO: (1) filter out sequences with length less than `window_size`\n",
    "        #       (2) prepend \"<start>\" tokens at the beginning of sequences\n",
    "        #       (3) add all sub-sequence with length as `window_size` into prepared_dataset\n",
    "        temp_arr = []\n",
    "        for sample in target_dataset:\n",
    "            if len(sample[\"sentence\"].split()) < window_size:\n",
    "                continue\n",
    "            temp_arr = [\"start\"] * (window_size-1) + sample[\"sentence\"].split()\n",
    "\n",
    "            for i in range(len(temp_arr) - window_size + 1):\n",
    "                sub_seq = temp_arr[i:i+window_size]\n",
    "                prepared_dataset.append(\" \".join(sub_seq))\n",
    "\n",
    "        return prepared_dataset\n",
    "\n"
   ]
  },
  {
   "cell_type": "code",
   "execution_count": 45,
   "id": "524f4a18",
   "metadata": {
    "id": "524f4a18"
   },
   "outputs": [],
   "source": [
    "fixed_window_dataset = FixedWindowDataset(ptb_train, ptb_test, window_size, vocabulary_size)\n",
    "\n",
    "# let's create a simple dataloader for this dataset\n",
    "train_dataloader =  DataLoader(fixed_window_dataset, batch_size=8, shuffle=True)"
   ]
  },
  {
   "cell_type": "markdown",
   "id": "5b44e90d",
   "metadata": {
    "id": "5b44e90d"
   },
   "source": [
    "Now, let's define the underlying PyTorch model for the language model. You can read more about PyTorch models [here](https://pytorch.org/tutorials/beginner/introyt/modelsyt_tutorial.html).\n",
    "\n",
    "**Note**: Here in the forward pass, we compute the negative log-likelihood after passing through the MLP layers. Here we use `torch.nn.LogSoftmax`, as it's numerically more stable than doing seperately `softmax` followed by taking its logarithm."
   ]
  },
  {
   "cell_type": "code",
   "execution_count": 48,
   "id": "e3ea691f",
   "metadata": {
    "id": "e3ea691f"
   },
   "outputs": [],
   "source": [
    "import torch.optim as optim\n",
    "\n",
    "class Fixed_window_language_model(torch.nn.Module):\n",
    "    def __init__(self, emb_dim, hidden_dim, window_size, vocab_size=10000):\n",
    "        super().__init__()\n",
    "\n",
    "        self.window_size = window_size\n",
    "        self.emb_dim = emb_dim\n",
    "        self.word_embeddings = torch.nn.Embedding(vocab_size, emb_dim) # word embeddings\n",
    "        self.linear1 = torch.nn.Linear(window_size * emb_dim, hidden_dim) # first linear layer\n",
    "        self.activation_func = torch.tanh # the activation function\n",
    "        self.linear2 = torch.nn.Linear(hidden_dim, vocab_size) # second linear layer\n",
    "\n",
    "        self.log_softmax = torch.nn.LogSoftmax(dim=1)\n",
    "        self.criterion = torch.nn.NLLLoss()\n",
    "\n",
    "    def forward(self, input_ids, labels):\n",
    "        inputs_embeds = self.word_embeddings(input_ids)\n",
    "        concat_input_embed = inputs_embeds.reshape(-1, self.emb_dim * self.window_size)\n",
    "        hidden_state = self.activation_func( self.linear1(concat_input_embed) )\n",
    "        logits = self.log_softmax( self.linear2(hidden_state) )\n",
    "        loss = self.criterion(logits, labels)\n",
    "\n",
    "        return loss\n"
   ]
  },
  {
   "cell_type": "markdown",
   "id": "4dae5397",
   "metadata": {
    "id": "4dae5397"
   },
   "source": [
    "Now let's see how easy it is to train a model with PyTorch! (we provide a trained model in the cell after train, so that you can just start using the model without going through the time-consuming training)"
   ]
  },
  {
   "cell_type": "code",
   "execution_count": 49,
   "id": "93779901",
   "metadata": {
    "id": "93779901"
   },
   "outputs": [],
   "source": [
    "# defining the model\n",
    "model_fixed_window = Fixed_window_language_model(emb_dim=word_emb_dim, hidden_dim=hidden_dim,\n",
    "                                                 window_size=window_size, vocab_size=vocabulary_size)\n",
    "\n",
    "# defining the optimizer\n",
    "optimizer = optim.SGD(model_fixed_window.parameters(),\n",
    "                      lr=0.005,\n",
    "                      momentum=0.9)"
   ]
  },
  {
   "cell_type": "code",
   "execution_count": 50,
   "id": "77626d29",
   "metadata": {
    "id": "77626d29",
    "scrolled": true
   },
   "outputs": [
    {
     "name": "stdout",
     "output_type": "stream",
     "text": [
      "[1,  5000] loss: 6.809\n",
      "[1, 10000] loss: 6.269\n",
      "[1, 15000] loss: 6.148\n"
     ]
    },
    {
     "ename": "KeyboardInterrupt",
     "evalue": "",
     "output_type": "error",
     "traceback": [
      "\u001b[1;31m---------------------------------------------------------------------------\u001b[0m",
      "\u001b[1;31mKeyboardInterrupt\u001b[0m                         Traceback (most recent call last)",
      "Cell \u001b[1;32mIn[50], line 14\u001b[0m\n\u001b[0;32m     12\u001b[0m loss \u001b[38;5;241m=\u001b[39m model_fixed_window(context, target)\n\u001b[0;32m     13\u001b[0m loss\u001b[38;5;241m.\u001b[39mbackward()\n\u001b[1;32m---> 14\u001b[0m \u001b[43moptimizer\u001b[49m\u001b[38;5;241;43m.\u001b[39;49m\u001b[43mstep\u001b[49m\u001b[43m(\u001b[49m\u001b[43m)\u001b[49m\n\u001b[0;32m     16\u001b[0m \u001b[38;5;66;03m# print statistics\u001b[39;00m\n\u001b[0;32m     17\u001b[0m running_loss \u001b[38;5;241m+\u001b[39m\u001b[38;5;241m=\u001b[39m loss\u001b[38;5;241m.\u001b[39mitem()\n",
      "File \u001b[1;32md:\\Anaconda\\envs\\mnlp\\lib\\site-packages\\torch\\optim\\optimizer.py:487\u001b[0m, in \u001b[0;36mOptimizer.profile_hook_step.<locals>.wrapper\u001b[1;34m(*args, **kwargs)\u001b[0m\n\u001b[0;32m    482\u001b[0m         \u001b[38;5;28;01melse\u001b[39;00m:\n\u001b[0;32m    483\u001b[0m             \u001b[38;5;28;01mraise\u001b[39;00m \u001b[38;5;167;01mRuntimeError\u001b[39;00m(\n\u001b[0;32m    484\u001b[0m                 \u001b[38;5;124mf\u001b[39m\u001b[38;5;124m\"\u001b[39m\u001b[38;5;132;01m{\u001b[39;00mfunc\u001b[38;5;132;01m}\u001b[39;00m\u001b[38;5;124m must return None or a tuple of (new_args, new_kwargs), but got \u001b[39m\u001b[38;5;132;01m{\u001b[39;00mresult\u001b[38;5;132;01m}\u001b[39;00m\u001b[38;5;124m.\u001b[39m\u001b[38;5;124m\"\u001b[39m\n\u001b[0;32m    485\u001b[0m             )\n\u001b[1;32m--> 487\u001b[0m out \u001b[38;5;241m=\u001b[39m func(\u001b[38;5;241m*\u001b[39margs, \u001b[38;5;241m*\u001b[39m\u001b[38;5;241m*\u001b[39mkwargs)\n\u001b[0;32m    488\u001b[0m \u001b[38;5;28mself\u001b[39m\u001b[38;5;241m.\u001b[39m_optimizer_step_code()\n\u001b[0;32m    490\u001b[0m \u001b[38;5;66;03m# call optimizer step post hooks\u001b[39;00m\n",
      "File \u001b[1;32md:\\Anaconda\\envs\\mnlp\\lib\\site-packages\\torch\\optim\\optimizer.py:91\u001b[0m, in \u001b[0;36m_use_grad_for_differentiable.<locals>._use_grad\u001b[1;34m(self, *args, **kwargs)\u001b[0m\n\u001b[0;32m     89\u001b[0m     torch\u001b[38;5;241m.\u001b[39mset_grad_enabled(\u001b[38;5;28mself\u001b[39m\u001b[38;5;241m.\u001b[39mdefaults[\u001b[38;5;124m\"\u001b[39m\u001b[38;5;124mdifferentiable\u001b[39m\u001b[38;5;124m\"\u001b[39m])\n\u001b[0;32m     90\u001b[0m     torch\u001b[38;5;241m.\u001b[39m_dynamo\u001b[38;5;241m.\u001b[39mgraph_break()\n\u001b[1;32m---> 91\u001b[0m     ret \u001b[38;5;241m=\u001b[39m func(\u001b[38;5;28mself\u001b[39m, \u001b[38;5;241m*\u001b[39margs, \u001b[38;5;241m*\u001b[39m\u001b[38;5;241m*\u001b[39mkwargs)\n\u001b[0;32m     92\u001b[0m \u001b[38;5;28;01mfinally\u001b[39;00m:\n\u001b[0;32m     93\u001b[0m     torch\u001b[38;5;241m.\u001b[39m_dynamo\u001b[38;5;241m.\u001b[39mgraph_break()\n",
      "File \u001b[1;32md:\\Anaconda\\envs\\mnlp\\lib\\site-packages\\torch\\optim\\sgd.py:123\u001b[0m, in \u001b[0;36mSGD.step\u001b[1;34m(self, closure)\u001b[0m\n\u001b[0;32m    117\u001b[0m momentum_buffer_list: List[Optional[Tensor]] \u001b[38;5;241m=\u001b[39m []\n\u001b[0;32m    119\u001b[0m has_sparse_grad \u001b[38;5;241m=\u001b[39m \u001b[38;5;28mself\u001b[39m\u001b[38;5;241m.\u001b[39m_init_group(\n\u001b[0;32m    120\u001b[0m     group, params, grads, momentum_buffer_list\n\u001b[0;32m    121\u001b[0m )\n\u001b[1;32m--> 123\u001b[0m \u001b[43msgd\u001b[49m\u001b[43m(\u001b[49m\n\u001b[0;32m    124\u001b[0m \u001b[43m    \u001b[49m\u001b[43mparams\u001b[49m\u001b[43m,\u001b[49m\n\u001b[0;32m    125\u001b[0m \u001b[43m    \u001b[49m\u001b[43mgrads\u001b[49m\u001b[43m,\u001b[49m\n\u001b[0;32m    126\u001b[0m \u001b[43m    \u001b[49m\u001b[43mmomentum_buffer_list\u001b[49m\u001b[43m,\u001b[49m\n\u001b[0;32m    127\u001b[0m \u001b[43m    \u001b[49m\u001b[43mweight_decay\u001b[49m\u001b[38;5;241;43m=\u001b[39;49m\u001b[43mgroup\u001b[49m\u001b[43m[\u001b[49m\u001b[38;5;124;43m\"\u001b[39;49m\u001b[38;5;124;43mweight_decay\u001b[39;49m\u001b[38;5;124;43m\"\u001b[39;49m\u001b[43m]\u001b[49m\u001b[43m,\u001b[49m\n\u001b[0;32m    128\u001b[0m \u001b[43m    \u001b[49m\u001b[43mmomentum\u001b[49m\u001b[38;5;241;43m=\u001b[39;49m\u001b[43mgroup\u001b[49m\u001b[43m[\u001b[49m\u001b[38;5;124;43m\"\u001b[39;49m\u001b[38;5;124;43mmomentum\u001b[39;49m\u001b[38;5;124;43m\"\u001b[39;49m\u001b[43m]\u001b[49m\u001b[43m,\u001b[49m\n\u001b[0;32m    129\u001b[0m \u001b[43m    \u001b[49m\u001b[43mlr\u001b[49m\u001b[38;5;241;43m=\u001b[39;49m\u001b[43mgroup\u001b[49m\u001b[43m[\u001b[49m\u001b[38;5;124;43m\"\u001b[39;49m\u001b[38;5;124;43mlr\u001b[39;49m\u001b[38;5;124;43m\"\u001b[39;49m\u001b[43m]\u001b[49m\u001b[43m,\u001b[49m\n\u001b[0;32m    130\u001b[0m \u001b[43m    \u001b[49m\u001b[43mdampening\u001b[49m\u001b[38;5;241;43m=\u001b[39;49m\u001b[43mgroup\u001b[49m\u001b[43m[\u001b[49m\u001b[38;5;124;43m\"\u001b[39;49m\u001b[38;5;124;43mdampening\u001b[39;49m\u001b[38;5;124;43m\"\u001b[39;49m\u001b[43m]\u001b[49m\u001b[43m,\u001b[49m\n\u001b[0;32m    131\u001b[0m \u001b[43m    \u001b[49m\u001b[43mnesterov\u001b[49m\u001b[38;5;241;43m=\u001b[39;49m\u001b[43mgroup\u001b[49m\u001b[43m[\u001b[49m\u001b[38;5;124;43m\"\u001b[39;49m\u001b[38;5;124;43mnesterov\u001b[39;49m\u001b[38;5;124;43m\"\u001b[39;49m\u001b[43m]\u001b[49m\u001b[43m,\u001b[49m\n\u001b[0;32m    132\u001b[0m \u001b[43m    \u001b[49m\u001b[43mmaximize\u001b[49m\u001b[38;5;241;43m=\u001b[39;49m\u001b[43mgroup\u001b[49m\u001b[43m[\u001b[49m\u001b[38;5;124;43m\"\u001b[39;49m\u001b[38;5;124;43mmaximize\u001b[39;49m\u001b[38;5;124;43m\"\u001b[39;49m\u001b[43m]\u001b[49m\u001b[43m,\u001b[49m\n\u001b[0;32m    133\u001b[0m \u001b[43m    \u001b[49m\u001b[43mhas_sparse_grad\u001b[49m\u001b[38;5;241;43m=\u001b[39;49m\u001b[43mhas_sparse_grad\u001b[49m\u001b[43m,\u001b[49m\n\u001b[0;32m    134\u001b[0m \u001b[43m    \u001b[49m\u001b[43mforeach\u001b[49m\u001b[38;5;241;43m=\u001b[39;49m\u001b[43mgroup\u001b[49m\u001b[43m[\u001b[49m\u001b[38;5;124;43m\"\u001b[39;49m\u001b[38;5;124;43mforeach\u001b[39;49m\u001b[38;5;124;43m\"\u001b[39;49m\u001b[43m]\u001b[49m\u001b[43m,\u001b[49m\n\u001b[0;32m    135\u001b[0m \u001b[43m    \u001b[49m\u001b[43mfused\u001b[49m\u001b[38;5;241;43m=\u001b[39;49m\u001b[43mgroup\u001b[49m\u001b[43m[\u001b[49m\u001b[38;5;124;43m\"\u001b[39;49m\u001b[38;5;124;43mfused\u001b[39;49m\u001b[38;5;124;43m\"\u001b[39;49m\u001b[43m]\u001b[49m\u001b[43m,\u001b[49m\n\u001b[0;32m    136\u001b[0m \u001b[43m    \u001b[49m\u001b[43mgrad_scale\u001b[49m\u001b[38;5;241;43m=\u001b[39;49m\u001b[38;5;28;43mgetattr\u001b[39;49m\u001b[43m(\u001b[49m\u001b[38;5;28;43mself\u001b[39;49m\u001b[43m,\u001b[49m\u001b[43m \u001b[49m\u001b[38;5;124;43m\"\u001b[39;49m\u001b[38;5;124;43mgrad_scale\u001b[39;49m\u001b[38;5;124;43m\"\u001b[39;49m\u001b[43m,\u001b[49m\u001b[43m \u001b[49m\u001b[38;5;28;43;01mNone\u001b[39;49;00m\u001b[43m)\u001b[49m\u001b[43m,\u001b[49m\n\u001b[0;32m    137\u001b[0m \u001b[43m    \u001b[49m\u001b[43mfound_inf\u001b[49m\u001b[38;5;241;43m=\u001b[39;49m\u001b[38;5;28;43mgetattr\u001b[39;49m\u001b[43m(\u001b[49m\u001b[38;5;28;43mself\u001b[39;49m\u001b[43m,\u001b[49m\u001b[43m \u001b[49m\u001b[38;5;124;43m\"\u001b[39;49m\u001b[38;5;124;43mfound_inf\u001b[39;49m\u001b[38;5;124;43m\"\u001b[39;49m\u001b[43m,\u001b[49m\u001b[43m \u001b[49m\u001b[38;5;28;43;01mNone\u001b[39;49;00m\u001b[43m)\u001b[49m\u001b[43m,\u001b[49m\n\u001b[0;32m    138\u001b[0m \u001b[43m\u001b[49m\u001b[43m)\u001b[49m\n\u001b[0;32m    140\u001b[0m \u001b[38;5;28;01mif\u001b[39;00m group[\u001b[38;5;124m\"\u001b[39m\u001b[38;5;124mmomentum\u001b[39m\u001b[38;5;124m\"\u001b[39m] \u001b[38;5;241m!=\u001b[39m \u001b[38;5;241m0\u001b[39m:\n\u001b[0;32m    141\u001b[0m     \u001b[38;5;66;03m# update momentum_buffers in state\u001b[39;00m\n\u001b[0;32m    142\u001b[0m     \u001b[38;5;28;01mfor\u001b[39;00m p, momentum_buffer \u001b[38;5;129;01min\u001b[39;00m \u001b[38;5;28mzip\u001b[39m(params, momentum_buffer_list):\n",
      "File \u001b[1;32md:\\Anaconda\\envs\\mnlp\\lib\\site-packages\\torch\\optim\\sgd.py:298\u001b[0m, in \u001b[0;36msgd\u001b[1;34m(params, d_p_list, momentum_buffer_list, has_sparse_grad, foreach, fused, grad_scale, found_inf, weight_decay, momentum, lr, dampening, nesterov, maximize)\u001b[0m\n\u001b[0;32m    295\u001b[0m \u001b[38;5;28;01melse\u001b[39;00m:\n\u001b[0;32m    296\u001b[0m     func \u001b[38;5;241m=\u001b[39m _single_tensor_sgd\n\u001b[1;32m--> 298\u001b[0m \u001b[43mfunc\u001b[49m\u001b[43m(\u001b[49m\n\u001b[0;32m    299\u001b[0m \u001b[43m    \u001b[49m\u001b[43mparams\u001b[49m\u001b[43m,\u001b[49m\n\u001b[0;32m    300\u001b[0m \u001b[43m    \u001b[49m\u001b[43md_p_list\u001b[49m\u001b[43m,\u001b[49m\n\u001b[0;32m    301\u001b[0m \u001b[43m    \u001b[49m\u001b[43mmomentum_buffer_list\u001b[49m\u001b[43m,\u001b[49m\n\u001b[0;32m    302\u001b[0m \u001b[43m    \u001b[49m\u001b[43mweight_decay\u001b[49m\u001b[38;5;241;43m=\u001b[39;49m\u001b[43mweight_decay\u001b[49m\u001b[43m,\u001b[49m\n\u001b[0;32m    303\u001b[0m \u001b[43m    \u001b[49m\u001b[43mmomentum\u001b[49m\u001b[38;5;241;43m=\u001b[39;49m\u001b[43mmomentum\u001b[49m\u001b[43m,\u001b[49m\n\u001b[0;32m    304\u001b[0m \u001b[43m    \u001b[49m\u001b[43mlr\u001b[49m\u001b[38;5;241;43m=\u001b[39;49m\u001b[43mlr\u001b[49m\u001b[43m,\u001b[49m\n\u001b[0;32m    305\u001b[0m \u001b[43m    \u001b[49m\u001b[43mdampening\u001b[49m\u001b[38;5;241;43m=\u001b[39;49m\u001b[43mdampening\u001b[49m\u001b[43m,\u001b[49m\n\u001b[0;32m    306\u001b[0m \u001b[43m    \u001b[49m\u001b[43mnesterov\u001b[49m\u001b[38;5;241;43m=\u001b[39;49m\u001b[43mnesterov\u001b[49m\u001b[43m,\u001b[49m\n\u001b[0;32m    307\u001b[0m \u001b[43m    \u001b[49m\u001b[43mhas_sparse_grad\u001b[49m\u001b[38;5;241;43m=\u001b[39;49m\u001b[43mhas_sparse_grad\u001b[49m\u001b[43m,\u001b[49m\n\u001b[0;32m    308\u001b[0m \u001b[43m    \u001b[49m\u001b[43mmaximize\u001b[49m\u001b[38;5;241;43m=\u001b[39;49m\u001b[43mmaximize\u001b[49m\u001b[43m,\u001b[49m\n\u001b[0;32m    309\u001b[0m \u001b[43m    \u001b[49m\u001b[43mgrad_scale\u001b[49m\u001b[38;5;241;43m=\u001b[39;49m\u001b[43mgrad_scale\u001b[49m\u001b[43m,\u001b[49m\n\u001b[0;32m    310\u001b[0m \u001b[43m    \u001b[49m\u001b[43mfound_inf\u001b[49m\u001b[38;5;241;43m=\u001b[39;49m\u001b[43mfound_inf\u001b[49m\u001b[43m,\u001b[49m\n\u001b[0;32m    311\u001b[0m \u001b[43m\u001b[49m\u001b[43m)\u001b[49m\n",
      "File \u001b[1;32md:\\Anaconda\\envs\\mnlp\\lib\\site-packages\\torch\\optim\\sgd.py:344\u001b[0m, in \u001b[0;36m_single_tensor_sgd\u001b[1;34m(params, grads, momentum_buffer_list, grad_scale, found_inf, weight_decay, momentum, lr, dampening, nesterov, maximize, has_sparse_grad)\u001b[0m\n\u001b[0;32m    342\u001b[0m     momentum_buffer_list[i] \u001b[38;5;241m=\u001b[39m buf\n\u001b[0;32m    343\u001b[0m \u001b[38;5;28;01melse\u001b[39;00m:\n\u001b[1;32m--> 344\u001b[0m     \u001b[43mbuf\u001b[49m\u001b[38;5;241;43m.\u001b[39;49m\u001b[43mmul_\u001b[49m\u001b[43m(\u001b[49m\u001b[43mmomentum\u001b[49m\u001b[43m)\u001b[49m\u001b[38;5;241;43m.\u001b[39;49m\u001b[43madd_\u001b[49m\u001b[43m(\u001b[49m\u001b[43mgrad\u001b[49m\u001b[43m,\u001b[49m\u001b[43m \u001b[49m\u001b[43malpha\u001b[49m\u001b[38;5;241;43m=\u001b[39;49m\u001b[38;5;241;43m1\u001b[39;49m\u001b[43m \u001b[49m\u001b[38;5;241;43m-\u001b[39;49m\u001b[43m \u001b[49m\u001b[43mdampening\u001b[49m\u001b[43m)\u001b[49m\n\u001b[0;32m    346\u001b[0m \u001b[38;5;28;01mif\u001b[39;00m nesterov:\n\u001b[0;32m    347\u001b[0m     grad \u001b[38;5;241m=\u001b[39m grad\u001b[38;5;241m.\u001b[39madd(buf, alpha\u001b[38;5;241m=\u001b[39mmomentum)\n",
      "\u001b[1;31mKeyboardInterrupt\u001b[0m: "
     ]
    }
   ],
   "source": [
    "for epoch in range(2):  # loop over the dataset multiple times\n",
    "\n",
    "    running_loss = 0.0\n",
    "    for i, data in enumerate(train_dataloader):\n",
    "        # get the inputs; data is a tuple of (context, target)\n",
    "        context, target = data\n",
    "\n",
    "        # zero the parameter gradients\n",
    "        optimizer.zero_grad()\n",
    "\n",
    "        # forward + backward + optimize\n",
    "        loss = model_fixed_window(context, target)\n",
    "        loss.backward()\n",
    "        optimizer.step()\n",
    "\n",
    "        # print statistics\n",
    "        running_loss += loss.item()\n",
    "        if i % 5000 == 4999. :    # print every 5000 mini-batches\n",
    "            print(f'[{epoch + 1}, {i + 1:5d}] loss: {running_loss / 5000:.3f}')\n",
    "            running_loss = 0.0\n",
    "\n",
    "print('Finished Training')\n",
    "\n",
    "# saving the trained model\n",
    "torch.save(model_fixed_window.state_dict(), \"fixed_window_model.pt\")"
   ]
  },
  {
   "cell_type": "markdown",
   "id": "0483dd01",
   "metadata": {
    "id": "0483dd01"
   },
   "source": [
    "We provide a trained model, so that you can start using it right away"
   ]
  },
  {
   "cell_type": "code",
   "execution_count": 51,
   "id": "54ba51b1",
   "metadata": {
    "id": "54ba51b1"
   },
   "outputs": [
    {
     "name": "stderr",
     "output_type": "stream",
     "text": [
      "C:\\Users\\thier\\AppData\\Local\\Temp\\ipykernel_16368\\2626317764.py:2: FutureWarning: You are using `torch.load` with `weights_only=False` (the current default value), which uses the default pickle module implicitly. It is possible to construct malicious pickle data which will execute arbitrary code during unpickling (See https://github.com/pytorch/pytorch/blob/main/SECURITY.md#untrusted-models for more details). In a future release, the default value for `weights_only` will be flipped to `True`. This limits the functions that could be executed during unpickling. Arbitrary objects will no longer be allowed to be loaded via this mode unless they are explicitly allowlisted by the user via `torch.serialization.add_safe_globals`. We recommend you start setting `weights_only=True` for any use case where you don't have full control of the loaded file. Please open an issue on GitHub for any issues related to this experimental feature.\n",
      "  model_fixed_window.load_state_dict(torch.load(fixed_window_checkpoint_file))\n"
     ]
    },
    {
     "data": {
      "text/plain": [
       "<All keys matched successfully>"
      ]
     },
     "execution_count": 51,
     "metadata": {},
     "output_type": "execute_result"
    }
   ],
   "source": [
    "fixed_window_checkpoint_file = \"fixed_window_model.pt\"\n",
    "model_fixed_window.load_state_dict(torch.load(fixed_window_checkpoint_file))"
   ]
  },
  {
   "cell_type": "code",
   "execution_count": 52,
   "id": "b806f375",
   "metadata": {
    "id": "b806f375"
   },
   "outputs": [],
   "source": [
    "# context and 'target' ids (target is the next word after the context)\n",
    "test_token_ids, test_target_ids = fixed_window_dataset.get_encoded_test_samples()"
   ]
  },
  {
   "cell_type": "markdown",
   "id": "f87e283d",
   "metadata": {
    "id": "f87e283d"
   },
   "source": [
    "We now have the `test_token_ids`, `test_target_ids` tensors for the test dataset. The `test_token_ids` are the context ids and `test_target_ids` are the respective **next token** (a.k.a. target here) for these contexts.\n",
    "#### Using the trained model, implement a function that can output the loss for the discussed test dataset. How can we generally decide if the model is overfitted to the train dataset or not?"
   ]
  },
  {
   "cell_type": "code",
   "execution_count": 54,
   "id": "e352e019",
   "metadata": {
    "id": "e352e019"
   },
   "outputs": [
    {
     "name": "stdout",
     "output_type": "stream",
     "text": [
      "Test dataset loss is 9.210243927830495\n"
     ]
    }
   ],
   "source": [
    "def generate_test_dataset_loss(model: torch.nn.Module,\n",
    "                               test_token_ids: torch.Tensor,\n",
    "                               test_target_ids: torch.Tensor):\n",
    "    '''\n",
    "    args:\n",
    "        model: fixed-window language model\n",
    "        test_token_ids: the context ids in a single tensor.\n",
    "        test_target_ids: the target ids (next token after the context) in a single tensor.\n",
    "    output:\n",
    "        avg_test_loss: The average loss of model over test dataset.\n",
    "    '''\n",
    "    batch_size = 4\n",
    "    test_loss = []\n",
    "\n",
    "\n",
    "\n",
    "    # YOUR CODE HERE\n",
    "    with torch.no_grad():\n",
    "        for data_idx in range(0, test_token_ids.shape[0], batch_size):\n",
    "            context_batch = test_token_ids[data_idx: data_idx+batch_size]\n",
    "            target = test_target_ids[data_idx: data_idx+batch_size]\n",
    "            batch_loss = model(context_batch, target)\n",
    "            test_loss.append(batch_loss.item())  \n",
    "\n",
    "    avg_test_loss = np.mean(np.array(test_loss))\n",
    "    return avg_test_loss\n",
    "\n",
    "\n",
    "test_dataset_loss = generate_test_dataset_loss(model_fixed_window, test_token_ids, test_target_ids)\n",
    "print(f\"Test dataset loss is {test_dataset_loss}\")"
   ]
  },
  {
   "cell_type": "markdown",
   "id": "085d7476",
   "metadata": {
    "id": "085d7476"
   },
   "source": [
    "#### Using the trained fixed-window model, implement a function that can output entropy for a given sequence."
   ]
  },
  {
   "cell_type": "code",
   "execution_count": 64,
   "id": "db54e454",
   "metadata": {
    "id": "db54e454"
   },
   "outputs": [],
   "source": [
    "def get_seqeuence_entropy_fixed_window_lm(model: torch.nn.Module,\n",
    "                                              input_sequence: str,\n",
    "                                              window_size: int,\n",
    "                                              word_to_idx: dict):\n",
    "    '''\n",
    "    Note that e.g., in order to get the first token probability, you need to pass a sequence\n",
    "    like \"<start> <start> <start>\" (prefix padding) to the neural model. In a similar fashion, we need to pass\n",
    "    \"<start> <start> TOKEN#1\" for getting the probability of the second token.\n",
    "    args:\n",
    "        model: fixed-window language model\n",
    "        input_sequence: the sequence for which we want to calculate the probability\n",
    "        window_size: the size of window for the language model\n",
    "        word_to_idx: a mapping from words to the embedding indices (to encode tokens before being\n",
    "                     passed to model). You can get this dict from 'fixed_window_dataset.word_to_index'\n",
    "    output:\n",
    "        sequence_entropy: the entropy for the input sequence using the trained model\n",
    "    '''\n",
    "    modified_sentence = \"<start> \" * (window_size) + input_sequence\n",
    "\n",
    "    token_list = modified_sentence.split()\n",
    "    encoded_context = []\n",
    "    encoded_target = []\n",
    "\n",
    "    for idx in range(len(token_list)-window_size):\n",
    "        # TODO: add items into encoded_context and encoded_target.\n",
    "        # YOUR CODE HERE\n",
    "        encoded_context.append([word_to_idx.get(token, word_to_idx[\"<unk>\"]) for token in token_list[idx: idx+window_size]])\n",
    "        encoded_target.append(word_to_idx.get(token_list[idx+window_size], word_to_idx[\"<unk>\"]))\n",
    "\n",
    "    encoded_context = torch.tensor(encoded_context)\n",
    "    encoded_target = torch.tensor(encoded_target)\n",
    "\n",
    "    # TODO: passing the context (and respective labels) to the fixed-window LM to get average NLL.\n",
    "    # YOUR CODE HERE\n",
    "    with torch.no_grad():\n",
    "        sequence_entropy = model(encoded_context, encoded_target).item()\n",
    "\n",
    "    return sequence_entropy"
   ]
  },
  {
   "cell_type": "markdown",
   "id": "7d055835",
   "metadata": {
    "id": "7d055835"
   },
   "source": [
    "#### Compute the perplexity for the trained fixed-window language model over `ptb_test` dataset using the previous function. How does it perform compared to N-gram language models we discussed earlier?"
   ]
  },
  {
   "cell_type": "code",
   "execution_count": 68,
   "id": "f4289886",
   "metadata": {
    "id": "f4289886"
   },
   "outputs": [
    {
     "name": "stdout",
     "output_type": "stream",
     "text": [
      "[8.345505714416504, 7.371189594268799, 9.331400871276855, 9.733869552612305, 9.615859031677246, 8.861977577209473, 10.299630165100098, 8.809903144836426, 5.265365123748779, 8.69896125793457, 9.866593360900879, 9.928912162780762, 6.654778957366943, 8.643370628356934, 9.595907211303711, 10.430794715881348, 9.055671691894531, 9.78360652923584, 8.540604591369629, 9.768094062805176, 9.45866584777832, 9.558699607849121, 8.484939575195312, 9.355189323425293, 8.493136405944824, 9.029664993286133, 9.831574440002441, 7.815115928649902, 10.560457229614258, 9.495078086853027, 9.580010414123535, 9.60982894897461, 9.674156188964844, 8.187357902526855, 9.43873119354248, 9.755729675292969, 9.811992645263672, 9.035346031188965, 8.74454402923584, 9.506258010864258, 8.509140968322754, 8.617437362670898, 9.698465347290039, 9.280695915222168, 7.22067403793335, 9.419658660888672, 9.045220375061035, 8.568256378173828, 9.310054779052734, 8.998736381530762, 7.904892921447754, 9.093510627746582, 9.167625427246094, 10.140693664550781, 10.35718059539795, 9.152692794799805, 10.276382446289062, 10.06717586517334, 9.212349891662598, 10.302484512329102, 10.052762985229492, 7.482964992523193, 8.646001815795898, 9.544364929199219, 8.543097496032715, 9.232057571411133, 7.45121431350708, 9.030976295471191, 8.32271671295166, 8.809454917907715, 7.915871620178223, 6.49972677230835, 7.486950874328613, 9.771984100341797, 7.837777137756348, 9.39875316619873, 7.529972076416016, 8.834104537963867, 7.421918869018555, 9.397871971130371, 8.423994064331055, 10.621377944946289, 8.448894500732422, 8.649591445922852, 9.155668258666992, 8.601688385009766, 8.788459777832031, 10.968337059020996, 8.239763259887695, 9.986595153808594, 9.178823471069336, 7.731486797332764, 8.484750747680664, 9.728243827819824, 8.84188175201416, 9.446127891540527, 9.19410514831543, 9.292003631591797, 9.637155532836914, 9.455301284790039, 8.068559646606445, 10.409295082092285, 10.034736633300781, 10.133984565734863, 9.87074089050293, 9.054889678955078, 10.071714401245117, 9.321675300598145, 8.368488311767578, 10.142919540405273, 8.948060989379883, 9.238871574401855, 9.861085891723633, 9.797138214111328, 9.941219329833984, 8.823527336120605, 9.312772750854492, 8.895517349243164, 8.606745719909668, 9.655394554138184, 7.946582794189453, 6.871766567230225, 8.482274055480957, 8.753482818603516, 9.381481170654297, 10.102815628051758, 8.426348686218262, 9.7710599899292, 9.159804344177246, 10.14481258392334, 9.185158729553223, 9.519848823547363, 9.21159553527832, 8.497207641601562, 9.143881797790527, 8.636287689208984, 8.756928443908691, 7.982675075531006, 10.353318214416504, 8.420900344848633, 8.675341606140137, 9.81222152709961, 8.863983154296875, 9.11025333404541, 5.950520038604736, 10.186667442321777, 10.068490028381348, 9.09212589263916, 9.970937728881836, 9.102042198181152, 8.330142974853516, 10.702235221862793, 8.805062294006348, 9.280952453613281, 9.595237731933594, 9.217304229736328, 10.128413200378418, 9.808699607849121, 6.836157321929932, 9.41211986541748, 9.797497749328613, 11.03464412689209, 10.33685302734375, 8.742927551269531, 8.300731658935547, 9.01967716217041, 10.189467430114746, 8.948709487915039, 8.986218452453613, 9.227397918701172, 9.711189270019531, 7.96675443649292, 9.536981582641602, 9.504549026489258, 9.116021156311035, 9.536358833312988, 6.472455024719238, 8.659934997558594, 6.200797080993652, 7.0936503410339355, 8.082900047302246, 8.99345874786377, 6.81589412689209, 9.325993537902832, 8.644393920898438, 8.567483901977539, 10.04538345336914, 6.784340858459473, 8.525964736938477, 9.317085266113281, 9.468476295471191, 9.269463539123535, 9.858709335327148, 8.693537712097168, 10.436516761779785, 9.906739234924316, 10.044211387634277, 5.886770248413086, 9.312836647033691, 7.630764007568359, 10.216507911682129, 8.343147277832031, 9.404324531555176, 8.732345581054688, 8.977018356323242, 9.361648559570312, 10.440387725830078, 10.2451753616333, 9.556256294250488, 10.207816123962402, 7.434940814971924, 9.008713722229004, 10.362398147583008, 8.608318328857422, 9.545787811279297, 8.657519340515137, 8.712447166442871, 9.363521575927734, 9.378837585449219, 8.598804473876953, 9.224956512451172, 8.616240501403809, 9.098733901977539, 9.477913856506348, 9.45115852355957, 9.243510246276855, 9.735128402709961, 10.101663589477539, 8.226311683654785, 9.771700859069824, 9.502610206604004, 9.653264045715332, 9.115150451660156, 9.41338062286377, 9.3015775680542, 8.083259582519531, 9.653938293457031, 9.457326889038086, 9.787895202636719, 9.218132972717285, 9.905448913574219, 10.758445739746094, 9.546377182006836, 9.51619815826416, 10.66181468963623, 9.030871391296387, 9.689916610717773, 7.90700626373291, 8.698511123657227, 7.317528247833252, 8.105561256408691, 10.207467079162598, 9.756917953491211, 10.063514709472656, 9.604076385498047, 8.347295761108398, 10.301115036010742, 9.853693962097168, 9.338336944580078, 8.44286060333252, 9.275593757629395, 9.063535690307617, 9.922287940979004, 9.795735359191895, 9.332479476928711, 6.229288101196289, 9.451473236083984, 9.318521499633789, 9.875265121459961, 8.346648216247559, 8.830360412597656, 10.307650566101074, 8.360852241516113, 9.055627822875977, 10.218426704406738, 9.4680814743042, 9.873558044433594, 9.862537384033203, 9.762927055358887, 10.15841293334961, 8.1898775100708, 7.736459255218506, 9.164129257202148, 9.269160270690918, 10.16786003112793, 8.867294311523438, 8.500147819519043, 5.649240970611572, 10.219439506530762, 9.141213417053223, 9.21846866607666, 10.23349380493164, 8.795413970947266, 9.455364227294922, 9.246238708496094, 9.204618453979492, 9.704651832580566, 8.876110076904297, 9.155576705932617, 10.105549812316895, 7.44866943359375, 9.869961738586426, 9.325270652770996, 8.999515533447266, 8.849817276000977, 8.565279960632324, 10.192021369934082, 8.577719688415527, 10.090105056762695, 9.734468460083008, 8.889745712280273, 9.205347061157227, 9.027334213256836, 9.730316162109375, 8.387079238891602, 8.834148406982422, 10.07970905303955, 9.860243797302246, 9.705963134765625, 9.98621940612793, 9.181862831115723, 8.01152515411377, 10.150679588317871, 10.454949378967285, 9.129833221435547, 9.276634216308594, 9.257523536682129, 9.06436538696289, 8.715389251708984, 9.398775100708008, 8.513137817382812, 9.5527982711792, 10.272501945495605, 9.773774147033691, 7.506420612335205, 9.191995620727539, 9.724425315856934, 8.75915241241455, 9.364659309387207, 8.641413688659668, 9.926405906677246, 9.389055252075195, 10.844277381896973, 6.93089485168457, 8.822575569152832, 10.913410186767578, 5.94101619720459, 8.231244087219238, 9.581794738769531, 8.926372528076172, 9.063226699829102, 8.492177963256836, 10.441574096679688, 8.858797073364258, 9.164173126220703, 9.385116577148438, 9.808932304382324, 10.171509742736816, 9.553454399108887, 8.739104270935059, 10.036103248596191, 4.134942054748535, 9.78292465209961, 10.175302505493164, 10.807226181030273, 7.109044551849365, 8.9044828414917, 9.542430877685547, 8.74563980102539, 10.550403594970703, 10.207816123962402, 8.692887306213379, 9.794546127319336, 10.059212684631348, 9.75855827331543, 10.940998077392578, 7.146449565887451, 10.53906536102295, 8.982816696166992, 10.03451156616211, 9.85846996307373, 7.369786739349365, 10.277569770812988, 9.93959903717041, 9.780119895935059, 7.593627452850342, 9.909026145935059, 8.428893089294434, 8.770641326904297, 8.145727157592773, 7.892441749572754, 8.546013832092285, 8.19119930267334, 8.528800010681152, 9.825862884521484, 8.113309860229492, 8.85779094696045, 9.130674362182617, 9.971957206726074, 9.706636428833008, 9.46250057220459, 7.7926788330078125, 9.574369430541992, 8.793635368347168, 9.21323299407959, 8.302692413330078, 7.683422565460205, 9.738139152526855, 9.657570838928223, 10.009926795959473, 9.181167602539062, 10.766731262207031, 10.1392240524292, 9.124324798583984, 8.038006782531738, 8.015504837036133, 10.305088996887207, 9.09869384765625, 10.606573104858398, 10.045218467712402, 7.969180583953857, 9.440814018249512, 9.181249618530273, 10.421361923217773, 9.607685089111328, 8.743722915649414, 9.630191802978516, 9.781250953674316, 9.80276870727539, 9.661932945251465, 9.785848617553711, 9.546737670898438, 8.961528778076172, 7.005776882171631, 10.971963882446289, 8.042104721069336, 8.992705345153809, 8.928104400634766, 8.729748725891113, 8.85709285736084, 9.34320068359375, 9.11237621307373, 5.851555824279785, 9.174759864807129, 8.985115051269531, 10.101369857788086, 10.434950828552246, 8.57018756866455, 9.617483139038086, 8.406744956970215, 8.824477195739746, 10.306182861328125, 7.669647693634033, 9.09334659576416, 7.700146198272705, 9.128405570983887, 9.140218734741211, 10.329520225524902, 9.070388793945312, 9.530987739562988, 9.42991828918457, 8.089153289794922, 8.32013988494873, 8.518515586853027, 9.602666854858398, 9.878073692321777, 10.160469055175781, 9.87010383605957, 9.724593162536621, 9.730965614318848, 9.426127433776855, 7.655588150024414, 9.06173324584961, 8.433698654174805, 8.904292106628418, 8.55910587310791, 9.646842002868652, 9.761199951171875, 9.267996788024902, 9.156049728393555, 9.468218803405762, 9.512371063232422, 9.159598350524902, 7.365809917449951, 8.162651062011719, 7.664493083953857, 8.9058198928833, 9.336287498474121, 10.21940803527832, 10.12155818939209, 9.148303031921387, 10.568485260009766, 9.518237113952637, 9.716094017028809, 9.533344268798828, 8.99641227722168, 7.5301899909973145, 8.12855339050293, 10.049277305603027, 8.896565437316895, 8.988597869873047, 8.232662200927734, 8.11178207397461, 8.673367500305176, 9.05126953125, 7.9480743408203125, 9.240357398986816, 8.169638633728027, 9.671571731567383, 9.050248146057129, 9.14748764038086, 10.381611824035645, 10.519882202148438, 9.401558876037598, 7.271409511566162, 9.252357482910156, 8.745059967041016, 9.001752853393555, 9.549003601074219, 5.927870750427246, 9.019968032836914, 7.814003944396973, 9.498174667358398, 8.517709732055664, 8.169288635253906, 8.90262222290039, 7.5820794105529785, 9.414387702941895, 8.500917434692383, 9.783215522766113, 9.555102348327637, 9.129277229309082, 8.899691581726074, 5.9870524406433105, 8.296339988708496, 9.7710599899292, 9.581108093261719, 9.745158195495605, 8.638470649719238, 9.304969787597656, 9.46799087524414, 8.276823997497559, 9.865867614746094, 9.547525405883789, 9.173539161682129, 8.441183090209961, 9.236799240112305, 8.136853218078613, 9.437294006347656, 8.127480506896973, 9.262249946594238, 9.93328857421875, 9.286481857299805, 8.662365913391113, 9.44637680053711, 9.558602333068848, 8.12439250946045, 9.7098388671875, 8.325699806213379, 8.0452241897583, 7.872469425201416, 8.930251121520996, 8.157693862915039, 9.387164115905762, 8.816343307495117, 9.01320743560791, 9.297250747680664, 8.713587760925293, 9.692705154418945, 7.265204429626465, 9.68757438659668, 10.777386665344238, 8.625138282775879, 7.9959259033203125, 9.496993064880371, 9.581209182739258, 10.161820411682129, 10.374608993530273, 8.51297664642334, 9.374883651733398, 9.680878639221191, 9.38375473022461, 10.73414134979248, 8.749412536621094, 8.283120155334473, 9.88579273223877, 9.089696884155273, 9.637630462646484, 7.891658782958984, 9.222614288330078, 10.238134384155273, 9.101988792419434, 10.146156311035156, 6.466108322143555, 8.550338745117188, 7.667722702026367, 9.807828903198242, 9.427213668823242, 5.592429161071777, 9.632303237915039, 9.334504127502441, 11.060932159423828, 9.266697883605957, 10.060519218444824, 8.929963111877441, 8.324740409851074, 10.17481803894043, 9.940511703491211, 9.574936866760254, 10.411633491516113, 8.86634349822998, 9.074749946594238, 6.6218180656433105, 8.130671501159668, 5.89541482925415, 8.95274543762207, 9.608827590942383, 8.39858341217041, 9.117045402526855, 8.94228744506836, 10.794877052307129, 8.805416107177734, 9.66696548461914, 9.237871170043945, 9.057899475097656, 9.231632232666016, 10.124104499816895, 10.19779109954834, 1.6250908374786377, 5.592429161071777, 6.936258792877197, 9.892733573913574, 8.897945404052734, 9.323246002197266, 9.148409843444824, 8.825460433959961, 9.861422538757324, 8.153273582458496, 8.571537017822266, 9.34992504119873, 9.18390941619873, 9.361892700195312, 9.492911338806152, 8.65798282623291, 8.35256290435791, 7.667572021484375, 8.193929672241211, 9.377115249633789, 9.378664016723633, 9.882577896118164, 9.60688591003418, 9.82529354095459, 9.826701164245605, 10.332030296325684, 8.909655570983887, 8.087042808532715, 9.489285469055176, 8.361940383911133, 9.890002250671387, 9.206063270568848, 9.110376358032227, 8.424019813537598, 8.638008117675781, 7.512844562530518, 10.578688621520996, 10.425153732299805, 8.757498741149902, 9.110856056213379, 10.586906433105469, 9.294045448303223, 9.684965133666992, 9.034933090209961, 8.70470142364502, 9.51503849029541, 8.576356887817383, 9.861959457397461, 10.436358451843262, 9.977821350097656, 8.46547794342041, 9.412559509277344, 6.189937114715576, 9.835887908935547, 5.4289960861206055, 8.99912166595459, 9.519614219665527, 9.993995666503906, 9.015589714050293, 9.316743850708008, 8.780374526977539, 9.632344245910645, 9.683335304260254, 10.710529327392578, 9.199460983276367, 9.928720474243164, 9.78488540649414, 8.661551475524902, 7.553448677062988, 9.773475646972656, 9.774657249450684, 8.368770599365234, 9.307793617248535, 9.633859634399414, 9.04572868347168, 9.49827766418457, 9.363556861877441, 9.753080368041992, 9.515841484069824, 8.935059547424316, 9.980037689208984, 9.297079086303711, 9.401633262634277, 8.954069137573242, 7.796605110168457, 9.163138389587402, 9.46506404876709, 9.95624828338623, 8.618377685546875, 8.930811882019043, 8.513989448547363, 8.078315734863281, 6.196994304656982, 9.969470977783203, 10.390117645263672, 9.54023551940918, 6.923112392425537, 9.968997955322266, 7.9167914390563965, 9.9658784866333, 9.517321586608887, 9.55124568939209, 10.245893478393555, 10.302725791931152, 9.559408187866211, 8.870684623718262, 9.906594276428223, 9.27258014678955, 10.180402755737305, 9.955681800842285, 5.9523210525512695, 9.321274757385254, 9.735672950744629, 8.407190322875977, 9.225689888000488, 9.960165977478027, 9.347143173217773, 9.569607734680176, 7.29388427734375, 8.672420501708984, 7.999594211578369, 9.8377685546875, 10.011242866516113, 9.28596305847168, 8.190180778503418, 8.472460746765137, 10.148347854614258, 8.862334251403809, 9.478243827819824, 7.517881870269775, 10.545845031738281, 9.812027931213379, 5.273004055023193, 9.401399612426758, 9.87670612335205, 10.770800590515137, 9.791215896606445, 10.194428443908691, 8.83105182647705, 9.006659507751465, 8.063799858093262, 8.05456829071045, 9.651986122131348, 8.931902885437012, 9.30753231048584, 8.937668800354004, 8.602270126342773, 9.515026092529297, 9.293646812438965, 9.385494232177734, 9.68937873840332, 9.275683403015137, 9.480002403259277, 9.518136978149414, 9.39979076385498, 8.97555160522461, 7.196630477905273, 10.247559547424316, 10.06289005279541, 6.966483116149902, 9.85733699798584, 8.579269409179688, 8.579245567321777, 9.694045066833496, 9.243203163146973, 9.299331665039062, 8.83810043334961, 9.967437744140625, 9.848156929016113, 8.496936798095703, 10.304242134094238, 9.359935760498047, 8.749671936035156, 8.883005142211914, 8.615643501281738, 9.562057495117188, 9.49588680267334, 10.157333374023438, 10.546069145202637, 8.898784637451172, 10.454828262329102, 10.389640808105469, 9.663012504577637, 8.528751373291016, 7.244239807128906, 9.449056625366211, 9.549166679382324, 9.66108512878418, 9.641633033752441, 9.979649543762207, 9.680296897888184, 10.66153621673584, 9.983015060424805, 9.478161811828613, 9.03087329864502, 8.547000885009766, 10.056503295898438, 9.605956077575684, 9.625243186950684, 8.428173065185547, 8.523723602294922, 8.214349746704102, 8.990957260131836, 10.166312217712402, 7.793889999389648, 8.991735458374023, 9.308290481567383, 8.828083038330078, 10.044644355773926, 9.044233322143555, 11.034985542297363, 9.446494102478027, 7.7556610107421875, 8.067511558532715, 8.346036911010742, 9.721189498901367, 8.930743217468262, 9.466592788696289, 8.454708099365234, 9.14774227142334, 8.462663650512695, 9.710052490234375, 9.445716857910156, 9.924758911132812, 9.434379577636719, 9.271808624267578, 9.343653678894043, 7.948098659515381, 8.633151054382324, 9.790815353393555, 9.20396614074707, 8.615821838378906, 10.269393920898438, 9.251960754394531, 10.294510841369629, 9.542825698852539, 10.058187484741211, 9.441737174987793, 10.1312894821167, 10.303053855895996, 10.268738746643066, 8.254190444946289, 9.62891960144043, 9.404224395751953, 10.037912368774414, 9.074747085571289, 9.11142635345459, 9.774508476257324, 10.17480182647705, 9.50607681274414, 9.343363761901855, 9.604668617248535, 9.518906593322754, 6.62468147277832, 9.277052879333496, 9.930134773254395, 9.556944847106934, 8.870721817016602, 9.341573715209961, 9.18431282043457, 9.77138900756836, 9.032085418701172, 8.701007843017578, 10.062474250793457, 7.919558048248291, 7.614310264587402, 8.757761001586914, 9.107766151428223, 8.055630683898926, 7.914312362670898, 9.465777397155762, 9.174242973327637, 8.614306449890137, 8.723062515258789, 9.330909729003906, 10.102931022644043, 9.55317211151123, 9.651796340942383, 10.392105102539062, 10.204127311706543, 8.3048677444458, 9.140114784240723, 8.556722640991211, 10.09532642364502, 9.115970611572266, 10.059603691101074, 8.685258865356445, 9.116515159606934, 10.1074800491333, 9.506004333496094, 9.224431037902832, 7.8809075355529785, 9.987853050231934, 9.009418487548828, 9.269959449768066, 10.609331130981445, 10.164624214172363, 7.276995658874512, 9.100029945373535, 8.850215911865234, 9.458287239074707, 9.153206825256348, 10.800393104553223, 10.192254066467285, 9.966073036193848, 9.156558990478516, 9.974966049194336, 9.354762077331543, 9.124177932739258, 7.793124675750732, 9.597782135009766, 10.14780044555664, 7.934804916381836, 9.472110748291016, 9.705227851867676, 8.149921417236328, 7.09188175201416, 10.62641429901123, 8.465529441833496, 7.8202948570251465, 9.316577911376953, 9.917680740356445, 7.59658145904541, 9.507759094238281, 8.659948348999023, 9.198542594909668, 9.956612586975098, 9.410871505737305, 9.356861114501953, 9.918206214904785, 10.045494079589844, 9.384636878967285, 9.170411109924316, 10.005532264709473, 8.42114543914795, 8.604290962219238, 9.505938529968262, 10.432452201843262, 8.35256290435791, 8.548959732055664, 8.769181251525879, 9.033517837524414, 9.19739818572998, 8.109955787658691, 9.4823637008667, 8.658884048461914, 8.282901763916016, 9.69776725769043, 9.158583641052246, 10.160441398620605, 8.821724891662598, 10.365274429321289, 9.009864807128906, 8.318870544433594, 4.636696815490723, 7.440610408782959, 9.572145462036133, 9.428092002868652, 10.32831859588623, 9.9646635055542, 7.966245651245117, 8.497554779052734, 9.349475860595703, 9.506291389465332, 9.810206413269043, 9.152029037475586, 10.014039993286133, 10.880824089050293, 9.462470054626465, 9.262313842773438, 9.803825378417969, 8.228362083435059, 8.073432922363281, 9.711023330688477, 9.865750312805176, 9.573481559753418, 8.70448112487793, 9.992101669311523, 10.134259223937988, 8.669777870178223, 10.497551918029785, 8.749967575073242, 2.7607388496398926, 8.398127555847168, 7.898627281188965, 10.534810066223145, 9.517906188964844, 10.159913063049316, 9.715315818786621, 10.685696601867676, 10.341496467590332, 9.601787567138672, 8.982816696166992, 8.803427696228027, 8.885828018188477, 7.868330001831055, 9.424410820007324, 9.79819107055664, 11.275110244750977, 9.033280372619629, 10.17172908782959, 9.650053024291992, 8.737815856933594, 9.245477676391602, 10.728161811828613, 7.8668622970581055, 10.116301536560059, 8.80077838897705, 7.7367095947265625, 8.408289909362793, 10.455218315124512, 10.371999740600586, 8.763797760009766, 9.095722198486328, 8.620195388793945, 10.024459838867188, 7.912446975708008, 9.989372253417969, 10.21593189239502, 7.705726146697998, 10.30933952331543, 9.77612018585205, 9.58370304107666, 10.129414558410645, 9.802190780639648, 7.604852676391602, 8.480093002319336, 10.31673526763916, 9.427080154418945, 9.308117866516113, 9.02260684967041, 9.208264350891113, 8.859241485595703, 9.209871292114258, 7.875833034515381, 7.112051963806152, 10.190743446350098, 9.153925895690918, 9.634751319885254, 9.77049446105957, 9.774565696716309, 8.544829368591309, 8.514744758605957, 9.628214836120605, 9.56393051147461, 9.386204719543457, 9.1150484085083, 6.540763854980469, 8.594252586364746, 9.80694580078125, 8.559067726135254, 8.829352378845215, 7.89910888671875, 10.02757740020752, 9.315240859985352, 6.859214782714844, 10.495420455932617, 8.955805778503418, 10.037276268005371, 8.778388977050781, 9.405494689941406, 7.441834449768066, 10.114842414855957, 8.658041000366211, 9.887017250061035, 7.951037406921387, 8.521413803100586, 8.11996078491211, 8.728605270385742, 7.682483196258545, 9.365540504455566, 8.104364395141602, 8.26766300201416, 8.788028717041016, 8.469985961914062, 10.211362838745117, 9.695509910583496, 9.23861312866211, 9.541187286376953, 8.34113597869873, 9.089735984802246, 10.086546897888184, 9.85817813873291, 9.507183074951172, 9.088815689086914, 9.666472434997559, 8.709219932556152, 10.504186630249023, 7.953676223754883, 8.510056495666504, 9.93169116973877, 10.241171836853027, 9.193100929260254, 9.031965255737305, 9.868497848510742, 9.74678897857666, 9.085609436035156, 8.612297058105469, 10.485946655273438, 8.591336250305176, 9.248212814331055, 10.054404258728027, 10.419534683227539, 9.878287315368652, 9.087151527404785, 9.483260154724121, 8.706836700439453, 7.91101598739624, 9.984939575195312, 9.406304359436035, 9.986332893371582, 9.695487022399902, 9.695249557495117, 8.94030475616455, 5.422792911529541, 9.275212287902832, 9.363032341003418, 9.184741020202637, 9.803958892822266, 8.663524627685547, 8.63077163696289, 9.347159385681152, 9.666353225708008, 8.11494255065918, 9.775432586669922, 8.308228492736816, 9.134793281555176, 9.58387565612793, 8.776480674743652, 9.886434555053711, 9.968400955200195, 9.908465385437012, 9.619546890258789, 9.800249099731445, 8.351993560791016, 9.944703102111816, 9.942793846130371, 7.790101051330566, 10.193327903747559, 8.749370574951172, 9.302960395812988, 8.864911079406738, 8.8955659866333, 8.201101303100586, 9.019157409667969, 9.521827697753906, 10.575394630432129, 9.750283241271973, 10.228771209716797, 8.201864242553711, 9.988486289978027, 8.639273643493652, 8.13037395477295, 9.67630386352539, 8.584619522094727, 8.31234359741211, 9.577902793884277, 9.824552536010742, 9.189491271972656, 9.565529823303223, 10.204391479492188, 9.09514045715332, 9.907243728637695, 7.5139641761779785, 9.626751899719238, 9.543573379516602, 9.658949851989746, 10.174233436584473, 8.125435829162598, 8.60107707977295, 10.484654426574707, 9.182074546813965, 9.357898712158203, 9.411622047424316, 8.869023323059082, 9.673759460449219, 8.121711730957031, 8.779052734375, 9.92570972442627, 10.088576316833496, 7.937679290771484, 7.875075817108154, 9.470885276794434, 9.836600303649902, 10.332691192626953, 10.178262710571289, 9.169907569885254, 8.770095825195312, 9.422174453735352, 9.716484069824219, 9.442256927490234, 7.83958625793457, 7.406872749328613, 8.612667083740234, 9.15933609008789, 8.234253883361816, 9.415582656860352, 10.067831039428711, 8.275424003601074, 8.281512260437012, 10.201218605041504, 7.42149019241333, 9.560734748840332, 8.630376815795898, 8.472253799438477, 10.483735084533691, 6.226625919342041, 10.878137588500977, 9.791571617126465, 9.045019149780273, 9.54442310333252, 9.36238956451416, 9.170997619628906, 6.467300891876221, 10.536837577819824, 6.55712890625, 9.958016395568848, 9.215670585632324, 9.532539367675781, 10.5040864944458, 9.193709373474121, 5.2436747550964355, 8.248948097229004, 9.005440711975098, 8.267451286315918, 8.021183967590332, 5.7545623779296875, 9.996816635131836, 9.497537612915039, 9.668855667114258, 9.032490730285645, 8.700223922729492, 7.678160190582275, 9.612736701965332, 8.37671947479248, 8.66366195678711, 8.08530044555664, 10.456639289855957, 10.190232276916504, 10.364241600036621, 9.820940017700195, 7.744044303894043, 9.443838119506836, 9.827814102172852, 9.88650131225586, 8.826083183288574, 9.204545974731445, 10.254331588745117, 8.566937446594238, 9.775733947753906, 9.686293601989746, 8.563486099243164, 9.60006046295166, 8.228561401367188, 9.115347862243652, 8.134602546691895, 10.099353790283203, 7.369083404541016, 7.324019432067871, 9.388145446777344, 8.283468246459961, 10.42695426940918, 7.99755334854126, 9.686217308044434, 9.438782691955566, 9.501203536987305, 9.905043601989746, 9.162368774414062, 8.921455383300781, 9.36755084991455, 9.921378135681152, 9.30095386505127, 7.831721782684326, 7.268762111663818, 10.324714660644531, 8.922872543334961, 9.190227508544922, 8.342781066894531, 8.036589622497559, 8.756547927856445, 10.180994987487793, 9.471809387207031, 8.294425964355469, 9.611467361450195, 8.674755096435547, 10.421314239501953, 7.322874546051025, 6.395390510559082, 8.752163887023926, 8.013150215148926, 10.172658920288086, 10.244053840637207, 9.656002044677734, 10.332483291625977, 9.70602035522461, 8.652158737182617, 7.139403343200684, 9.60556697845459, 9.139349937438965, 8.266032218933105, 10.121441841125488, 9.49576473236084, 9.468177795410156, 9.486153602600098, 9.647433280944824, 9.35293197631836, 8.003206253051758, 9.399274826049805, 9.79415225982666, 8.377708435058594, 10.586921691894531, 9.835731506347656, 9.017494201660156, 8.955687522888184, 8.559916496276855, 9.801467895507812, 9.825407981872559, 8.640751838684082, 10.038999557495117, 9.051996231079102, 9.915312767028809, 9.318687438964844, 5.592429161071777, 9.507787704467773, 8.180763244628906, 10.037912368774414, 9.860727310180664, 9.228257179260254, 7.390678405761719, 9.900968551635742, 9.893796920776367, 9.893721580505371, 8.436562538146973, 9.80941390991211, 9.594022750854492, 9.959489822387695, 9.62618637084961, 9.698634147644043, 8.282087326049805, 9.412409782409668, 5.411275386810303, 8.380351066589355, 8.776429176330566, 10.40804386138916, 8.564484596252441, 8.776013374328613, 10.10506534576416, 10.313532829284668, 10.042277336120605, 9.183110237121582, 9.189703941345215, 7.59778356552124, 9.36533260345459, 8.922101020812988, 9.675889015197754, 9.834630966186523, 10.310553550720215, 10.252126693725586, 9.44166088104248, 7.621688365936279, 8.067891120910645, 8.449952125549316, 7.140685081481934, 9.435073852539062, 7.515772342681885, 10.174022674560547, 9.637345314025879, 7.97070837020874, 9.463044166564941, 8.862947463989258, 7.527976989746094, 10.112098693847656, 9.558030128479004, 8.98523235321045, 9.041322708129883, 9.951123237609863, 9.716290473937988, 8.950328826904297, 9.255391120910645, 6.961183547973633, 10.003947257995605, 8.914978981018066, 9.489317893981934, 7.435172080993652, 10.46153736114502, 8.735942840576172, 9.379980087280273, 7.4346442222595215, 9.466057777404785, 9.197332382202148, 9.56697940826416, 8.53552532196045, 10.088295936584473, 9.876415252685547, 10.230401992797852, 7.608994007110596, 9.756993293762207, 6.961567401885986, 8.973186492919922, 9.939105987548828, 9.456161499023438, 8.7105131149292, 9.725076675415039, 9.505139350891113, 10.112338066101074, 10.60340690612793, 8.106182098388672, 9.894160270690918, 8.878615379333496, 8.523721694946289, 9.012763023376465, 9.041069984436035, 8.630814552307129, 8.421987533569336, 9.26964282989502, 7.234659671783447, 9.673907279968262, 7.571219444274902, 8.76544189453125, 9.624444961547852, 8.693853378295898, 7.108633518218994, 9.473528861999512, 9.629728317260742, 8.580665588378906, 7.325560569763184, 9.824703216552734, 8.635540008544922, 8.447145462036133, 9.536952018737793, 9.333270072937012, 9.975857734680176, 8.359567642211914, 10.37075424194336, 9.786808967590332, 8.79220962524414, 8.55799388885498, 9.791651725769043, 10.194130897521973, 8.8760404586792, 9.396129608154297, 9.041205406188965, 9.311285972595215, 7.873737335205078, 9.809346199035645, 9.930320739746094, 10.74544906616211, 8.603757858276367, 8.880603790283203, 10.02954387664795, 9.8431978225708, 9.350683212280273, 10.356451988220215, 7.985093593597412, 9.840580940246582, 8.475943565368652, 9.556032180786133, 11.042634963989258, 10.344334602355957, 9.512118339538574, 9.009012222290039, 9.083395004272461, 9.774006843566895, 9.756865501403809, 10.204535484313965, 9.765687942504883, 10.501115798950195, 10.38957405090332, 9.081974983215332, 8.039519309997559, 9.44844913482666, 10.075371742248535, 9.425068855285645, 8.621197700500488, 8.878169059753418, 9.575275421142578, 9.711590766906738, 10.212844848632812, 8.963297843933105, 7.578722953796387, 9.29620361328125, 8.780762672424316, 7.961639881134033, 9.456992149353027, 7.858235836029053, 9.030818939208984, 7.0674848556518555, 9.026548385620117, 7.841557025909424, 9.468938827514648, 7.87432336807251, 7.293747425079346, 10.380203247070312, 9.485889434814453, 8.843029975891113, 10.092937469482422, 8.761492729187012, 6.462602615356445, 9.753567695617676, 10.105291366577148, 9.230733871459961, 9.255555152893066, 9.043702125549316, 7.744779109954834, 9.790969848632812, 10.27205753326416, 10.71196460723877, 9.71562671661377, 8.091206550598145, 9.620780944824219, 9.417771339416504, 9.31961441040039, 8.955453872680664, 8.403860092163086, 9.922768592834473, 9.231427192687988, 9.611409187316895, 9.872430801391602, 9.972674369812012, 10.140522956848145, 6.096413612365723, 8.169434547424316, 10.232412338256836, 8.707371711730957, 9.890414237976074, 8.182093620300293, 10.456522941589355, 8.71997356414795, 8.73850154876709, 7.596268653869629, 9.212762832641602, 9.560188293457031, 10.013935089111328, 10.333850860595703, 8.109030723571777, 10.094938278198242, 10.656842231750488, 9.140015602111816, 9.607234954833984, 9.460020065307617, 9.769493103027344, 9.270466804504395, 9.113069534301758, 9.58499813079834, 10.572009086608887, 10.231023788452148, 10.260964393615723, 9.78246021270752, 8.84248161315918, 8.882037162780762, 9.751494407653809, 9.497684478759766, 9.713838577270508, 9.386861801147461, 9.512612342834473, 10.445334434509277, 8.35693645477295, 9.01778507232666, 10.297697067260742, 10.47535228729248, 7.173628807067871, 9.224042892456055, 8.596070289611816, 8.894152641296387, 7.878506660461426, 9.574936866760254, 9.752609252929688, 9.519935607910156, 10.232816696166992, 9.994426727294922, 8.757741928100586, 9.421660423278809, 9.195608139038086, 9.517420768737793, 9.06282901763916, 8.940563201904297, 9.959368705749512, 9.457670211791992, 8.469868659973145, 8.809842109680176, 9.077835083007812, 8.990396499633789, 8.88364315032959, 7.900310516357422, 10.01395320892334, 9.406206130981445, 7.931000232696533, 8.549065589904785, 10.372509956359863, 9.992627143859863, 9.705124855041504, 7.74525260925293, 8.90950870513916, 10.632827758789062, 9.608637809753418, 10.279303550720215, 8.260957717895508, 7.769681453704834, 9.850537300109863, 7.559898853302002, 9.707723617553711, 8.31371021270752, 7.668764591217041, 9.278822898864746, 10.085129737854004, 7.382882595062256, 8.818734169006348, 10.141996383666992, 8.750125885009766, 9.134007453918457, 10.67888069152832, 9.80427360534668, 8.001143455505371, 8.501731872558594, 9.13534164428711, 9.103708267211914, 9.189595222473145, 9.545424461364746, 9.854203224182129, 8.778929710388184, 9.479705810546875, 9.08282470703125, 9.414117813110352, 7.10517692565918, 8.503826141357422, 10.52297592163086, 9.41663646697998, 7.775496959686279, 9.903786659240723, 9.593341827392578, 10.480813026428223, 9.469298362731934, 9.472345352172852, 8.470598220825195, 9.292435646057129, 8.213409423828125, 8.065094947814941, 8.522104263305664, 9.07360553741455, 8.74885082244873, 10.155481338500977, 8.95077133178711, 9.033333778381348, 9.156909942626953, 9.627488136291504, 10.581067085266113, 9.021018981933594, 10.352568626403809, 7.383663654327393, 8.741559028625488, 9.312793731689453, 9.783689498901367, 8.439960479736328, 9.718826293945312, 9.395370483398438, 8.657306671142578, 8.096890449523926, 7.589692115783691, 9.858704566955566, 9.574936866760254, 9.24031925201416, 6.980724334716797, 7.748672008514404, 8.531598091125488, 9.065597534179688, 8.75261402130127, 7.673810958862305, 7.8328375816345215, 8.36136531829834, 8.693273544311523, 9.57164192199707, 9.818330764770508, 8.93205738067627, 9.74488639831543, 9.785848617553711, 8.392431259155273, 10.788116455078125, 10.293989181518555, 9.436363220214844, 9.720303535461426, 9.34481143951416, 9.137855529785156, 9.685407638549805, 8.753617286682129, 5.176345348358154, 8.674973487854004, 10.500701904296875, 7.411705017089844, 8.431407928466797, 9.196876525878906, 9.616320610046387, 10.400527000427246, 9.767274856567383, 9.558048248291016, 8.387079238891602, 9.177410125732422, 9.098095893859863, 9.419676780700684, 9.93947982788086, 7.480316638946533, 9.65178394317627, 9.135920524597168, 9.577649116516113, 10.071176528930664, 9.551349639892578, 9.422635078430176, 9.333815574645996, 10.566884994506836, 8.257879257202148, 9.6806640625, 8.432571411132812, 10.207019805908203, 9.585662841796875, 8.976734161376953, 8.796182632446289, 9.3038969039917, 10.187427520751953, 10.437320709228516, 7.8653974533081055, 9.51131534576416, 8.291873931884766, 10.912784576416016, 9.196948051452637, 9.88372802734375, 10.174444198608398, 9.013703346252441, 8.768561363220215, 9.973855972290039, 9.675536155700684, 10.26795482635498, 8.838811874389648, 9.85804271697998, 8.269149780273438, 10.193363189697266, 9.69565200805664, 9.04484748840332, 9.212608337402344, 10.09878921508789, 9.602704048156738, 9.646730422973633, 9.88599967956543, 9.055205345153809, 7.728382587432861, 9.455992698669434, 10.059285163879395, 9.901254653930664, 10.011064529418945, 10.156576156616211, 8.247193336486816, 10.329938888549805, 6.4964919090271, 10.063302040100098, 10.210437774658203, 8.890690803527832, 8.281367301940918, 9.486054420471191, 8.563092231750488, 8.516897201538086, 9.349977493286133, 10.223736763000488, 7.9880876541137695, 9.818285942077637, 8.277095794677734, 9.145730972290039, 9.768505096435547, 10.388158798217773, 8.9337158203125, 8.757085800170898, 8.614606857299805, 9.612687110900879, 8.443591117858887, 9.724358558654785, 9.239237785339355, 10.164459228515625, 9.250096321105957, 9.47057819366455, 8.22794246673584, 10.629498481750488, 8.87924575805664, 9.41405963897705, 9.435616493225098, 8.770112037658691, 5.942011833190918, 8.90391731262207, 8.41102409362793, 7.071285724639893, 8.995718955993652, 7.978148937225342, 9.19382381439209, 9.256925582885742, 8.077354431152344, 8.086585998535156, 9.94041633605957, 9.578763008117676, 8.731525421142578, 8.644967079162598, 8.955805778503418, 9.091470718383789, 8.96761417388916, 9.557392120361328, 8.883563041687012, 8.854155540466309, 9.558295249938965, 10.11007308959961, 10.390512466430664, 8.511417388916016, 9.165340423583984, 8.630593299865723, 10.728960037231445, 10.237668991088867, 9.846951484680176, 9.31961441040039, 9.5593843460083, 10.797122955322266, 8.9755220413208, 6.833355903625488, 9.639303207397461, 4.761389255523682, 9.422513961791992, 9.662915229797363, 10.248254776000977, 9.943785667419434, 9.429167747497559, 7.714755535125732, 8.643610000610352, 8.527432441711426, 8.537330627441406, 10.223636627197266, 9.85569953918457, 9.428236961364746, 9.645228385925293, 7.755496978759766, 8.689884185791016, 10.105113983154297, 8.78559398651123, 5.445071697235107, 8.430124282836914, 8.56834888458252, 9.703742027282715, 9.006040573120117, 8.5851469039917, 9.99647331237793, 8.706090927124023, 8.085741996765137, 9.095321655273438, 10.269100189208984, 9.227267265319824, 10.187338829040527, 9.153160095214844, 9.987192153930664, 9.194263458251953, 8.951712608337402, 9.270301818847656, 9.246356964111328, 9.308067321777344, 8.76343822479248, 9.09512996673584, 9.617526054382324, 9.610247611999512, 10.347625732421875, 10.751158714294434, 9.656002044677734, 9.75541877746582, 10.21519660949707, 10.461597442626953, 8.225106239318848, 8.512566566467285, 9.905156135559082, 9.194815635681152, 10.084603309631348, 10.053374290466309, 10.21811580657959, 9.846757888793945, 8.603062629699707, 8.817216873168945, 8.940813064575195, 9.686887741088867, 7.597353458404541, 9.11512565612793, 8.74454402923584, 8.969632148742676, 10.198335647583008, 9.552055358886719, 8.427484512329102, 9.360405921936035, 9.775933265686035, 8.812121391296387, 9.84891414642334, 9.390952110290527, 7.702020645141602, 9.277292251586914, 9.609280586242676, 9.632292747497559, 7.8232951164245605, 10.283263206481934, 8.349661827087402, 9.693020820617676, 8.814557075500488, 7.991065502166748, 9.868629455566406, 7.770097732543945, 10.084220886230469, 7.633441925048828, 9.64999771118164, 9.584752082824707, 8.863578796386719, 7.96610689163208, 9.369902610778809, 9.609185218811035, 10.547325134277344, 9.121550559997559, 9.297121047973633, 9.549630165100098, 7.91925048828125, 8.951349258422852, 10.309080123901367, 10.167367935180664, 10.702086448669434, 7.871766090393066, 9.288617134094238, 8.380845069885254, 9.446379661560059, 8.889816284179688, 9.561929702758789, 8.324014663696289, 9.760602951049805, 10.002498626708984, 9.522607803344727, 9.665562629699707, 8.313773155212402, 8.774606704711914, 7.818544864654541, 10.502908706665039, 10.506549835205078, 9.858448028564453, 9.862598419189453, 8.441844940185547, 8.982451438903809, 9.673271179199219, 7.656148433685303, 9.511139869689941, 10.749600410461426, 9.713510513305664, 9.76255989074707, 9.66327953338623, 9.146469116210938, 9.357443809509277, 9.176254272460938, 9.07284927368164, 9.580243110656738, 10.554927825927734, 8.970641136169434, 9.559294700622559, 9.497241973876953, 9.405454635620117, 9.81096076965332, 10.314964294433594, 8.875106811523438, 9.31865119934082, 8.899927139282227, 9.302687644958496, 10.245720863342285, 8.663456916809082, 7.1406331062316895, 8.557689666748047, 9.724165916442871, 9.051466941833496, 6.77231502532959, 9.246088981628418, 9.254050254821777, 8.957450866699219, 9.458842277526855, 9.235248565673828, 9.905828475952148, 9.657135009765625, 8.756933212280273, 9.43441104888916, 8.403345108032227, 7.16143798828125, 9.190380096435547, 9.199976921081543, 9.182463645935059, 9.594822883605957, 9.49133014678955, 10.014400482177734, 9.730996131896973, 10.43360424041748, 9.710489273071289, 9.698807716369629, 9.580779075622559, 8.85400676727295, 8.038202285766602, 9.387960433959961, 9.90564250946045, 9.863572120666504, 10.167463302612305, 9.192972183227539, 9.263842582702637, 9.573883056640625, 9.881380081176758, 7.180630207061768, 8.435579299926758, 9.575294494628906, 9.741093635559082, 9.186596870422363, 9.088521003723145, 9.07568359375, 8.985311508178711, 9.205471992492676, 9.547852516174316, 9.344412803649902, 9.443782806396484, 9.384984970092773, 9.459360122680664, 6.605947494506836, 7.773762226104736, 9.6287202835083, 8.830816268920898, 6.913181304931641, 10.804728507995605, 7.622864723205566, 8.501562118530273, 8.392255783081055, 10.217081069946289, 9.555458068847656, 8.564494132995605, 9.812690734863281, 8.685312271118164, 8.642999649047852, 8.553436279296875, 10.617218971252441, 8.85515022277832, 9.218762397766113, 10.652002334594727, 9.698792457580566, 9.177040100097656, 7.456475734710693, 9.097418785095215, 9.745863914489746, 8.288798332214355, 9.38743782043457, 8.903679847717285, 8.052172660827637, 9.170577049255371, 10.671128273010254, 8.65908432006836, 9.076069831848145, 9.746843338012695, 9.069273948669434, 9.581039428710938, 10.21811580657959, 8.067079544067383, 9.185495376586914, 9.785369873046875, 9.390432357788086, 9.501948356628418, 9.719579696655273, 8.922709465026855, 9.184956550598145, 10.105385780334473, 8.429923057556152, 9.205955505371094, 8.015714645385742, 9.683615684509277, 9.186013221740723, 8.121853828430176, 6.942714214324951, 8.521601676940918, 9.973184585571289, 8.286117553710938, 10.263360977172852, 8.554025650024414, 9.670087814331055, 8.755952835083008, 6.603227138519287, 6.6868414878845215, 10.103731155395508, 9.235681533813477, 9.125020027160645, 8.638276100158691, 8.834484100341797, 9.691434860229492, 10.381651878356934, 6.8504414558410645, 9.759395599365234, 8.637542724609375, 10.168196678161621, 9.034549713134766, 9.54833984375, 8.103987693786621, 9.303643226623535, 9.605493545532227, 9.732828140258789, 9.03060531616211, 9.049604415893555, 10.065098762512207, 10.099448204040527, 10.048771858215332, 9.549166679382324, 8.81843090057373, 8.640313148498535, 9.516590118408203, 9.34744930267334, 7.707032680511475, 10.255132675170898, 9.59647274017334, 10.908227920532227, 7.847781658172607, 10.067586898803711, 8.84825325012207, 9.347946166992188, 9.100961685180664, 9.31961441040039, 9.989362716674805, 7.706635475158691, 9.255620002746582, 9.69074535369873, 8.785696029663086, 9.97564697265625, 9.135263442993164, 8.319576263427734, 9.135740280151367, 9.73916244506836, 8.97513484954834, 8.351411819458008, 9.670108795166016, 9.681829452514648, 8.958727836608887, 9.625137329101562, 9.634519577026367, 9.15170669555664, 8.000683784484863, 9.664565086364746, 10.491201400756836, 10.761691093444824, 10.296966552734375, 9.525169372558594, 9.319930076599121, 9.779402732849121, 6.963295936584473, 9.825834274291992, 9.175311088562012, 10.751323699951172, 10.516838073730469, 9.20134162902832, 9.063854217529297, 9.884255409240723, 8.155860900878906, 10.83739948272705, 10.701070785522461, 9.047296524047852, 9.402074813842773, 9.388237953186035, 7.691709995269775, 9.759737014770508, 9.138490676879883, 9.942604064941406, 10.202493667602539, 9.542387008666992, 9.323593139648438, 9.46343994140625, 8.865396499633789, 10.824212074279785, 9.398691177368164, 8.97370719909668, 8.424470901489258, 9.281298637390137, 9.91342544555664, 10.338303565979004, 9.562573432922363, 9.00988483428955, 10.521047592163086, 8.404021263122559, 9.986154556274414, 9.674015998840332, 10.088525772094727, 9.049619674682617, 7.530325889587402, 8.107903480529785, 10.757339477539062, 7.790828704833984, 8.059659957885742, 8.92326831817627, 9.152923583984375, 9.768561363220215, 9.37444019317627, 8.277947425842285, 6.956509113311768, 10.618461608886719, 9.35422420501709, 8.989991188049316, 5.837157249450684, 7.85274076461792, 7.766298294067383, 10.43323040008545, 8.899157524108887, 8.17491340637207, 9.078607559204102, 9.105332374572754, 9.52783203125, 10.229182243347168, 9.342326164245605, 9.417080879211426, 8.32807445526123, 8.785655975341797, 10.47452449798584, 9.806567192077637, 9.948447227478027, 10.260607719421387, 9.283262252807617, 8.52539348602295, 9.60556411743164, 9.410865783691406, 9.559788703918457, 10.131692886352539, 9.036744117736816, 9.452754020690918, 10.222898483276367, 8.741223335266113, 7.918222904205322, 9.909015655517578, 8.263457298278809, 10.133299827575684, 7.757657527923584, 8.84675407409668, 8.988651275634766, 10.332022666931152, 10.20487117767334, 9.772833824157715, 10.176528930664062, 9.59725284576416, 9.08482837677002, 8.983817100524902, 8.297865867614746, 10.577569961547852, 9.672043800354004, 9.539695739746094, 9.428943634033203, 8.135936737060547, 8.278745651245117, 10.061210632324219, 8.212538719177246, 6.677406311035156, 9.31961441040039, 9.847455024719238, 9.447463989257812, 9.327845573425293, 9.82076644897461, 8.822610855102539, 8.154605865478516, 8.66533374786377, 8.20651912689209, 8.121010780334473, 8.835755348205566, 9.258389472961426, 9.868992805480957, 8.844075202941895, 9.421538352966309, 6.267514705657959, 9.51636791229248, 10.532888412475586, 9.937878608703613, 8.442004203796387, 9.725614547729492, 8.727492332458496, 9.324816703796387, 9.298837661743164, 9.738847732543945, 10.777084350585938, 9.280914306640625, 8.686060905456543, 7.745017051696777, 9.323541641235352, 9.235663414001465, 10.24677562713623, 9.517434120178223, 7.711845397949219, 10.447820663452148, 9.958821296691895, 9.643326759338379, 9.795756340026855, 10.039925575256348, 9.65861701965332, 9.456578254699707, 9.532987594604492, 7.7895894050598145, 8.935150146484375, 9.272388458251953, 8.575088500976562, 9.531014442443848, 7.128042697906494, 8.870016098022461, 9.359179496765137, 9.728232383728027, 9.476263046264648, 9.012744903564453, 8.166231155395508, 9.901036262512207, 9.655484199523926, 9.07907772064209, 10.234268188476562, 9.94842529296875, 9.573650360107422, 9.1891508102417, 6.315342903137207, 8.769043922424316, 10.04757308959961, 8.516547203063965, 9.57728099822998, 9.07450008392334, 8.130925178527832, 9.886516571044922, 8.879526138305664, 8.919042587280273, 9.483616828918457, 8.217893600463867, 8.934829711914062, 10.305414199829102, 8.510709762573242, 7.90928840637207, 7.862464904785156, 10.662354469299316, 7.899151802062988, 9.576459884643555, 9.512456893920898, 9.102590560913086, 8.615581512451172, 9.917074203491211, 9.115694999694824, 6.252264022827148, 8.510270118713379, 10.558104515075684, 10.594401359558105, 8.843398094177246, 10.215479850769043, 8.802877426147461, 9.390681266784668, 8.64099407196045, 9.544012069702148, 7.451959609985352, 10.085958480834961, 8.100127220153809, 9.391581535339355, 9.407411575317383, 8.02688217163086, 10.663567543029785, 8.518600463867188, 8.659810066223145, 9.367375373840332, 8.70630168914795, 9.146416664123535, 9.552062034606934, 9.136137008666992, 10.04024887084961, 10.150823593139648, 8.639939308166504, 10.90371036529541, 9.921244621276855, 10.064334869384766, 9.447604179382324, 10.194398880004883, 7.561291694641113, 8.754541397094727, 9.611438751220703, 8.765521049499512, 9.413692474365234, 8.958736419677734, 9.10708999633789, 8.813078880310059, 8.245460510253906, 10.4285249710083, 10.07044792175293, 8.819851875305176, 6.8767991065979, 9.272744178771973, 10.113176345825195, 9.953993797302246, 9.286559104919434, 10.020934104919434, 8.992371559143066, 10.064208030700684, 9.024324417114258, 8.090400695800781, 9.686887741088867, 9.182123184204102, 9.193645477294922, 7.398144721984863, 7.377085208892822, 8.390750885009766, 10.27522087097168, 9.462362289428711, 8.961363792419434, 9.288505554199219, 6.983178615570068, 9.1237154006958, 8.867117881774902, 9.556056022644043, 8.530427932739258, 8.814983367919922, 9.9808931350708, 8.364805221557617, 9.362879753112793, 9.432336807250977, 9.623157501220703, 8.706665992736816, 9.540820121765137, 9.79656982421875, 9.760469436645508, 9.53727912902832, 10.104740142822266, 9.474929809570312, 8.328473091125488, 9.875460624694824, 8.533886909484863, 9.854705810546875, 9.350098609924316, 9.149478912353516, 7.9556474685668945, 8.00135326385498, 9.818108558654785, 9.909117698669434, 9.346916198730469, 10.394438743591309, 9.4796781539917, 8.744525909423828, 9.208232879638672, 9.643453598022461, 9.679247856140137, 8.75562572479248, 9.568038940429688, 9.366354942321777, 9.40434741973877, 9.334452629089355, 8.093149185180664, 8.721238136291504, 9.546897888183594, 10.610794067382812, 9.814126014709473, 9.357115745544434, 9.028629302978516, 9.360040664672852, 8.505319595336914, 8.22862434387207, 8.657059669494629, 9.148353576660156, 8.57433032989502, 8.982659339904785, 9.178780555725098, 9.005617141723633, 8.593698501586914, 9.006113052368164, 9.609037399291992, 10.077127456665039, 8.626839637756348, 8.589801788330078, 10.880763053894043, 7.984596252441406, 9.355673789978027, 10.050006866455078, 9.316667556762695, 9.0506591796875, 9.335724830627441, 10.437714576721191, 9.167513847351074, 8.293205261230469, 9.808932304382324, 9.19503402709961, 8.044947624206543, 9.03740119934082, 9.330470085144043, 9.32956600189209, 9.575414657592773, 9.374162673950195, 8.3080472946167, 6.553853988647461, 9.422059059143066, 10.049327850341797, 10.430904388427734, 8.6766939163208, 9.299090385437012, 8.997013092041016, 8.331657409667969, 10.49205493927002, 9.70545768737793, 8.5233793258667, 9.313529014587402, 8.746288299560547, 9.380982398986816, 10.652205467224121, 10.957718849182129, 8.550647735595703, 9.92578411102295, 8.281595230102539, 9.99206829071045, 9.935227394104004, 9.97053337097168, 9.124632835388184, 10.544898986816406, 9.281929969787598, 8.711612701416016, 10.490179061889648, 8.452361106872559, 10.048851013183594, 10.109143257141113, 11.161579132080078, 9.90963363647461, 8.643660545349121, 9.950724601745605, 10.602317810058594, 5.947751045227051, 9.48624038696289, 9.11700439453125, 10.376373291015625, 7.063197135925293, 10.058257102966309, 9.100619316101074, 9.382122993469238, 8.347695350646973, 8.020451545715332, 9.89237117767334, 7.736652851104736, 8.819989204406738, 9.31477165222168, 8.115718841552734, 8.812353134155273, 9.775459289550781, 9.90480899810791, 7.923615455627441, 9.070237159729004, 10.400457382202148, 9.117759704589844, 9.032251358032227, 9.191500663757324, 11.094038009643555, 9.138786315917969, 9.883705139160156, 8.273787498474121, 8.50509262084961, 9.949736595153809, 9.33226490020752, 10.274053573608398, 8.741846084594727, 9.798975944519043, 10.150758743286133, 8.690241813659668, 7.96262788772583, 10.795488357543945, 7.344760894775391, 8.90987777709961, 9.099165916442871, 9.793148040771484, 9.345993041992188, 9.546319961547852, 10.12255859375, 10.781048774719238, 7.917356014251709, 10.923702239990234, 9.990584373474121, 5.127998352050781, 9.845315933227539, 9.851812362670898, 8.602301597595215, 9.434000968933105, 9.9213228225708, 10.02484130859375, 9.931206703186035, 8.060811996459961, 8.752174377441406, 9.73954963684082, 9.947696685791016, 9.106527328491211, 9.118478775024414, 7.287568092346191, 10.419297218322754, 10.01673412322998, 9.725689888000488, 10.064291954040527, 10.2732515335083, 8.689614295959473, 9.934457778930664, 7.685408592224121, 9.201872825622559, 9.502530097961426, 9.572333335876465, 9.846437454223633, 8.54577350616455, 9.44336986541748, 9.440990447998047, 8.929292678833008, 8.850018501281738, 9.870017051696777, 7.809718608856201, 10.048868179321289, 9.637056350708008, 10.160090446472168, 9.556180953979492, 6.587251663208008, 10.20310115814209, 9.607169151306152, 9.26768970489502, 9.5184907913208, 9.292903900146484, 8.086420059204102, 8.683039665222168, 8.062796592712402, 8.973518371582031, 9.66610050201416, 8.6348237991333, 9.564420700073242, 9.950357437133789, 6.795097351074219, 9.907013893127441, 10.307650566101074, 9.677199363708496, 9.447400093078613, 9.087334632873535, 9.847525596618652, 8.664754867553711, 9.525999069213867, 9.136734008789062, 6.970061302185059, 9.489521980285645, 8.921757698059082, 8.964517593383789, 9.282605171203613, 8.434555053710938, 9.131420135498047, 9.937466621398926, 9.128990173339844, 8.904906272888184, 8.165294647216797, 8.409232139587402, 7.32172155380249, 9.60629653930664, 10.161539077758789, 9.49657917022705, 7.974065780639648, 6.021514415740967, 9.299280166625977, 8.37307357788086, 10.642191886901855, 8.328204154968262, 10.118780136108398, 9.58620548248291, 8.935331344604492, 9.46847915649414, 8.744129180908203, 8.197815895080566, 10.484197616577148, 9.418020248413086, 9.086106300354004, 9.781665802001953, 8.620195388793945, 7.117775917053223, 9.826692581176758, 6.758033752441406, 10.318018913269043, 9.149613380432129, 7.262728691101074, 7.946582794189453, 7.9100728034973145, 10.671454429626465, 9.982624053955078, 9.776872634887695, 7.077115058898926, 8.640436172485352, 9.178961753845215, 9.311614990234375, 9.860682487487793, 8.266983032226562, 9.549751281738281, 9.124459266662598, 10.411430358886719, 8.695773124694824, 9.017738342285156, 9.521035194396973, 8.745503425598145, 9.138670921325684, 9.117506980895996, 9.088379859924316, 9.912904739379883, 9.438446044921875, 9.502630233764648, 10.86827278137207, 9.956001281738281, 9.164271354675293, 9.968417167663574, 9.05368423461914, 8.722698211669922, 10.218637466430664, 7.695223331451416, 8.640313148498535, 8.16511058807373, 9.86875057220459, 9.197854042053223, 7.656285762786865, 8.732684135437012, 10.262126922607422, 8.926872253417969, 9.931852340698242, 9.735493659973145, 9.714414596557617, 8.785459518432617, 9.768038749694824, 10.222524642944336, 9.981803894042969, 10.540786743164062, 9.105768203735352, 9.308235168457031, 9.224785804748535, 8.873950958251953, 9.120780944824219, 10.358478546142578, 10.181722640991211, 9.546292304992676, 8.890240669250488, 9.602089881896973, 8.444844245910645, 10.375497817993164, 8.462238311767578, 7.690578460693359, 9.073942184448242, 8.336337089538574, 9.884391784667969, 7.720861434936523, 8.910966873168945, 9.709742546081543, 8.698824882507324, 10.65184497833252, 5.106110095977783, 9.437653541564941, 9.82593822479248, 7.967593669891357, 9.692131996154785, 10.43675708770752, 7.721127510070801, 9.550263404846191, 9.408231735229492, 7.654725551605225, 9.544925689697266, 10.259478569030762, 10.184359550476074, 10.259957313537598, 9.625784873962402, 10.30833625793457, 8.953665733337402, 7.950682163238525, 10.482209205627441, 8.067869186401367, 8.099381446838379, 8.978360176086426, 9.45573902130127, 9.8528470993042, 7.946582794189453, 8.794153213500977, 7.433139324188232, 9.643071174621582, 8.29671573638916, 8.608402252197266, 8.778861045837402, 8.087885856628418, 8.521488189697266, 8.645339965820312, 8.562920570373535, 9.867227554321289, 9.324172973632812, 8.650630950927734, 8.70307445526123, 10.224855422973633, 8.024438858032227, 8.914587020874023, 9.97673225402832, 8.710491180419922, 10.203827857971191, 10.401278495788574, 8.973453521728516, 8.957289695739746, 8.333556175231934, 9.252654075622559, 9.213136672973633, 9.766770362854004, 9.800470352172852, 8.125911712646484, 9.94369888305664, 8.431892395019531, 9.445075988769531, 8.77730941772461, 8.951667785644531, 9.996026992797852, 9.89057731628418, 9.38306713104248, 8.767546653747559, 8.049699783325195, 8.585427284240723, 9.805238723754883, 9.19076919555664, 9.295827865600586, 8.045546531677246, 9.236807823181152, 9.329670906066895, 9.299708366394043, 8.130146026611328, 9.26701545715332, 9.458860397338867, 9.397825241088867, 8.451482772827148, 9.253015518188477, 9.496710777282715, 9.565326690673828, 9.471175193786621, 9.540733337402344, 8.897530555725098, 8.775277137756348, 9.740228652954102, 8.484160423278809, 9.206108093261719, 8.10734748840332, 7.036445140838623, 8.37338638305664, 8.087820053100586, 9.463850021362305, 8.164294242858887, 6.994922637939453, 9.470076560974121, 6.722044944763184, 8.210481643676758, 9.557638168334961, 9.045536994934082, 9.686986923217773, 8.78233528137207, 10.426128387451172, 8.832393646240234, 8.476701736450195, 9.89486026763916, 8.425764083862305, 9.387772560119629, 8.403303146362305, 8.677905082702637, 10.271058082580566, 8.916393280029297, 9.68409252166748, 9.912158966064453, 9.346648216247559, 8.356739044189453, 9.655821800231934, 8.764513969421387, 8.213360786437988, 8.950733184814453, 9.35905933380127, 9.342103958129883, 9.070249557495117, 9.534646987915039, 7.773069858551025, 8.99917984008789, 8.09511661529541, 6.002671241760254, 8.284640312194824, 9.147357940673828, 9.845722198486328, 10.635841369628906, 8.84742546081543, 9.369927406311035, 9.17898941040039, 9.154326438903809, 8.137907981872559, 10.484922409057617, 8.048800468444824, 9.03521728515625, 9.467538833618164, 10.073810577392578, 5.311183452606201, 7.188423156738281, 9.661833763122559, 10.34215259552002, 8.687588691711426, 8.164836883544922, 8.889509201049805, 7.542614936828613, 9.63892650604248, 7.612125396728516, 8.896244049072266, 9.056203842163086, 8.731315612792969, 9.51351261138916, 8.276327133178711, 8.39875602722168, 9.958586692810059, 8.958617210388184, 6.498863220214844, 9.019740104675293, 8.698144912719727, 8.639405250549316, 9.655519485473633, 7.252185344696045, 9.38875675201416, 9.781302452087402, 8.522430419921875, 9.72747802734375, 9.4329252243042, 9.613519668579102, 7.868330001831055, 10.269238471984863, 8.323379516601562, 9.381837844848633, 10.39367961883545, 9.928539276123047, 6.976801872253418, 6.727907180786133, 7.178304195404053, 9.913690567016602, 10.097823143005371, 7.981813907623291, 9.876177787780762, 9.946142196655273, 10.122056007385254, 9.502267837524414, 9.875020980834961, 8.070806503295898, 11.104106903076172, 8.820779800415039, 7.237301349639893, 10.194689750671387, 9.836257934570312, 9.408169746398926, 8.653496742248535, 9.892096519470215, 9.623698234558105, 7.834963798522949, 9.5679931640625, 9.896395683288574, 8.073362350463867, 10.365677833557129, 8.753080368041992, 8.728541374206543, 8.837916374206543, 9.057428359985352, 6.93089485168457, 8.991819381713867, 8.390378952026367, 7.6649169921875, 9.2385892868042, 8.771703720092773, 10.2283353805542, 8.110072135925293, 9.579642295837402, 10.430524826049805, 9.551204681396484, 7.878161907196045, 8.791007041931152, 9.585053443908691, 8.147297859191895, 9.214791297912598, 8.336968421936035, 9.01529598236084, 9.583802223205566, 9.192484855651855, 8.080073356628418, 9.27652359008789, 8.573417663574219, 9.355070114135742, 8.531996726989746, 6.07173490524292, 9.4861421585083, 9.617607116699219, 9.183165550231934, 8.856996536254883, 10.279986381530762, 9.880753517150879, 9.648543357849121, 8.388270378112793, 8.850863456726074, 8.854912757873535, 6.880102157592773, 9.18404769897461, 9.347965240478516, 8.863975524902344, 9.198481559753418, 7.195914268493652, 8.611098289489746, 9.51585865020752, 9.487523078918457, 8.442741394042969, 10.058944702148438, 9.766783714294434, 9.273470878601074, 10.05863094329834, 10.146751403808594, 9.073472023010254, 8.016971588134766, 8.262555122375488, 10.147366523742676, 9.87798023223877, 8.471038818359375, 9.945825576782227, 9.46003532409668, 9.183338165283203, 8.384007453918457, 9.762192726135254, 4.134942054748535, 8.676194190979004, 9.930883407592773, 7.829085826873779, 9.701136589050293, 9.94261360168457, 8.305461883544922, 9.506097793579102, 10.814535140991211, 9.633112907409668, 8.090612411499023, 9.917634010314941, 9.19149112701416, 9.553910255432129, 10.09896183013916, 8.846208572387695, 8.320260047912598, 9.44162368774414, 8.848365783691406, 9.964824676513672, 9.074258804321289, 9.215947151184082, 8.464018821716309, 8.325100898742676, 8.187577247619629, 10.456049919128418, 8.333810806274414, 9.456616401672363, 7.8548712730407715, 8.876148223876953, 9.76794719696045, 10.594616889953613, 10.154627799987793, 8.57003116607666, 10.053142547607422, 8.920223236083984, 9.109122276306152, 9.669261932373047, 8.768885612487793, 10.09714126586914, 8.38122844696045, 10.526741027832031, 8.151444435119629, 8.789114952087402, 9.940177917480469, 9.206308364868164, 9.580391883850098, 9.34106731414795, 10.151824951171875, 9.39871883392334, 9.407607078552246, 10.841852188110352, 8.35256290435791, 9.12916088104248, 8.991429328918457, 9.605610847473145, 7.604362964630127, 9.683382987976074, 8.50648021697998, 9.172914505004883, 9.499996185302734, 9.124197006225586, 10.770746231079102, 8.782073974609375, 8.755475044250488, 10.159826278686523, 10.066884994506836, 9.863543510437012, 8.960065841674805, 9.121146202087402, 10.387418746948242, 7.265844821929932, 9.767162322998047, 8.438798904418945, 9.753204345703125, 8.782953262329102, 9.128024101257324, 9.868266105651855, 9.665671348571777, 8.767508506774902, 8.80954647064209, 9.43664836883545, 10.093623161315918, 9.61143970489502, 10.37125301361084, 9.499879837036133, 9.902610778808594, 11.260784149169922, 10.183591842651367, 9.94582462310791, 9.941915512084961, 9.071610450744629, 7.514321804046631, 9.922318458557129, 9.518945693969727, 10.023138999938965, 8.890349388122559, 10.1201171875, 8.857382774353027, 7.9330315589904785, 9.388681411743164, 9.725064277648926, 10.092214584350586, 10.68482494354248, 10.222847938537598, 11.165583610534668, 8.25890064239502, 8.194141387939453, 9.724100112915039, 10.120569229125977, 8.513127326965332, 10.295366287231445, 8.539291381835938, 7.7978973388671875, 7.662077903747559, 10.358846664428711, 10.236881256103516, 8.635275840759277, 8.225564002990723, 9.4415922164917, 9.25752067565918, 7.875323295593262, 9.583135604858398, 8.998526573181152, 8.930739402770996, 9.372002601623535, 7.40257453918457, 8.743279457092285, 7.528770446777344, 8.897574424743652, 9.2475004196167, 9.714240074157715, 8.6996431350708, 9.559627532958984, 9.4490385055542, 8.041879653930664, 9.440953254699707, 9.014659881591797, 9.754719734191895, 9.30189037322998, 9.36130428314209, 9.307624816894531, 8.343887329101562, 8.799901008605957, 10.573044776916504, 9.4027738571167, 10.495811462402344, 8.944292068481445, 7.5390777587890625, 9.732821464538574, 7.210376739501953, 9.956974983215332, 10.182300567626953, 9.183501243591309, 7.042425155639648, 9.59831714630127, 7.3262128829956055, 9.747846603393555, 9.88895320892334, 9.94310474395752, 9.27366828918457, 8.141427040100098, 9.213092803955078, 9.696685791015625, 8.753992080688477, 8.189567565917969, 8.589360237121582, 9.072942733764648, 9.424925804138184, 5.727424144744873, 10.136608123779297, 9.402671813964844, 9.705048561096191, 10.433589935302734, 9.861385345458984, 8.908249855041504, 9.231690406799316, 9.830883026123047, 8.93545913696289, 10.07270336151123, 10.442862510681152, 10.062278747558594, 9.531761169433594, 7.6754231452941895, 10.029379844665527, 9.485733032226562, 10.18782901763916, 9.600736618041992, 10.39069652557373, 7.712690353393555, 7.654926300048828, 8.48344612121582, 7.650882720947266, 8.251513481140137, 9.1968994140625, 9.101310729980469, 8.951666831970215, 10.316055297851562, 8.334010124206543, 9.070977210998535, 9.060068130493164, 9.172891616821289, 9.09668254852295, 10.182988166809082, 10.231894493103027, 5.592429161071777, 10.128726959228516, 9.994169235229492, 10.100668907165527, 9.698333740234375, 9.683014869689941, 8.233203887939453, 8.429880142211914, 9.441537857055664, 8.754151344299316, 9.574861526489258, 9.416699409484863, 9.349016189575195, 8.346989631652832, 8.289278984069824, 10.358906745910645, 8.275556564331055, 7.804113864898682, 8.986836433410645, 9.45894718170166, 7.747091770172119, 7.607696533203125, 9.581435203552246, 9.838166236877441, 8.133136749267578, 10.358600616455078, 8.96346378326416, 7.886966705322266, 9.439071655273438, 8.998428344726562, 8.071022987365723, 10.249780654907227, 9.176734924316406, 8.642189025878906, 10.391654014587402, 8.481282234191895, 10.363730430603027, 8.215179443359375, 10.365842819213867, 10.224857330322266, 10.15664291381836, 9.858366012573242, 10.057548522949219, 8.87040901184082, 9.335143089294434, 8.407119750976562, 9.35379695892334, 7.802587032318115, 9.247273445129395, 9.533056259155273, 9.434564590454102, 9.917906761169434, 8.831512451171875, 10.618189811706543, 9.535916328430176, 9.307453155517578, 9.658712387084961, 8.932377815246582, 9.65894889831543, 7.55712890625, 8.447854995727539, 10.203941345214844, 10.220001220703125, 7.364808082580566, 8.983617782592773, 8.878859519958496, 10.126107215881348, 7.4842352867126465, 9.840994834899902, 9.339529037475586, 7.886849403381348, 8.264867782592773, 8.189567565917969, 10.049805641174316, 8.53696060180664, 9.628009796142578, 9.940196990966797, 9.29813003540039, 8.868612289428711, 9.196962356567383, 10.622241973876953, 8.690381050109863, 8.587430000305176, 9.392142295837402, 10.052587509155273, 9.825640678405762, 9.544211387634277, 9.333771705627441, 9.126380920410156, 8.85649299621582, 10.020800590515137, 9.188566207885742, 8.763500213623047, 9.236942291259766, 7.392248630523682, 8.468241691589355, 9.433387756347656, 9.91209888458252, 9.002435684204102, 9.834787368774414, 10.386312484741211, 9.611167907714844, 8.63051700592041, 9.472304344177246, 8.651320457458496, 8.27798080444336, 9.499238967895508, 6.48309850692749, 7.490331172943115, 9.376290321350098, 9.049715042114258, 9.719338417053223, 11.057220458984375, 9.711403846740723, 7.850242614746094, 6.835503101348877, 8.422564506530762, 8.851175308227539, 8.528572082519531, 9.670032501220703, 7.776125907897949, 9.27951717376709, 9.296695709228516, 10.121316909790039, 10.231963157653809, 10.038963317871094, 9.022723197937012, 9.116021156311035, 8.857391357421875, 7.119152069091797, 9.769350051879883, 7.907890319824219, 9.860387802124023, 9.73924446105957, 8.657369613647461, 9.055303573608398, 8.380027770996094, 9.920655250549316, 9.479460716247559, 9.75586986541748, 8.88422679901123, 8.923299789428711, 8.936298370361328, 7.261384010314941, 6.728855133056641, 8.74395751953125, 9.856890678405762, 8.246294975280762, 9.917346954345703, 9.344099998474121, 5.106110095977783, 10.00423526763916, 7.630693435668945, 9.648985862731934, 10.354134559631348, 9.98006534576416, 9.973064422607422, 9.7546968460083, 9.26989459991455, 9.596230506896973, 7.416280269622803, 8.252033233642578, 9.538832664489746, 9.127835273742676, 7.54757022857666, 9.840036392211914, 10.491072654724121, 9.321695327758789, 9.687358856201172, 10.289233207702637, 10.495821952819824, 10.495955467224121, 9.677281379699707, 8.938685417175293, 9.759987831115723, 9.655196189880371, 10.397367477416992, 9.626031875610352, 8.276396751403809, 8.47562313079834, 9.58206558227539, 9.303010940551758, 8.451238632202148, 9.184051513671875, 8.578453063964844, 8.41862678527832, 10.752081871032715, 9.321407318115234, 9.641776084899902, 10.006226539611816, 8.927786827087402, 8.62240982055664, 8.977652549743652, 8.129660606384277, 9.35258674621582, 9.212980270385742, 8.677956581115723, 10.195856094360352, 9.346569061279297, 8.601478576660156, 10.323628425598145, 9.088234901428223, 9.737723350524902, 9.910635948181152, 9.374947547912598, 9.21642780303955, 7.692501544952393, 9.445581436157227, 8.831658363342285, 9.526341438293457, 8.652924537658691, 8.71399211883545, 7.997584819793701, 8.401188850402832, 10.856468200683594, 9.612022399902344, 8.476022720336914, 8.083942413330078, 9.95432186126709, 10.263223648071289, 7.318970203399658, 9.013422966003418, 8.54512882232666, 8.99160385131836, 10.16340160369873, 8.966132164001465, 8.715262413024902, 9.349573135375977, 8.702298164367676, 10.12578296661377, 8.258886337280273, 10.414872169494629, 10.214896202087402, 9.601770401000977, 7.512084484100342, 8.295223236083984, 8.855705261230469, 9.553924560546875, 8.897953987121582, 7.7518205642700195, 8.877603530883789, 10.069706916809082, 8.012648582458496, 10.169075965881348, 8.397516250610352, 8.197495460510254, 8.669541358947754, 10.357088088989258, 9.452953338623047, 8.739518165588379, 5.830781936645508, 8.616497993469238, 8.527603149414062, 9.973393440246582, 9.953847885131836, 10.405269622802734, 8.35793685913086, 10.318415641784668, 9.609798431396484, 9.088278770446777, 8.910340309143066, 8.268684387207031, 9.802197456359863, 9.643101692199707, 10.238740921020508, 9.019497871398926, 9.071839332580566, 10.39099407196045, 9.25394058227539, 8.87279224395752, 9.096388816833496, 7.992106914520264, 10.353633880615234, 9.936869621276855, 8.835158348083496, 9.922101020812988, 10.155010223388672, 9.215479850769043, 10.177440643310547, 8.282951354980469, 9.412652015686035, 8.76536750793457, 8.69268798828125, 8.535902976989746, 9.336583137512207, 8.306845664978027, 10.627668380737305, 8.975196838378906, 7.863731861114502, 9.584817886352539, 9.784296035766602, 9.404021263122559, 7.308966636657715, 9.727377891540527, 7.487825870513916, 7.74961519241333, 8.218544006347656, 8.850672721862793, 10.19263744354248, 9.903724670410156, 9.463504791259766, 9.174010276794434, 9.397317886352539, 9.143138885498047, 8.618879318237305, 8.124688148498535, 10.218995094299316, 9.616568565368652, 9.695277214050293, 8.03786849975586, 8.271233558654785, 9.024373054504395, 8.19558334350586, 6.060401439666748, 8.822752952575684, 9.636889457702637, 8.722312927246094, 8.468965530395508, 7.95557975769043, 7.887356281280518, 7.890955448150635, 9.003292083740234, 9.566512107849121, 10.554624557495117, 9.602129936218262, 8.214876174926758, 10.276719093322754, 9.429061889648438, 8.52241325378418, 10.274986267089844, 8.532061576843262, 9.88787841796875, 9.40505599975586, 9.408880233764648, 10.027121543884277, 10.346245765686035, 9.337414741516113, 10.183452606201172, 9.54819107055664, 10.46696949005127, 8.959026336669922, 9.188796043395996, 6.686657905578613, 10.030767440795898, 7.534407138824463, 7.58055305480957, 8.832341194152832, 6.976925849914551, 10.118005752563477, 9.373279571533203, 9.122530937194824, 10.27648639678955, 8.991004943847656, 9.598671913146973, 9.122329711914062, 7.8004150390625, 9.545866012573242, 9.623130798339844, 9.876439094543457, 10.155632972717285, 9.411438941955566, 9.980485916137695, 8.83133316040039, 8.714811325073242, 8.791613578796387, 9.946866989135742, 11.083005905151367, 9.718423843383789, 9.331671714782715, 9.795689582824707, 9.619361877441406, 8.802541732788086, 9.156257629394531, 8.088576316833496, 9.5122709274292, 5.892608642578125, 8.820369720458984, 9.285222053527832, 9.726861953735352, 8.463550567626953, 9.913893699645996, 8.500083923339844, 9.67171859741211, 9.805502891540527, 9.110703468322754, 9.33897876739502, 9.194968223571777, 9.830657005310059, 8.900843620300293, 8.597134590148926, 9.92358684539795, 9.18720817565918, 8.278858184814453, 9.442140579223633, 9.98715877532959, 8.10464096069336, 10.472054481506348, 9.770992279052734, 9.886517524719238, 9.802274703979492, 9.255391120910645, 9.496685028076172, 8.189311981201172, 9.734512329101562, 9.26904296875, 10.264476776123047, 10.360832214355469, 8.599882125854492, 5.547625541687012, 9.21584701538086, 8.494406700134277, 9.888901710510254, 9.464526176452637, 9.313332557678223, 9.468639373779297, 9.126619338989258, 9.899944305419922, 9.128853797912598, 10.207338333129883, 10.014299392700195, 10.213213920593262, 8.88929271697998, 8.956579208374023, 9.92104434967041, 6.817599296569824, 9.522064208984375, 10.204535484313965, 8.873636245727539, 8.472603797912598, 8.90006160736084, 9.799012184143066, 6.421860218048096, 8.48904800415039, 9.571756362915039, 7.335660934448242, 9.92851448059082, 8.636331558227539, 9.376770973205566, 7.379312992095947, 10.127938270568848, 9.171582221984863, 10.505542755126953, 9.200251579284668, 10.128451347351074, 8.748618125915527, 9.530485153198242, 8.594840049743652, 9.22101879119873, 9.285387992858887, 10.294428825378418, 8.468596458435059, 10.165270805358887, 8.864413261413574, 9.526151657104492, 10.498845100402832, 6.918209075927734, 7.543580055236816, 10.032577514648438, 10.084394454956055, 10.067132949829102, 8.442068099975586, 9.465578079223633, 8.870941162109375, 9.007420539855957, 9.187472343444824, 7.946392059326172, 9.472820281982422, 9.645752906799316, 10.07696533203125, 9.240076065063477, 8.464692115783691, 10.120810508728027, 9.1708984375, 9.464333534240723, 8.353222846984863, 8.904302597045898, 8.965947151184082, 10.430777549743652, 9.12795639038086, 10.108064651489258, 8.500746726989746, 9.618457794189453, 9.181198120117188, 8.051180839538574, 10.111495018005371, 9.310928344726562, 9.310142517089844, 10.239618301391602, 7.713950157165527, 9.118671417236328, 9.233098983764648, 9.20547103881836, 9.076169967651367, 9.22905445098877, 8.043004989624023, 7.230415344238281, 8.940061569213867, 8.293865203857422, 9.56935977935791, 9.205784797668457, 9.343363761901855, 8.737225532531738, 9.762639045715332, 8.439851760864258, 8.92145824432373, 9.246345520019531, 9.436861038208008, 9.924320220947266, 10.156042098999023, 10.30027961730957, 8.190604209899902, 9.939021110534668, 9.55625057220459, 9.248870849609375, 8.804075241088867, 9.625574111938477, 7.5482306480407715, 8.210542678833008, 9.02022933959961, 8.613139152526855, 9.899292945861816, 9.500843048095703, 8.025294303894043, 9.781964302062988, 10.454379081726074, 10.625157356262207, 10.099867820739746, 9.319133758544922, 8.552639961242676, 9.524252891540527, 10.070901870727539, 9.535625457763672, 8.633015632629395, 8.55581283569336, 9.910932540893555, 9.20175838470459, 5.956857681274414, 9.401065826416016, 9.390131950378418, 9.204947471618652, 9.829937934875488, 9.18425464630127, 10.479047775268555, 10.159783363342285, 9.410518646240234, 10.115864753723145, 7.782407760620117, 8.702840805053711, 10.163785934448242, 9.070789337158203, 8.747374534606934, 8.332393646240234, 9.12253189086914, 10.467185974121094, 7.795145511627197, 10.00459098815918, 9.874117851257324, 9.562668800354004, 9.020566940307617, 9.955209732055664, 10.743682861328125, 9.947972297668457, 8.68382740020752, 9.216451644897461, 8.961272239685059, 10.344468116760254, 8.272163391113281, 8.433145523071289, 9.485185623168945, 9.384773254394531, 7.594903469085693, 10.079236030578613, 9.677088737487793, 9.359635353088379, 10.193337440490723, 10.21120548248291, 9.543872833251953, 8.8178129196167, 8.414862632751465, 10.768401145935059, 9.160463333129883, 10.096906661987305, 9.41910457611084, 9.331893920898438, 8.266834259033203, 9.373340606689453, 9.405777931213379, 9.610250473022461, 9.540876388549805, 10.315229415893555, 9.568928718566895, 10.030993461608887, 9.64079475402832, 9.328092575073242, 9.166220664978027, 9.380020141601562, 9.022396087646484, 9.414036750793457, 9.069805145263672, 5.816005229949951, 8.60184097290039, 8.773401260375977, 9.048643112182617, 10.697783470153809, 8.19163990020752, 8.725224494934082, 8.941106796264648, 9.118542671203613, 7.6699066162109375, 8.732616424560547, 9.677461624145508, 9.66119384765625, 9.688333511352539, 9.894266128540039, 9.794218063354492, 10.142682075500488, 8.253881454467773, 8.805044174194336, 9.145818710327148, 9.645475387573242, 9.617988586425781, 9.859399795532227, 8.584110260009766, 9.862046241760254, 7.20233678817749, 9.056436538696289, 9.495638847351074, 9.444358825683594, 8.25802230834961, 10.600590705871582, 10.058608055114746, 8.922530174255371, 8.406169891357422, 8.971202850341797, 9.516173362731934, 8.523858070373535, 9.715303421020508, 9.801456451416016, 9.8311767578125, 9.111932754516602, 7.028791427612305, 6.2067341804504395, 9.778257369995117, 10.534788131713867, 9.379620552062988, 9.431347846984863, 10.075881004333496, 9.504483222961426, 9.605453491210938, 9.44533634185791, 10.632109642028809, 10.176541328430176, 8.148504257202148, 9.991060256958008, 10.113946914672852, 8.540764808654785, 10.363279342651367, 8.164016723632812, 8.911370277404785, 9.37277603149414, 9.85434627532959, 9.252131462097168, 8.745963096618652, 9.090834617614746, 8.386225700378418, 7.895560264587402, 10.836729049682617, 10.890369415283203, 9.10538101196289, 9.496965408325195, 9.591659545898438, 8.150739669799805, 9.372666358947754, 10.415603637695312, 8.58145523071289, 9.212508201599121, 9.137473106384277, 7.56386137008667, 10.82900619506836, 9.384383201599121, 9.600796699523926, 8.88365650177002, 9.981517791748047, 9.003607749938965, 5.214302062988281, 9.540826797485352, 8.037132263183594, 9.128486633300781, 9.28011417388916, 8.920421600341797, 9.964012145996094, 9.613391876220703, 8.661337852478027, 10.098649024963379, 8.6199312210083, 9.559354782104492, 9.132796287536621, 7.259268760681152, 9.171669960021973, 9.319917678833008, 8.725480079650879, 8.908753395080566, 10.285295486450195, 9.403670310974121, 9.722708702087402, 8.403621673583984, 8.238007545471191, 9.856424331665039, 8.429993629455566, 7.621770858764648, 10.246607780456543, 8.600774765014648, 8.10619068145752, 7.660077095031738, 9.693178176879883, 10.3480863571167, 8.024827003479004, 8.61111831665039, 9.541354179382324, 7.588146209716797, 10.411825180053711, 9.378093719482422, 6.885298728942871, 9.07749080657959, 8.176732063293457, 8.73306655883789, 9.111258506774902, 9.206140518188477, 9.222066879272461, 9.384411811828613, 8.864608764648438, 8.360320091247559, 9.368354797363281, 9.182540893554688, 9.158831596374512, 9.279059410095215, 8.928510665893555, 10.448941230773926, 8.675321578979492, 9.635113716125488, 9.854950904846191, 8.838348388671875, 9.837058067321777, 9.06528091430664, 9.091180801391602, 8.44901180267334, 9.637595176696777, 7.798024654388428, 10.169159889221191, 7.705008506774902, 8.988072395324707, 10.315959930419922, 10.031436920166016, 9.473664283752441, 9.968534469604492, 9.750435829162598, 8.485299110412598, 9.182049751281738, 9.693767547607422, 8.333035469055176, 9.119303703308105, 9.732025146484375, 10.23233413696289, 9.299423217773438, 9.68410587310791, 8.94943618774414, 8.853185653686523, 9.063148498535156, 9.284318923950195, 8.809958457946777, 9.386944770812988, 9.47834587097168, 8.885483741760254, 8.57456111907959, 10.500993728637695, 9.802412986755371, 9.791172981262207, 9.580850601196289, 7.944339275360107, 8.81063461303711, 8.27439022064209, 8.557659149169922, 9.731138229370117, 8.955155372619629, 9.961027145385742, 9.867192268371582, 8.062981605529785, 5.3355817794799805, 9.891425132751465, 10.186894416809082, 7.946331977844238, 8.850566864013672, 9.51185131072998, 8.792989730834961, 10.215956687927246, 10.243996620178223, 9.643768310546875, 10.09756851196289, 7.469472885131836, 7.824818134307861, 9.615599632263184, 10.356522560119629, 8.377599716186523, 9.125872611999512, 10.530967712402344, 9.705848693847656, 6.722575664520264, 9.645075798034668, 8.900693893432617, 8.168464660644531, 9.626407623291016, 9.366904258728027, 9.903006553649902, 8.012016296386719, 9.066131591796875, 7.248819828033447, 10.290796279907227, 9.40846061706543, 10.233739852905273, 8.965411186218262, 7.522171497344971, 6.5768632888793945, 9.541938781738281, 8.669249534606934, 8.927743911743164, 8.557680130004883, 8.381536483764648, 8.871725082397461, 9.201155662536621, 9.300474166870117, 9.06362247467041, 9.949949264526367, 9.675322532653809, 8.037407875061035, 8.938469886779785, 7.545586109161377, 9.594035148620605, 9.711430549621582, 9.718673706054688, 8.328042984008789, 9.356569290161133, 10.054953575134277, 9.472261428833008, 9.704582214355469, 9.644707679748535, 9.002946853637695, 7.379422664642334, 8.824379920959473, 7.938058853149414, 9.177153587341309, 9.378661155700684, 9.1160249710083, 9.338706970214844, 10.008450508117676, 8.664385795593262, 8.467435836791992, 10.02637004852295, 9.663536071777344, 10.429754257202148, 9.328383445739746, 9.029929161071777, 8.902899742126465, 7.272638320922852, 10.39492130279541, 7.780454158782959, 9.933209419250488, 7.527332782745361, 8.801019668579102, 10.325855255126953, 10.417719841003418, 7.7803168296813965, 9.05958366394043, 9.057093620300293, 6.4879655838012695, 10.264348983764648, 9.221019744873047, 4.911340713500977, 9.371681213378906, 9.301438331604004, 9.693625450134277, 9.225632667541504, 9.634044647216797, 9.145939826965332, 9.84280014038086, 9.459712028503418, 8.405303001403809, 9.670622825622559, 10.687355995178223, 8.878271102905273, 10.346199989318848, 9.823203086853027, 9.507497787475586, 9.530237197875977, 9.374183654785156, 10.355317115783691, 9.581640243530273, 10.249493598937988, 10.021408081054688, 9.920844078063965, 10.142976760864258, 9.241148948669434, 9.299424171447754, 10.202549934387207, 8.167184829711914, 9.531417846679688, 8.024984359741211, 10.192780494689941, 9.828865051269531, 9.861334800720215, 10.430571556091309, 9.166566848754883, 9.262388229370117, 9.168571472167969, 10.799111366271973, 8.691651344299316, 9.01812744140625, 7.626212120056152, 9.049792289733887, 9.826125144958496, 7.998233318328857, 9.670060157775879, 9.074325561523438, 10.123079299926758, 9.442275047302246, 7.8981614112854, 9.297162055969238, 6.9123029708862305, 9.178354263305664, 9.687661170959473, 9.683615684509277, 9.348531723022461, 10.619889259338379, 8.429964065551758, 9.96034049987793, 9.649988174438477, 9.610407829284668, 10.490233421325684, 8.860944747924805, 9.066544532775879, 9.846564292907715, 10.61326789855957, 9.433855056762695, 9.66612434387207, 9.24767017364502, 7.532005786895752, 9.740217208862305, 10.226032257080078, 9.377323150634766, 9.786724090576172, 9.05111026763916, 8.649426460266113, 7.868330001831055, 8.091743469238281, 9.26009464263916, 9.50240707397461, 8.164793968200684, 9.27949047088623, 9.427145957946777, 8.970061302185059, 8.709729194641113, 10.334763526916504, 9.622730255126953, 9.671245574951172, 9.900424003601074, 8.464130401611328, 9.513762474060059, 9.844250679016113, 10.643027305603027, 10.192627906799316, 9.232476234436035, 8.344145774841309, 9.285002708435059, 10.020801544189453, 8.84985065460205, 9.88193416595459, 9.858592987060547, 8.134998321533203, 7.884632587432861, 9.349360466003418, 7.181751728057861, 8.545567512512207, 8.588458061218262, 8.205242156982422, 8.41279125213623, 5.646843433380127, 9.825091361999512, 7.944310665130615, 9.359790802001953, 10.554841041564941, 8.923425674438477, 7.53425407409668, 8.12536907196045, 9.918251037597656, 10.385564804077148, 8.102992057800293, 8.170780181884766, 9.352655410766602, 7.894593238830566, 9.728043556213379, 9.260355949401855, 9.454612731933594, 8.976228713989258, 8.677016258239746, 9.583022117614746, 8.080923080444336, 9.643535614013672, 9.203063011169434, 8.956194877624512, 10.006805419921875, 9.574936866760254, 9.173966407775879, 8.016891479492188, 9.008223533630371, 10.407262802124023, 10.494649887084961, 8.51072883605957, 8.776310920715332, 10.088150024414062, 9.548654556274414, 8.321388244628906, 9.096739768981934, 8.830501556396484, 8.400032997131348, 8.457210540771484, 8.325530052185059, 9.644415855407715, 9.683774948120117, 10.44547176361084, 8.785343170166016, 9.317214965820312, 9.43451976776123, 10.396087646484375, 7.946067810058594, 7.559887886047363, 9.746582984924316, 5.8492913246154785, 9.192580223083496, 8.890507698059082, 9.544709205627441, 9.028549194335938, 9.220780372619629, 9.43725872039795, 10.869489669799805, 8.027970314025879, 9.357649803161621, 8.046813011169434, 10.089622497558594, 8.900583267211914, 8.425813674926758, 10.537392616271973, 9.585811614990234, 8.719694137573242, 8.812092781066895, 10.270344734191895, 10.022884368896484, 9.219523429870605, 8.622100830078125, 9.795607566833496, 10.09157943725586, 9.653831481933594, 8.861760139465332, 8.384404182434082, 9.837100982666016, 9.657339096069336, 9.02988052368164, 9.484617233276367, 9.303043365478516, 8.985713005065918, 8.672966957092285, 9.537158012390137, 10.71953010559082, 9.972639083862305, 9.668830871582031, 9.954468727111816, 9.804830551147461, 9.740049362182617, 10.018797874450684, 9.750139236450195, 9.794512748718262, 10.644235610961914, 8.24721622467041, 9.240276336669922, 9.76573371887207, 9.426111221313477, 9.028871536254883, 9.000879287719727, 8.33408260345459, 8.77033519744873, 8.102246284484863, 9.835600852966309, 9.457587242126465, 7.118064880371094, 8.80605697631836, 8.888513565063477, 9.361833572387695, 9.135414123535156, 8.44104290008545, 9.6127347946167, 10.80524730682373, 9.09372329711914, 9.5521821975708, 6.845985412597656, 9.353297233581543, 9.006355285644531, 10.102275848388672, 8.764561653137207, 9.143357276916504, 9.92408561706543, 9.842684745788574, 8.653033256530762, 8.397919654846191, 9.001376152038574, 9.26195240020752, 8.618017196655273, 9.229829788208008, 9.05488395690918, 8.587382316589355, 9.818350791931152, 9.317035675048828, 9.743669509887695, 10.25545883178711, 9.39261531829834, 10.06153392791748, 10.195398330688477, 8.848027229309082, 8.898910522460938, 9.101224899291992, 10.847709655761719, 10.02487564086914, 9.007609367370605, 7.855316162109375, 9.891453742980957, 8.551722526550293, 10.017321586608887, 8.457193374633789, 9.003763198852539, 9.924715995788574, 8.127370834350586, 9.19652271270752, 7.997646331787109, 9.279730796813965, 8.805402755737305, 8.14677619934082, 8.7787446975708, 8.50873851776123, 7.807781219482422, 9.508472442626953, 9.539679527282715, 8.40320110321045, 8.899444580078125, 9.604987144470215, 9.496053695678711, 9.182034492492676, 9.72180461883545, 9.711989402770996, 9.313937187194824, 9.00949478149414, 10.398667335510254, 8.927234649658203, 9.635640144348145, 9.197883605957031, 10.404404640197754, 9.438924789428711, 10.475957870483398, 8.676767349243164, 9.376811981201172, 8.63866138458252, 8.60429573059082, 9.631110191345215, 9.407806396484375, 9.220331192016602, 9.515068054199219, 8.646876335144043, 9.710543632507324, 9.443819046020508, 9.494701385498047, 9.773918151855469, 7.1394829750061035, 9.099932670593262, 9.57348918914795, 9.099329948425293, 9.196722984313965, 9.79080581665039, 9.473102569580078, 9.201676368713379, 9.902974128723145, 8.759820938110352, 8.695289611816406, 10.046217918395996, 10.04311466217041, 9.775078773498535, 9.436799049377441, 9.007457733154297, 9.569514274597168, 7.842066764831543, 9.453539848327637, 9.564377784729004, 8.47917366027832, 9.939188957214355, 8.60776424407959, 10.511548042297363, 9.544819831848145, 8.959712982177734, 7.668778896331787, 10.088747024536133, 11.064078330993652, 7.811105251312256, 9.182408332824707, 10.411168098449707, 7.781035423278809, 9.785304069519043, 9.842171669006348, 9.714405059814453, 7.688205718994141, 7.837472438812256, 9.440720558166504, 8.946049690246582, 10.591081619262695, 7.053674221038818, 9.475506782531738, 10.287599563598633, 10.001978874206543, 10.406005859375, 9.729158401489258, 1.6250908374786377, 8.36386775970459, 10.57600212097168, 9.122417449951172, 9.900568962097168, 8.539590835571289, 8.705735206604004, 8.914201736450195, 9.526229858398438, 9.939169883728027, 10.046785354614258, 8.917706489562988, 8.313343048095703, 9.469362258911133, 10.050873756408691, 9.96191692352295, 9.63355827331543, 9.187538146972656, 9.493476867675781, 9.115331649780273, 9.52873420715332, 10.150821685791016, 10.10405445098877, 7.769217014312744, 8.615142822265625, 8.852800369262695, 10.51282787322998, 8.796324729919434, 10.022356033325195, 9.922830581665039, 8.834623336791992, 9.355173110961914, 9.0059175491333, 9.386308670043945, 8.847896575927734, 9.500930786132812, 7.8802313804626465, 9.9130859375, 6.40519905090332, 9.279699325561523, 9.592281341552734, 9.12285041809082, 8.163183212280273, 9.38637638092041, 7.8383965492248535, 8.948463439941406, 9.095169067382812, 9.063060760498047, 8.586338996887207, 8.19941520690918, 10.138866424560547, 8.827251434326172, 9.203874588012695, 8.55650520324707, 8.508456230163574, 9.968476295471191, 9.273933410644531, 9.823078155517578, 7.269030570983887, 9.39925765991211, 7.864606857299805, 9.434772491455078, 7.684661865234375, 10.303157806396484, 9.324203491210938, 9.983184814453125, 8.757378578186035, 8.607867240905762, 6.871702194213867, 10.059446334838867, 8.986523628234863, 8.245388984680176, 9.616096496582031, 9.776164054870605, 8.733532905578613, 7.028015613555908, 9.243061065673828, 9.923145294189453, 7.570101737976074, 10.570196151733398, 8.772871971130371, 8.773405075073242, 8.513140678405762, 9.904145240783691, 8.355353355407715, 8.726806640625, 7.121922492980957, 8.822851181030273, 8.611298561096191, 10.096434593200684, 9.687092781066895, 10.326434135437012, 10.491262435913086, 8.515687942504883, 9.96057415008545, 10.836695671081543, 10.320490837097168, 8.738526344299316, 9.714292526245117, 10.735607147216797, 8.664957046508789, 9.521097183227539, 9.847444534301758, 9.212957382202148, 8.458980560302734, 8.887068748474121, 9.567805290222168, 9.188468933105469, 8.675972938537598, 10.023752212524414, 8.995631217956543, 9.70064926147461, 9.161608695983887, 9.544724464416504, 7.358351230621338, 10.201115608215332, 9.59035873413086, 8.191323280334473, 9.186840057373047, 8.237367630004883, 9.866406440734863, 9.88371753692627, 10.351339340209961, 9.705634117126465, 9.574936866760254, 9.03099250793457, 9.92103385925293, 10.426992416381836, 8.872588157653809, 9.014110565185547, 8.398252487182617, 9.289430618286133, 9.700295448303223, 7.510934352874756, 9.6416015625, 10.286317825317383, 8.396267890930176, 9.697019577026367, 10.445233345031738, 8.815967559814453, 9.826842308044434, 8.33799934387207, 9.116105079650879, 9.016855239868164, 8.222591400146484, 9.40650463104248, 10.316615104675293, 9.617890357971191, 10.05467700958252, 10.034174919128418, 9.28178596496582, 8.533763885498047, 7.527706146240234, 8.495369911193848, 8.810336112976074, 10.24337100982666, 8.28711986541748, 8.976394653320312, 9.59380054473877, 9.837311744689941, 9.656798362731934, 9.277193069458008, 9.040692329406738, 9.442689895629883, 9.555882453918457, 10.131536483764648, 8.869585990905762, 8.474486351013184, 8.743961334228516, 10.144577980041504, 9.70263957977295, 8.582855224609375, 9.914594650268555, 8.752758979797363, 10.054450988769531, 10.886558532714844, 8.871729850769043, 8.805434226989746, 9.553766250610352, 9.593689918518066, 8.885451316833496, 9.699118614196777, 9.81287956237793, 8.191576957702637, 9.220882415771484, 10.139618873596191, 8.417900085449219, 8.751753807067871, 8.585808753967285, 9.043432235717773, 9.058847427368164, 8.84487533569336, 10.189556121826172, 10.204535484313965, 9.35525131225586, 9.52075481414795, 8.69543743133545, 7.863590717315674, 9.068184852600098, 7.264801025390625, 6.7243475914001465, 9.113069534301758, 7.6738691329956055, 8.507894515991211, 8.189590454101562, 8.556593894958496, 7.229929447174072, 9.470780372619629, 9.275250434875488, 8.759733200073242, 10.195219039916992, 8.205719947814941, 9.753768920898438, 8.992359161376953, 9.807924270629883, 8.238130569458008, 9.4430513381958, 9.707581520080566, 8.604297637939453, 5.619479656219482, 9.51012897491455, 9.939422607421875, 9.893869400024414, 8.533807754516602, 9.839675903320312, 8.893771171569824, 9.161247253417969, 10.257405281066895, 9.090093612670898, 7.525022506713867, 8.539450645446777, 9.213622093200684, 9.393644332885742, 10.126543998718262, 9.036269187927246, 10.0144681930542, 9.555608749389648, 8.484951972961426, 9.115913391113281, 9.510527610778809, 9.53247356414795, 9.81312370300293, 9.173654556274414, 10.211492538452148, 8.56104564666748, 9.351462364196777, 9.88226318359375, 10.080950736999512, 9.880195617675781, 5.545312881469727, 9.933844566345215, 9.389936447143555, 8.7296142578125, 9.356467247009277, 9.13996410369873, 9.257946968078613, 10.302398681640625, 8.858136177062988, 9.570106506347656, 9.381596565246582, 8.764941215515137, 9.789640426635742, 10.752038955688477, 9.741219520568848, 7.674535751342773, 9.495304107666016, 8.952994346618652, 8.862506866455078, 7.949904918670654, 9.428184509277344, 8.531719207763672, 9.367087364196777, 10.28814697265625, 9.946125030517578, 9.837723731994629, 10.174689292907715, 8.001742362976074, 9.434252738952637, 7.885113716125488, 9.785353660583496, 9.289877891540527, 9.683627128601074, 9.679825782775879, 9.153206825256348, 10.46855354309082, 9.871012687683105, 8.901959419250488, 9.224761009216309, 9.535642623901367, 8.812033653259277, 7.702699184417725, 8.95015811920166, 8.428102493286133, 9.07791805267334, 7.665016174316406, 6.954379558563232, 9.108868598937988, 8.606324195861816, 9.886061668395996, 8.935005187988281, 7.903891086578369, 9.089518547058105, 9.063103675842285, 10.258310317993164, 9.120020866394043, 9.403414726257324, 9.82849407196045, 9.903017044067383, 7.563504219055176, 9.11473274230957, 10.054166793823242, 9.715375900268555, 8.950271606445312, 10.088955879211426, 9.756664276123047, 9.40572738647461, 9.835247993469238, 9.40965461730957, 10.220715522766113, 8.380603790283203, 10.543717384338379, 8.39720344543457, 9.517823219299316, 10.866137504577637, 5.106110095977783, 9.546487808227539, 9.903656005859375, 9.835084915161133, 6.867982387542725, 8.169759750366211, 8.847620010375977, 9.907428741455078, 9.673164367675781, 10.84605598449707, 8.634354591369629, 8.52804183959961, 9.12002944946289, 8.825328826904297, 8.414870262145996, 9.614130020141602, 10.29434585571289, 8.944290161132812, 9.351405143737793, 9.832006454467773, 10.570906639099121, 8.215392112731934, 8.190686225891113, 8.658632278442383, 10.018250465393066, 10.070993423461914, 7.488093376159668, 7.310150146484375, 10.248120307922363, 8.261992454528809, 9.912548065185547, 9.103301048278809, 9.18526554107666, 8.45374870300293, 9.854092597961426, 8.867332458496094, 9.503730773925781, 10.051762580871582, 9.177722930908203, 7.944695472717285, 9.893872261047363, 8.00634765625, 10.506163597106934, 9.8886137008667, 9.065510749816895, 9.425522804260254, 10.233514785766602, 9.784979820251465, 9.852859497070312, 8.735838890075684, 9.985764503479004, 8.866304397583008, 9.062179565429688, 6.4879655838012695, 10.547958374023438, 9.920167922973633, 9.060916900634766, 8.660712242126465, 9.287684440612793, 9.521214485168457, 9.196211814880371, 9.918338775634766, 7.903337478637695, 9.269964218139648, 9.38916301727295, 10.190876007080078, 9.773645401000977, 10.21375560760498, 9.613320350646973, 9.192381858825684, 8.768654823303223, 9.72103500366211, 8.933741569519043, 10.073476791381836, 9.737934112548828, 9.813512802124023, 8.188185691833496, 8.32982349395752, 8.559409141540527, 9.229851722717285, 10.036444664001465, 7.926825046539307, 9.971789360046387, 7.216294288635254, 8.541728973388672, 9.829268455505371, 8.95811653137207, 10.630751609802246, 9.728924751281738, 8.839430809020996, 9.798741340637207, 9.019411087036133, 8.954042434692383, 8.782435417175293, 8.976556777954102, 9.483951568603516, 8.032916069030762, 8.10856819152832, 7.936707019805908, 9.097832679748535, 10.308144569396973, 8.714669227600098, 8.380796432495117, 9.97354793548584, 9.915338516235352, 8.186015129089355, 9.367761611938477, 7.823994159698486, 9.083148956298828, 9.10673713684082, 10.128485679626465, 9.520273208618164, 9.899866104125977, 7.880597114562988, 8.881688117980957, 9.235665321350098, 8.985883712768555, 8.146275520324707, 8.271241188049316, 10.095464706420898, 9.697799682617188, 9.352797508239746, 9.779895782470703, 10.75367259979248, 9.34559154510498, 8.472146987915039, 8.641355514526367, 9.494484901428223, 9.850380897521973, 9.20211410522461, 9.81116008758545, 10.387728691101074, 9.519392013549805, 9.62735366821289, 10.158588409423828, 10.121074676513672, 9.0221586227417, 9.474064826965332, 7.403446674346924, 9.245654106140137, 9.302200317382812, 9.331571578979492, 10.291609764099121, 9.597189903259277, 9.174202919006348, 10.24925422668457, 9.100349426269531, 8.436673164367676, 10.149847030639648, 8.320662498474121, 8.667972564697266, 9.925446510314941, 8.065074920654297, 9.1945161819458, 9.14997386932373, 8.472214698791504, 9.243206024169922, 9.606517791748047, 9.435284614562988, 7.9105706214904785, 5.809382438659668, 5.953839302062988, 9.489670753479004, 9.611187934875488, 9.320945739746094, 9.940156936645508, 9.456744194030762, 8.778963088989258, 9.6923828125, 9.43895149230957, 8.729369163513184, 9.018529891967773, 10.136207580566406, 8.072640419006348, 9.251736640930176, 8.40819263458252, 9.480573654174805, 9.604548454284668, 9.75914192199707, 9.393380165100098, 7.826038837432861, 10.23311710357666, 8.250275611877441, 10.430405616760254, 8.997651100158691, 9.637654304504395, 9.324947357177734, 10.098686218261719, 9.416436195373535, 9.462672233581543, 10.383369445800781, 9.821104049682617, 9.681159973144531, 8.853808403015137, 9.478257179260254, 8.875506401062012, 10.276345252990723, 9.315641403198242, 8.917180061340332, 7.868330001831055, 7.360355854034424, 10.278817176818848, 8.894641876220703, 8.442403793334961, 8.442267417907715, 9.750570297241211, 7.646398067474365, 9.729470252990723, 9.415915489196777, 9.917441368103027, 9.560725212097168, 9.624948501586914, 9.843096733093262, 9.774189949035645, 7.616816520690918, 7.903683185577393, 9.410512924194336, 9.428302764892578, 10.204535484313965, 9.246367454528809, 10.110383033752441, 8.24698257446289, 8.11447525024414, 9.009782791137695, 10.220169067382812, 8.218046188354492, 8.914435386657715, 10.45311164855957, 9.41538143157959, 9.553634643554688, 8.039628982543945, 10.039769172668457, 8.56165599822998, 7.272895812988281, 9.409554481506348, 9.849007606506348, 6.096480369567871, 9.04033374786377, 10.094978332519531, 8.686601638793945, 8.31384563446045, 10.105113983154297, 9.51311206817627, 9.598485946655273, 9.622690200805664, 9.78410530090332, 9.4339599609375, 9.042281150817871, 9.638053894042969, 9.63867473602295, 9.797603607177734, 7.086737632751465, 8.87699031829834, 9.52299690246582, 9.921092987060547, 11.277885437011719, 10.427651405334473, 8.16014289855957, 8.876996994018555, 10.628625869750977, 10.192089080810547, 9.574389457702637, 9.014491081237793, 8.50589370727539, 5.47995662689209, 8.833830833435059, 9.503342628479004, 9.784724235534668, 9.16774845123291, 9.408182144165039, 8.602755546569824, 8.896166801452637, 9.640067100524902, 9.865696907043457, 6.832334041595459, 9.895001411437988, 8.918659210205078, 9.199810028076172, 9.563546180725098, 10.415080070495605, 8.763556480407715, 9.52113151550293, 9.881587982177734, 8.768163681030273, 9.001312255859375, 8.725661277770996, 9.092681884765625, 9.43520736694336, 7.106019496917725, 8.950053215026855, 6.698011875152588, 10.026894569396973, 10.124013900756836, 9.93891429901123, 9.385734558105469, 9.10452651977539, 9.497007369995117, 9.450373649597168, 8.735426902770996, 8.805482864379883, 7.884053707122803, 8.647583961486816, 8.668155670166016, 6.924695014953613, 9.507254600524902, 8.53409194946289, 10.055587768554688, 10.277359962463379, 7.941706657409668, 9.943778038024902, 10.16736888885498, 9.35778522491455, 9.94969654083252, 9.707999229431152, 9.497396469116211, 7.928744316101074, 8.937736511230469, 10.606256484985352, 9.96060848236084, 7.426509380340576, 8.463602066040039, 9.159523963928223, 9.23958969116211, 8.720799446105957, 9.854242324829102, 10.092129707336426, 9.848029136657715, 9.804730415344238, 8.53101921081543, 8.641780853271484, 5.834021091461182, 9.332595825195312, 9.481817245483398, 7.051028728485107, 8.895755767822266, 10.493371963500977, 9.783368110656738, 10.150114059448242, 9.122217178344727, 9.218017578125, 8.09878921508789, 9.395963668823242, 8.55898666381836, 9.234652519226074, 6.4879655838012695, 9.99897289276123, 8.83073616027832, 9.883755683898926, 7.350057601928711, 10.340575218200684, 8.65559196472168, 9.448945045471191, 9.924298286437988, 8.318990707397461, 10.496030807495117, 8.739823341369629, 8.627300262451172, 9.820570945739746, 9.577754020690918, 7.989018440246582, 9.521714210510254, 9.614130020141602, 8.09325122833252, 10.168618202209473, 9.096220016479492, 8.482240676879883, 7.3425116539001465, 9.14652156829834, 10.840693473815918, 10.233465194702148, 9.939799308776855, 8.021170616149902, 10.566622734069824, 9.467083930969238, 9.154528617858887, 8.53678035736084, 7.782237529754639, 9.598767280578613, 10.044510841369629, 8.580097198486328, 9.020901679992676, 8.162494659423828, 8.974564552307129, 9.969050407409668, 9.066483497619629, 7.583791732788086, 9.207880020141602, 9.080734252929688, 10.123516082763672, 10.208928108215332, 10.216419219970703, 7.874475955963135, 10.612123489379883, 9.898550033569336, 7.678891658782959, 9.589146614074707, 9.127527236938477, 8.3997163772583, 10.467113494873047, 8.021317481994629, 8.996460914611816, 10.363113403320312, 6.921681880950928, 8.303557395935059, 9.02881145477295, 10.251541137695312, 9.20166301727295, 9.657489776611328, 9.2598295211792, 8.506133079528809, 8.435662269592285, 10.070636749267578, 9.452188491821289, 10.195722579956055, 10.756549835205078, 10.23098373413086, 10.219222068786621, 10.615673065185547, 10.060384750366211, 7.385212421417236, 7.942131996154785, 10.221495628356934, 10.292121887207031, 9.850378036499023, 9.94133186340332, 9.386683464050293, 9.183027267456055, 9.275125503540039, 10.322844505310059, 9.262362480163574, 6.8488054275512695, 9.109014511108398, 8.037877082824707, 8.74855899810791, 10.334599494934082, 7.288217544555664, 9.235687255859375, 10.043794631958008, 8.444754600524902, 10.135111808776855, 10.143145561218262, 9.747371673583984, 9.131388664245605, 8.874235153198242, 9.226286888122559, 9.394723892211914, 9.989936828613281, 10.529181480407715, 9.627212524414062, 10.075066566467285, 9.972712516784668, 9.333200454711914, 9.9798002243042, 8.656303405761719, 9.41275405883789, 9.476268768310547, 8.76012897491455, 9.960022926330566, 8.941753387451172, 9.829421043395996, 8.911528587341309, 8.143240928649902, 9.132691383361816, 9.297492027282715, 9.268479347229004, 7.566760063171387, 8.745210647583008, 8.374629020690918, 8.65379810333252, 8.750102996826172, 8.54516887664795, 8.727771759033203, 8.918896675109863, 9.738373756408691, 10.269431114196777, 6.920492649078369, 8.248394012451172, 9.15023136138916, 10.070990562438965, 8.520359992980957, 7.839412212371826, 8.79599380493164, 8.166654586791992, 9.148687362670898, 11.019736289978027, 8.683457374572754, 10.012410163879395, 9.123650550842285, 9.506257057189941, 10.755656242370605, 9.658677101135254, 9.708610534667969, 9.901206016540527, 9.036615371704102, 10.142557144165039, 9.411386489868164, 10.21066665649414, 9.734945297241211, 9.883757591247559, 10.463810920715332, 8.35998249053955, 8.264199256896973, 10.680113792419434, 10.71466064453125, 9.636491775512695, 7.837506294250488, 5.980457305908203, 8.69890308380127, 9.324663162231445, 8.391707420349121, 7.909152984619141, 7.618758201599121, 8.372353553771973, 6.470393657684326, 7.984713077545166, 9.018304824829102, 8.201501846313477, 9.250042915344238, 9.582924842834473, 9.910537719726562, 9.765824317932129, 8.912611961364746, 9.063084602355957, 10.063159942626953, 9.838855743408203, 10.338459968566895, 7.851280689239502, 9.253013610839844, 9.727837562561035, 9.936786651611328, 10.124300956726074, 9.897278785705566, 9.955456733703613, 9.612151145935059, 10.186283111572266, 9.765061378479004, 9.478626251220703, 9.418148040771484, 9.021100997924805, 9.657220840454102, 9.195773124694824, 9.91930866241455, 9.81519603729248, 9.601123809814453, 9.979021072387695, 8.22846794128418, 10.076333045959473, 9.064042091369629, 10.08615779876709, 9.371286392211914, 9.833441734313965, 9.050443649291992, 9.380451202392578, 10.424429893493652, 7.656214237213135, 9.225459098815918, 9.64697551727295, 6.4508056640625, 9.285179138183594, 8.756845474243164, 4.134942054748535, 9.152715682983398, 9.868677139282227, 9.22838020324707, 9.184774398803711, 8.1343412399292, 8.448386192321777, 9.515217781066895, 9.251463890075684, 9.335946083068848, 9.233169555664062, 9.757057189941406, 10.594474792480469, 10.766107559204102, 10.359766960144043, 8.803561210632324, 6.902838706970215, 8.671143531799316, 9.849308013916016, 8.158679962158203, 9.462635040283203, 10.06717586517334, 9.521886825561523, 7.685840129852295, 8.570923805236816, 10.20698070526123, 8.74901008605957, 10.173223495483398, 9.387935638427734, 9.820121765136719, 9.449654579162598, 9.487682342529297, 9.691460609436035, 9.865533828735352, 8.408571243286133, 9.043671607971191, 9.26331615447998, 9.145479202270508, 10.442245483398438, 9.145486831665039, 9.255606651306152, 7.539768218994141, 8.076979637145996, 8.66806697845459, 10.124200820922852, 7.840757846832275, 8.917182922363281, 8.09903335571289, 9.562677383422852, 7.456117153167725, 10.04757022857666, 9.741034507751465, 9.363883972167969, 8.970362663269043, 9.660565376281738, 9.498872756958008, 9.697688102722168, 10.02770709991455, 9.573176383972168, 8.769730567932129, 9.217763900756836, 9.681689262390137, 10.168972969055176, 9.13012409210205, 8.916559219360352, 8.904576301574707, 8.632233619689941, 9.368999481201172, 7.910362720489502, 9.341854095458984, 7.9091339111328125, 9.803351402282715, 8.270137786865234, 9.076471328735352, 9.611913681030273, 9.553393363952637, 8.805100440979004, 9.988751411437988, 9.342131614685059, 9.441230773925781, 8.024356842041016, 11.227783203125, 10.551700592041016, 9.260588645935059, 8.002429962158203, 8.909807205200195, 10.362764358520508, 8.949901580810547, 9.559452056884766, 8.427006721496582, 9.689156532287598, 9.069355010986328, 5.106110095977783, 9.868234634399414, 8.189567565917969, 9.682608604431152, 9.610448837280273, 9.593523979187012, 8.649627685546875, 8.241127967834473, 8.998108863830566, 6.285386085510254, 10.44398021697998, 9.984294891357422, 9.71445083618164, 10.402562141418457, 7.875952243804932, 7.382011413574219, 8.860283851623535, 10.048871040344238, 9.74406623840332, 8.617889404296875, 9.468862533569336, 8.053376197814941, 8.786787033081055, 8.77137565612793, 9.163965225219727, 8.220662117004395, 9.168302536010742, 9.606828689575195, 9.693641662597656, 10.247220993041992, 8.399091720581055, 7.087069034576416, 9.178374290466309, 9.23580265045166, 9.628994941711426, 9.68126392364502, 9.775233268737793, 9.327085494995117, 10.799942016601562, 7.4403228759765625, 10.387252807617188, 9.34753704071045, 8.037117004394531, 10.154891967773438, 8.806313514709473, 9.189603805541992, 10.389832496643066, 9.604716300964355, 8.955629348754883, 9.54628849029541, 8.7178373336792, 8.860395431518555, 9.431123733520508, 7.290401935577393, 9.501190185546875, 9.413846969604492, 9.13529109954834, 9.509235382080078, 8.88197135925293, 9.260417938232422, 8.666799545288086, 9.628191947937012, 9.511955261230469, 8.47594928741455, 9.531601905822754, 10.053771018981934, 8.502197265625, 9.614943504333496, 9.371588706970215, 9.624044418334961, 9.274164199829102, 9.192428588867188, 8.651145935058594, 8.963749885559082, 7.729318618774414, 8.812484741210938, 8.096921920776367, 9.063612937927246, 9.942752838134766, 9.981548309326172, 10.085050582885742, 8.147809982299805, 10.30452823638916, 10.37333869934082, 10.437153816223145, 6.9518232345581055, 5.940115928649902, 9.438183784484863, 9.173078536987305, 9.343001365661621, 8.992740631103516, 7.296056747436523, 8.881041526794434, 10.307650566101074, 11.084744453430176, 10.158782005310059, 9.255990982055664, 8.489426612854004, 8.04155158996582, 8.80122184753418, 9.073824882507324, 7.272173881530762, 9.656002044677734, 8.8139009475708, 8.5170316696167, 7.9889702796936035, 9.476983070373535, 9.898040771484375, 9.363663673400879, 10.35626220703125, 8.322996139526367, 9.81317138671875, 7.028557777404785, 7.45194149017334, 8.092426300048828, 8.793367385864258, 8.77569580078125, 9.528597831726074, 7.866333961486816, 8.789180755615234, 8.988289833068848, 9.200898170471191, 8.661307334899902, 9.628232955932617, 9.092392921447754, 9.673164367675781, 10.507980346679688, 8.687511444091797, 9.15942668914795, 8.876849174499512, 10.555335998535156, 9.42739200592041, 9.270652770996094, 7.688320636749268, 7.613169193267822, 9.824227333068848, 8.56094741821289, 10.412879943847656, 9.197775840759277, 8.784138679504395, 9.102294921875, 8.12307357788086, 8.857892990112305, 9.515495300292969, 9.689570426940918, 9.386442184448242, 10.192208290100098, 7.572480201721191, 9.263445854187012, 7.504848480224609, 10.094911575317383, 7.751211643218994, 9.431049346923828, 6.59845495223999, 9.37239933013916, 10.238420486450195, 10.182242393493652, 9.717637062072754, 9.469991683959961, 8.70163345336914, 6.654829978942871, 9.918984413146973, 10.397494316101074, 10.02755355834961, 9.067671775817871, 8.453825950622559, 9.154956817626953, 7.931718826293945, 8.796403884887695, 9.576764106750488, 7.392873287200928, 9.421181678771973, 8.849608421325684, 8.876763343811035, 9.26826000213623, 9.880370140075684, 8.65283489227295, 9.14593505859375, 9.187378883361816, 9.513772010803223, 8.99156665802002, 9.825602531433105, 9.1514253616333, 7.371694564819336, 8.634849548339844, 8.843847274780273, 9.201056480407715, 6.069396018981934, 9.09927749633789, 9.766777992248535, 10.200733184814453, 6.723860263824463, 9.787129402160645, 8.535661697387695, 9.588199615478516, 9.541374206542969, 9.528946876525879, 10.182378768920898, 7.384918212890625, 9.422775268554688, 7.681556224822998, 9.288726806640625, 8.819355010986328, 9.43459701538086, 7.811434268951416, 9.566608428955078, 9.49826431274414, 9.350974082946777, 9.9449462890625, 9.592601776123047, 9.072588920593262, 9.912911415100098, 9.857364654541016, 10.325173377990723, 8.644389152526855, 8.867969512939453, 9.985296249389648, 7.9965667724609375, 9.746817588806152, 9.351428031921387, 9.970006942749023, 9.808748245239258, 10.101835250854492, 9.784211158752441, 9.537721633911133, 9.181676864624023, 8.967731475830078, 9.94388198852539, 8.118253707885742, 10.001822471618652, 9.378212928771973, 9.182076454162598, 8.307902336120605, 9.709824562072754, 7.285421371459961, 7.066201210021973, 9.774821281433105, 7.692545413970947, 9.222893714904785, 10.218975067138672, 7.239248275756836, 8.674139022827148, 9.211755752563477, 9.578255653381348, 10.716818809509277, 9.553412437438965, 8.747411727905273, 9.908585548400879, 8.721441268920898, 9.71462345123291, 9.329604148864746, 9.747721672058105, 7.931516647338867, 9.630522727966309, 9.19176197052002, 10.326376914978027, 8.29564380645752, 8.189784049987793, 8.182429313659668, 9.587664604187012, 10.168392181396484, 9.737640380859375, 9.671609878540039, 9.474987983703613, 10.073694229125977, 9.217584609985352, 7.762750148773193, 7.752520561218262, 9.584043502807617, 8.850809097290039, 10.368964195251465, 8.265799522399902, 9.49596881866455, 9.648761749267578, 9.154938697814941, 9.488941192626953, 7.8103556632995605, 8.565327644348145, 8.506078720092773, 8.880526542663574, 8.159893035888672, 9.30607795715332, 9.505223274230957, 8.706207275390625, 9.099710464477539, 8.404989242553711, 10.204535484313965, 4.427695274353027, 9.319510459899902, 8.201863288879395, 8.801487922668457, 8.586099624633789, 9.051762580871582, 7.197073459625244, 9.365615844726562, 9.108841896057129, 8.562067031860352, 9.93691349029541, 9.443428993225098, 9.42772102355957, 9.718693733215332, 10.325177192687988, 9.45041275024414, 8.24892807006836, 9.143353462219238, 8.799003601074219, 8.86288070678711, 10.215819358825684, 9.448083877563477, 10.742752075195312, 10.194792747497559, 8.8306884765625, 7.827830791473389, 8.670735359191895, 10.353326797485352, 8.786486625671387, 9.47956657409668, 9.139992713928223, 9.14859676361084, 9.558177947998047, 10.67768383026123, 8.410816192626953, 7.75913667678833, 8.921749114990234, 8.92459774017334, 9.299324035644531, 9.254860877990723, 10.171330451965332, 7.247608184814453, 9.016295433044434, 6.6932291984558105, 10.121641159057617, 5.890255451202393, 9.794299125671387, 9.609248161315918, 10.218361854553223, 8.557631492614746, 10.840741157531738, 9.293025016784668, 10.105113983154297, 9.881561279296875, 7.814879417419434, 10.702676773071289, 9.306356430053711, 9.239099502563477, 10.788570404052734, 7.846936225891113, 9.239758491516113, 9.69951343536377, 9.56246566772461, 8.363127708435059, 8.63068962097168, 8.800745964050293, 9.289408683776855, 9.625269889831543, 10.925578117370605, 9.927441596984863, 10.50890064239502, 8.452118873596191, 7.044947624206543, 9.20722484588623, 9.517558097839355, 10.108335494995117, 8.914559364318848, 9.914467811584473, 8.499054908752441, 10.088308334350586, 10.043767929077148, 9.557515144348145, 9.480796813964844, 7.9127607345581055, 9.82896614074707, 9.107709884643555, 9.215185165405273, 9.639303207397461, 9.547272682189941, 8.872069358825684, 9.857967376708984, 9.889339447021484, 10.338016510009766, 9.185035705566406, 9.490272521972656, 8.54858684539795, 9.672757148742676, 9.549213409423828, 9.779351234436035, 6.427043914794922, 10.686607360839844, 8.330432891845703, 8.7268705368042, 10.118828773498535, 7.9273247718811035, 10.412095069885254, 9.703681945800781, 10.305803298950195, 8.077712059020996, 9.600229263305664, 9.68826961517334, 9.657573699951172, 8.015714645385742, 9.160558700561523, 8.59619426727295, 7.29628849029541, 6.343023300170898, 10.199313163757324, 7.24161958694458, 9.682696342468262, 8.45146369934082, 10.108219146728516, 9.289732933044434, 8.901397705078125, 10.89154052734375, 7.156191349029541, 8.685935020446777, 6.552003383636475, 8.897720336914062, 9.651150703430176, 6.4879655838012695, 9.786264419555664, 10.543697357177734, 9.381601333618164, 8.689257621765137, 10.261327743530273, 9.818007469177246, 8.168588638305664, 8.92699909210205, 8.331144332885742, 9.103020668029785, 7.4842352867126465, 9.812469482421875, 9.791485786437988, 9.812366485595703, 10.160786628723145, 9.708184242248535, 9.140456199645996, 9.808932304382324, 8.530840873718262, 8.401193618774414, 9.166533470153809, 10.219985961914062, 8.132065773010254, 10.370723724365234, 8.200559616088867, 8.32166576385498, 8.7935791015625, 9.252777099609375, 9.931449890136719, 9.542195320129395, 9.010436058044434, 8.868024826049805, 10.301340103149414, 8.265576362609863, 9.178689956665039, 9.688620567321777, 9.861617088317871, 7.980672359466553, 8.062552452087402, 9.381101608276367, 9.055691719055176, 7.903940677642822, 9.714214324951172, 8.047110557556152, 9.955808639526367, 9.46489143371582, 9.062688827514648, 8.752792358398438, 9.78222942352295, 9.612764358520508, 9.534329414367676, 9.914076805114746, 9.311604499816895, 9.218600273132324, 9.527400970458984, 6.552304744720459, 9.204717636108398, 9.737571716308594, 10.214932441711426, 9.883917808532715, 8.919042587280273, 9.937682151794434, 10.1218900680542, 8.655028343200684, 10.208541870117188, 10.21173095703125, 8.299657821655273, 9.050823211669922, 7.293927192687988, 8.635498046875, 8.36243724822998, 10.067387580871582, 8.72547721862793, 9.431136131286621, 11.055208206176758, 7.767700672149658, 8.982529640197754, 9.92203140258789, 8.914990425109863, 9.42882251739502, 8.604105949401855, 9.725966453552246, 8.387079238891602, 9.234225273132324, 9.0109281539917, 8.013117790222168, 9.510376930236816, 9.693746566772461, 9.407690048217773, 7.3544087409973145, 8.575118064880371, 9.274123191833496, 9.728684425354004, 9.086342811584473, 9.326584815979004, 9.196745872497559, 9.10043716430664, 9.093795776367188, 9.065370559692383, 8.848993301391602, 9.397848129272461, 8.905962944030762, 6.491943359375, 9.043745040893555, 9.213067054748535, 7.583961486816406, 8.75100326538086, 9.275131225585938, 9.896299362182617, 10.224929809570312, 10.466436386108398, 7.993903160095215, 8.538321495056152, 8.694722175598145, 8.685382843017578, 8.153596878051758, 9.81152629852295, 9.557377815246582, 8.328137397766113, 10.255229949951172, 9.775223731994629, 8.377656936645508, 7.056417942047119, 9.77859878540039, 9.643961906433105, 9.101374626159668, 8.217302322387695, 9.401004791259766, 10.495193481445312, 9.725049018859863, 9.249815940856934, 10.342972755432129, 7.55319356918335, 10.844630241394043, 5.87521505355835, 8.913217544555664, 6.513182163238525, 9.689834594726562, 8.22629165649414, 8.831698417663574, 9.708803176879883, 10.039800643920898, 7.440171718597412, 9.022700309753418, 8.371068954467773, 8.851560592651367, 10.202082633972168, 9.676578521728516, 8.08637809753418, 9.285223960876465, 10.599503517150879, 10.618220329284668, 8.28971004486084, 8.904306411743164, 9.82880687713623, 8.062646865844727, 9.103948593139648, 8.894329071044922, 10.018928527832031, 9.397682189941406, 9.338180541992188, 8.666394233703613, 8.472975730895996, 9.916359901428223, 8.721394538879395, 9.484387397766113, 9.472289085388184, 9.336793899536133, 8.732276916503906, 8.905731201171875, 9.511067390441895, 9.050031661987305, 10.750203132629395, 6.2567033767700195, 7.995649814605713, 9.596991539001465, 9.10172176361084, 9.63597297668457, 9.230300903320312, 9.133005142211914, 9.311063766479492, 7.997400283813477, 9.070549964904785, 9.734795570373535, 9.802690505981445, 7.160472869873047, 9.697088241577148, 9.840982437133789, 9.447916984558105, 9.640289306640625, 8.57889461517334, 9.723650932312012, 8.500917434692383, 10.047342300415039, 8.21874713897705, 9.082448959350586, 8.702285766601562, 10.371838569641113, 9.850496292114258, 9.435474395751953, 10.557694435119629, 9.135655403137207, 9.125255584716797, 8.894827842712402, 7.7622971534729, 8.950675964355469, 8.9128999710083, 10.138774871826172, 7.311557292938232, 9.126824378967285, 8.651068687438965, 9.61532974243164, 10.262716293334961, 10.12762451171875, 9.814931869506836, 9.031461715698242, 9.683743476867676, 7.55589485168457, 8.056492805480957, 9.74841022491455, 8.525708198547363, 7.491302967071533, 8.983827590942383, 8.706987380981445, 9.59738540649414, 7.535240650177002, 10.800508499145508, 9.713529586791992, 10.31514835357666, 8.132719993591309, 9.865283012390137, 8.86102294921875, 6.737817287445068, 11.1929292678833, 9.139172554016113, 10.802705764770508, 9.879642486572266, 9.439416885375977, 9.844335556030273, 9.186261177062988, 9.646490097045898, 8.547286987304688, 9.897035598754883, 9.753976821899414, 9.780045509338379, 10.037073135375977, 8.463875770568848, 10.221181869506836, 9.17533016204834, 9.263387680053711, 9.382859230041504, 10.068451881408691, 9.035136222839355, 9.77631950378418, 10.203276634216309, 8.958685874938965, 9.289339065551758, 8.602763175964355, 10.694354057312012, 9.295641899108887, 8.784639358520508, 8.665623664855957, 9.699572563171387, 10.11667251586914, 10.523687362670898, 9.170711517333984, 9.58515739440918, 7.9091339111328125, 9.677342414855957, 8.288414001464844, 9.600174903869629, 9.61712646484375, 9.435705184936523, 8.168997764587402, 10.283913612365723, 8.62497615814209, 9.255006790161133, 9.137567520141602, 6.089845657348633, 8.698331832885742, 10.281984329223633, 10.052124977111816, 8.55226993560791, 6.3307204246521, 9.198235511779785, 8.43331241607666, 9.204345703125, 9.206710815429688, 7.810138702392578, 8.361227989196777, 9.443657875061035, 9.673164367675781, 9.179840087890625, 7.7824859619140625, 8.02682876586914, 9.74461555480957, 8.508103370666504, 10.689712524414062, 9.163737297058105, 9.63945198059082, 8.372969627380371, 7.439327239990234, 6.868133068084717, 9.221026420593262, 8.869305610656738, 9.667998313903809, 10.673566818237305, 8.667794227600098, 8.603534698486328, 9.963372230529785, 9.5578031539917, 9.213202476501465, 9.241339683532715, 9.186806678771973, 8.01907730102539, 8.695052146911621, 9.872010231018066, 8.828652381896973, 9.044856071472168, 9.615731239318848, 9.170913696289062, 8.883787155151367, 9.163138389587402, 9.397445678710938, 9.497997283935547, 6.284154891967773, 9.546648025512695, 9.477509498596191, 8.669058799743652, 9.304037094116211, 10.196516036987305, 9.67846965789795, 9.205926895141602, 9.389472961425781, 9.145060539245605, 9.486031532287598, 7.967406272888184, 8.335996627807617, 9.36707878112793, 9.033809661865234, 9.85025691986084, 8.871109962463379, 9.186577796936035, 8.788012504577637, 8.459857940673828, 9.507494926452637, 8.110291481018066, 8.212228775024414, 6.7492570877075195, 10.567535400390625, 10.049787521362305, 9.785323143005371, 9.662056922912598, 8.44793701171875, 9.265959739685059, 8.67330551147461, 9.785316467285156, 8.977530479431152, 8.737632751464844, 9.0298433303833, 9.9912691116333, 6.879671573638916, 9.755973815917969, 10.158647537231445, 8.91242504119873, 10.383087158203125, 9.010564804077148, 8.879345893859863, 8.3884916305542, 9.786179542541504, 9.896740913391113, 8.59880256652832, 8.872029304504395, 8.801986694335938, 9.01573371887207, 10.204535484313965, 9.94504165649414, 9.768317222595215, 10.115638732910156, 8.27369213104248, 8.684574127197266, 9.130450248718262, 8.719575881958008, 8.7346830368042, 10.720927238464355, 9.270146369934082, 10.628682136535645, 9.846576690673828, 7.444084167480469, 10.072275161743164, 9.952306747436523, 8.489724159240723, 9.34458065032959, 8.010506629943848, 8.82140827178955, 9.841639518737793, 9.57558536529541, 9.230463027954102, 8.909321784973145, 9.825982093811035, 8.548798561096191, 8.8971586227417, 8.376327514648438, 8.766111373901367, 10.154757499694824, 7.477879524230957, 9.531726837158203, 8.230379104614258, 9.976347923278809, 9.502992630004883, 7.450551509857178, 8.336435317993164, 9.128576278686523, 9.679571151733398, 9.948076248168945, 8.798754692077637, 7.768604755401611, 9.680471420288086, 7.3729047775268555, 8.120429039001465, 9.149018287658691, 9.456881523132324, 9.056093215942383, 10.874292373657227, 9.48155403137207, 8.703357696533203, 9.207517623901367, 9.519266128540039, 9.970391273498535, 9.451871871948242, 8.781359672546387, 8.073801040649414, 8.789583206176758, 8.771795272827148, 9.382027626037598, 10.43509292602539, 7.462421894073486, 10.09185791015625, 8.95364761352539, 8.221123695373535, 8.687941551208496, 9.912700653076172, 9.587668418884277, 9.721098899841309, 10.639657020568848, 9.632877349853516, 10.068562507629395, 9.702022552490234, 7.162909984588623, 9.19063949584961, 9.300370216369629, 9.68991470336914, 9.514609336853027, 9.826563835144043, 9.152929306030273, 7.202007293701172, 9.704794883728027, 8.709550857543945, 8.410008430480957, 9.306952476501465, 8.130569458007812, 9.241665840148926, 9.343600273132324, 8.456570625305176, 9.028766632080078, 9.930994033813477, 8.562849044799805, 9.711167335510254, 7.637433052062988, 10.365376472473145, 8.990506172180176, 9.384490013122559, 8.691489219665527, 10.268050193786621, 9.172820091247559, 8.37096881866455, 8.689404487609863, 9.733312606811523, 9.71388053894043, 7.6052165031433105, 8.82326602935791, 8.313676834106445, 10.050762176513672, 9.921690940856934, 10.569008827209473, 10.672730445861816, 8.775483131408691, 9.534748077392578, 9.393439292907715, 9.436047554016113, 8.135266304016113, 8.84493350982666, 9.207979202270508, 10.445385932922363, 10.431718826293945, 10.142172813415527, 9.456402778625488, 8.6484956741333, 9.762423515319824, 10.885636329650879, 9.122431755065918, 6.845985412597656, 9.49129867553711, 9.100617408752441, 9.052190780639648, 9.806181907653809, 9.624768257141113, 10.733190536499023, 7.861507415771484, 10.222600936889648, 10.27389144897461, 8.89564323425293, 8.986199378967285, 9.311755180358887, 9.842313766479492, 8.877116203308105, 8.087238311767578, 9.97662353515625, 8.76210880279541, 10.002344131469727, 7.553751468658447, 9.539984703063965, 7.242439270019531, 8.01436996459961, 8.768366813659668, 7.868330001831055, 9.786303520202637, 9.64751148223877, 7.729616641998291, 9.399541854858398, 9.183743476867676, 10.19664192199707, 8.081093788146973, 8.975130081176758, 8.27379322052002, 8.329734802246094, 8.933717727661133, 9.539709091186523, 10.445099830627441, 9.739741325378418, 8.92803955078125, 9.517912864685059, 9.149922370910645, 9.258519172668457, 10.009190559387207, 9.72676944732666, 9.243925094604492, 9.885991096496582, 9.368741989135742, 9.599162101745605, 9.502937316894531, 8.627888679504395, 9.66775894165039, 9.085352897644043, 9.745434761047363, 9.00423526763916, 9.537833213806152, 9.276835441589355, 8.551811218261719, 9.948124885559082, 9.479244232177734, 9.786906242370605, 10.070307731628418, 8.246907234191895, 10.271191596984863, 9.719635963439941, 8.826343536376953, 10.120187759399414, 10.43608283996582, 8.137979507446289, 8.191323280334473, 8.687496185302734, 8.912654876708984, 9.679244041442871, 8.678179740905762, 10.28017520904541, 9.259031295776367, 7.8899760246276855, 9.627645492553711, 10.2864351272583, 9.278453826904297, 10.128195762634277, 10.34206771850586, 8.225132942199707, 8.153557777404785, 9.028411865234375, 9.47265625, 8.096510887145996, 10.064445495605469, 9.017580032348633, 9.564215660095215, 9.961010932922363, 8.755172729492188, 8.83578872680664, 9.556081771850586, 10.101441383361816, 9.416029930114746, 7.347537517547607, 9.455467224121094, 9.58226490020752, 10.411011695861816, 8.048644065856934, 9.463823318481445, 8.667320251464844, 10.296643257141113, 9.456404685974121, 9.629182815551758, 8.45240306854248, 9.4634370803833, 9.006037712097168, 9.089615821838379, 10.256389617919922, 9.476053237915039, 10.178613662719727, 9.09920883178711, 9.086938858032227, 8.510946273803711, 9.254256248474121, 9.074594497680664, 8.825526237487793, 9.112422943115234, 5.815769672393799, 8.731925010681152, 8.041624069213867, 8.37471866607666, 7.161134243011475, 9.868254661560059, 7.628340721130371, 10.15015983581543, 10.443081855773926, 10.723955154418945, 8.95658016204834, 9.972002029418945, 9.578556060791016, 10.620919227600098, 10.159788131713867, 9.187237739562988, 8.27377700805664, 8.152480125427246, 10.419205665588379, 8.860774993896484, 9.060616493225098, 8.780123710632324, 8.361895561218262, 8.926730155944824, 9.75650691986084, 8.765398025512695, 9.170181274414062, 9.859907150268555, 8.57805347442627, 9.677114486694336, 8.411109924316406, 9.099713325500488, 6.112146854400635, 9.518316268920898, 8.718876838684082, 8.62844181060791, 9.497758865356445, 8.74454402923584, 8.841076850891113, 8.655318260192871, 5.69342565536499, 8.240945816040039, 7.179966449737549, 9.821805953979492, 8.49606990814209, 9.979825019836426, 6.989478588104248, 8.4437894821167, 9.473286628723145, 8.73017406463623, 10.06484317779541, 6.879968643188477, 9.31589126586914, 9.312165260314941, 9.361474990844727, 8.993415832519531, 9.847248077392578, 5.127998352050781, 9.640625, 10.63878059387207, 10.773442268371582, 9.292994499206543, 9.844673156738281, 8.971078872680664, 8.651383399963379, 9.221147537231445, 5.106110095977783, 9.034390449523926, 9.45858383178711, 9.0139799118042, 9.732110977172852, 8.615102767944336, 9.555893898010254, 9.645528793334961, 9.16332721710205, 10.206842422485352, 9.555774688720703, 7.659766674041748, 9.23783016204834, 9.71821403503418, 8.471010208129883, 6.9144086837768555, 9.800821304321289, 9.345523834228516, 9.56240177154541, 9.143868446350098, 9.546738624572754, 9.57895278930664, 9.082121849060059, 10.696272850036621, 8.833113670349121, 9.629151344299316, 7.981114387512207, 8.122234344482422, 8.17609977722168, 9.920541763305664, 10.216222763061523, 9.191347122192383, 9.718969345092773, 9.16507339477539, 10.24034309387207, 8.554319381713867, 9.485764503479004, 9.684625625610352, 8.681106567382812, 9.479183197021484, 9.106037139892578, 10.0617036819458, 9.434187889099121, 10.458978652954102, 8.925511360168457, 9.254886627197266, 8.604866027832031, 10.415629386901855, 9.817828178405762, 8.284065246582031, 9.244686126708984, 7.950490474700928, 10.877171516418457, 9.31043815612793, 9.070209503173828, 8.212631225585938, 10.062701225280762, 9.686226844787598, 8.926774024963379, 10.518965721130371, 7.273937225341797, 9.27379322052002, 10.503556251525879, 9.542841911315918, 9.464367866516113, 10.285567283630371, 10.272006034851074, 10.537310600280762, 8.266557693481445, 9.95263957977295, 7.9875102043151855, 6.476004123687744, 7.687047004699707, 9.087308883666992, 9.447101593017578, 9.574936866760254, 8.755533218383789, 6.294358730316162, 9.032249450683594, 10.024361610412598, 10.522589683532715, 9.174241065979004, 9.710742950439453, 10.719442367553711, 8.950949668884277, 8.616071701049805, 9.944802284240723, 9.997522354125977, 9.953089714050293, 9.603910446166992, 9.771160125732422, 8.724072456359863, 8.71500301361084, 10.159899711608887, 9.533121109008789, 8.941179275512695, 9.29437255859375, 8.211653709411621, 9.226922988891602, 9.892021179199219, 9.50040054321289, 8.621461868286133, 8.600626945495605, 9.94404411315918, 9.655355453491211, 10.243988037109375, 8.650162696838379, 8.826699256896973, 10.163434028625488, 8.582270622253418, 8.914226531982422, 9.232093811035156, 10.526556015014648, 8.87244701385498, 9.241903305053711, 6.749979496002197, 8.550846099853516, 10.546374320983887, 10.095500946044922, 10.540907859802246, 9.39599609375, 10.166584968566895, 8.526159286499023, 9.911670684814453, 8.469701766967773, 9.63811206817627, 9.915101051330566, 8.506875038146973, 9.548600196838379, 8.912611961364746, 9.175888061523438, 10.078181266784668, 9.203424453735352, 9.22739315032959, 9.429766654968262, 9.464881896972656, 9.987298011779785, 10.311591148376465, 8.023477554321289, 9.558725357055664, 9.264427185058594, 9.304643630981445, 10.235407829284668, 9.352779388427734, 10.134237289428711, 9.909839630126953, 6.7969441413879395, 9.449850082397461, 10.219459533691406, 9.681920051574707, 10.585241317749023, 8.079902648925781, 9.808975219726562, 8.693045616149902, 8.133859634399414, 5.940115928649902, 9.433295249938965, 6.230502605438232, 8.542437553405762, 7.144736289978027, 9.147143363952637, 9.44009780883789, 9.865920066833496, 10.325108528137207, 8.984901428222656, 9.998284339904785, 8.977690696716309, 7.8641510009765625, 8.876800537109375, 8.464183807373047, 10.304702758789062, 8.378929138183594, 8.997992515563965, 10.791427612304688, 8.860556602478027, 10.005913734436035, 8.584793090820312, 9.227343559265137, 8.483864784240723, 8.187589645385742, 9.681174278259277, 8.702226638793945, 9.700770378112793, 8.42585563659668, 9.561933517456055, 9.118008613586426, 8.823173522949219, 9.263015747070312, 7.340051651000977, 8.616209030151367, 10.186457633972168, 9.32999324798584, 9.576676368713379, 8.122058868408203, 9.7155179977417, 7.532655239105225, 7.945503234863281, 8.229511260986328, 9.889894485473633, 9.276408195495605, 8.895503997802734, 9.217426300048828, 10.248778343200684, 9.791659355163574, 9.282743453979492, 9.115750312805176, 9.576516151428223, 9.393684387207031, 9.525528907775879, 10.031105041503906, 9.114691734313965, 8.78490161895752, 7.592175006866455, 7.385018348693848, 10.599722862243652, 8.665401458740234, 8.62162971496582, 8.843703269958496, 9.964986801147461, 8.734114646911621, 8.93778133392334, 9.552054405212402, 9.611031532287598, 10.125227928161621, 5.666421890258789, 8.61142635345459, 9.068178176879883, 9.93073558807373, 8.728453636169434, 9.055255889892578, 10.257126808166504, 9.171304702758789, 10.303135871887207, 8.980585098266602, 8.46284008026123, 10.135507583618164, 10.254820823669434, 10.155789375305176, 9.987991333007812, 8.304513931274414, 9.141165733337402, 10.04999828338623, 9.397767066955566, 7.730550289154053, 8.963140487670898, 9.023429870605469, 9.985301971435547, 9.164134979248047, 9.967906951904297, 9.50728988647461, 8.446843147277832, 7.521268844604492, 10.355900764465332, 7.789517879486084, 8.554250717163086, 9.854934692382812, 10.160894393920898, 8.635568618774414, 8.936765670776367, 9.033438682556152, 9.515828132629395, 7.0029730796813965, 8.497258186340332, 9.813071250915527, 9.133367538452148, 8.23961067199707, 9.286803245544434, 9.912546157836914, 10.360567092895508, 8.4286470413208, 9.588682174682617, 9.633607864379883, 8.647635459899902, 8.145654678344727, 10.169912338256836, 9.681958198547363, 7.849287986755371, 10.0321683883667, 9.745830535888672, 8.503615379333496, 9.285124778747559, 9.195561408996582, 9.736921310424805, 10.344306945800781, 10.174625396728516, 8.34717845916748, 9.551194190979004, 9.085609436035156, 9.17309284210205, 10.370912551879883, 8.922425270080566, 9.50823974609375, 9.792135238647461, 7.383682727813721, 9.812939643859863, 9.204780578613281, 9.07883358001709, 9.82448959350586, 7.738957405090332, 8.985159873962402, 9.987839698791504, 9.77375316619873, 10.067675590515137, 9.696599960327148, 9.736177444458008, 8.936671257019043, 9.77483081817627, 8.94701862335205, 9.869590759277344, 9.276044845581055, 8.59730339050293, 9.4031982421875, 8.41152286529541, 8.731047630310059, 8.698445320129395, 9.982794761657715, 8.941985130310059, 9.256522178649902, 9.921916961669922, 9.858442306518555, 9.86534595489502, 9.01180648803711, 8.831913948059082, 9.328765869140625, 8.192048072814941, 9.806944847106934, 8.507552146911621, 10.145744323730469, 10.279435157775879, 10.866856575012207, 9.657381057739258, 9.3438138961792, 9.22582721710205, 9.802206993103027, 9.038434982299805, 8.921541213989258, 10.614273071289062, 8.542057991027832, 9.976420402526855, 7.4362640380859375, 9.669614791870117, 9.94629192352295, 9.718714714050293, 10.514483451843262, 8.330107688903809, 9.282888412475586, 3.136930227279663, 8.291772842407227, 9.694121360778809, 10.266613006591797, 9.469903945922852, 9.487445831298828, 8.536576271057129, 8.721020698547363, 10.428607940673828, 9.640096664428711, 7.855649948120117, 9.462499618530273, 9.379318237304688, 8.82957649230957, 9.442730903625488, 10.264588356018066, 7.067114353179932, 8.74795913696289, 7.271127223968506, 8.50610637664795, 5.940115928649902, 10.327950477600098, 9.115419387817383, 6.8248796463012695, 6.93089485168457, 7.524232864379883, 10.75991153717041, 9.097270965576172, 8.92385196685791, 9.355609893798828, 10.187405586242676, 9.621602058410645, 9.369539260864258, 9.515321731567383, 9.853588104248047, 7.908967971801758, 9.436882972717285, 9.828462600708008, 7.953287124633789, 8.276037216186523, 9.715496063232422, 8.416045188903809, 10.285347938537598, 8.953818321228027, 10.465721130371094, 8.71321964263916, 10.06717586517334, 10.674700736999512, 10.302281379699707, 10.135007858276367, 8.458734512329102, 8.356492042541504, 9.992711067199707, 10.35892105102539, 9.231630325317383, 7.847474575042725, 8.021371841430664, 10.50890064239502, 8.200733184814453, 9.356598854064941, 8.947151184082031, 9.445816993713379, 8.990406036376953, 9.971010208129883, 9.958233833312988, 9.682353973388672, 9.392114639282227, 10.05424976348877, 7.470552921295166, 8.95334529876709, 8.880915641784668, 7.64537239074707, 10.421712875366211, 9.208357810974121, 9.37749195098877, 8.719554901123047, 10.569135665893555, 9.249448776245117, 9.73156452178955, 9.148420333862305, 8.686718940734863, 9.129233360290527, 9.948919296264648, 8.20007038116455, 8.530104637145996, 8.923565864562988, 9.02554988861084, 8.728681564331055, 9.651189804077148, 9.190643310546875, 9.052872657775879, 9.501080513000488, 8.505194664001465, 9.494549751281738, 8.215011596679688, 9.504563331604004, 9.621908187866211, 7.80018424987793, 8.689223289489746, 9.595110893249512, 8.790816307067871, 9.21468734741211, 9.692258834838867, 7.518390655517578, 9.69155502319336, 8.57463550567627, 10.260443687438965, 8.816636085510254, 8.647324562072754, 9.800132751464844, 9.19432258605957, 8.758149147033691, 9.822111129760742, 8.328128814697266, 9.467279434204102, 10.708882331848145, 3.29107666015625, 10.053999900817871, 8.627185821533203, 10.121115684509277, 7.819502353668213, 10.345088958740234, 8.087187767028809, 9.941610336303711, 10.481856346130371, 10.235918998718262, 9.948305130004883, 8.18165397644043, 9.36870288848877, 9.915024757385254, 8.224827766418457, 6.951547622680664, 9.757940292358398, 9.45531177520752, 10.260636329650879, 9.988471984863281, 9.671406745910645, 9.468621253967285, 8.999044418334961, 9.790425300598145, 9.744088172912598, 9.021830558776855, 7.2808637619018555, 10.533169746398926, 9.69462776184082, 8.735956192016602, 9.652003288269043, 8.907868385314941, 9.417434692382812, 10.10576057434082, 8.602914810180664, 9.895550727844238, 9.85739803314209, 9.451525688171387, 9.919376373291016, 9.847306251525879, 9.157135963439941, 9.579063415527344, 9.982075691223145, 10.433698654174805, 9.44128704071045, 9.894110679626465, 9.032739639282227, 10.465963363647461, 10.280908584594727, 8.916959762573242, 9.701312065124512, 8.146925926208496, 8.344654083251953, 9.193868637084961, 9.69383716583252, 9.505899429321289, 9.722476959228516, 6.971982479095459, 8.430545806884766, 8.188157081604004, 9.335144996643066, 9.294487953186035, 8.796996116638184, 9.926090240478516, 9.642139434814453, 9.935616493225098, 9.787946701049805, 9.335258483886719, 9.56115436553955, 9.328232765197754, 9.686497688293457, 8.801549911499023, 7.8733367919921875, 8.94032096862793, 9.961463928222656, 9.052538871765137, 8.865094184875488, 10.318610191345215, 7.568253993988037, 9.437518119812012, 9.084566116333008, 9.728432655334473, 8.793252944946289, 8.054308891296387, 8.712599754333496, 9.09852409362793, 9.94782829284668, 9.848111152648926, 10.687304496765137, 9.902591705322266, 9.810293197631836, 8.885214805603027, 8.827302932739258, 7.582706928253174, 9.443902015686035, 9.342554092407227, 9.73492431640625, 9.049883842468262, 9.85628604888916, 9.84669017791748, 9.231164932250977, 8.797139167785645, 10.33983325958252, 8.447997093200684, 9.470621109008789, 10.76037883758545, 9.613215446472168, 8.249246597290039, 6.081634044647217, 10.394339561462402, 9.404470443725586, 9.225364685058594, 10.9540433883667, 9.379663467407227, 8.385764122009277, 9.411449432373047, 10.30737018585205, 10.199263572692871, 8.211786270141602, 8.718035697937012, 10.00955581665039, 8.999574661254883, 9.555060386657715, 9.579291343688965, 9.564314842224121, 9.305743217468262, 8.483821868896484, 9.709790229797363, 10.246129989624023, 10.140419960021973, 8.956523895263672, 9.175028800964355, 10.743021011352539, 8.714180946350098, 9.031597137451172, 9.648120880126953, 10.020650863647461, 10.191987037658691, 10.690381050109863, 9.501835823059082, 9.844223022460938, 9.3186616897583, 9.84781265258789, 9.322888374328613, 9.239350318908691, 8.167411804199219, 9.073328018188477, 8.232454299926758, 8.782514572143555, 8.670528411865234, 8.2080078125, 9.780378341674805, 8.763542175292969, 9.88880729675293, 9.025510787963867, 8.684625625610352, 8.222597122192383, 9.912013053894043, 9.56929874420166, 9.506462097167969, 9.775348663330078, 9.365533828735352, 10.15022087097168, 10.099625587463379, 8.045031547546387, 10.102469444274902, 9.094501495361328, 9.018916130065918, 9.273544311523438, 9.744505882263184, 9.338142395019531, 8.072417259216309, 9.673397064208984, 10.031705856323242, 9.361015319824219, 7.649460315704346, 8.657751083374023, 9.013137817382812, 8.680708885192871, 8.774921417236328, 7.418251037597656, 10.545647621154785, 9.276411056518555, 9.628783226013184, 10.190668106079102, 9.777082443237305, 9.618236541748047, 8.634931564331055, 9.504786491394043, 6.654898166656494, 9.922924995422363, 10.226934432983398, 9.784361839294434, 7.796600341796875, 9.944616317749023, 9.507476806640625, 8.919973373413086, 9.769003868103027, 9.756424903869629, 8.333884239196777, 10.173651695251465, 10.22939395904541, 10.013051986694336, 5.176345348358154, 8.769331932067871, 9.063474655151367, 7.556572914123535, 9.684148788452148, 8.959372520446777, 9.95844554901123, 10.180018424987793, 6.152095317840576, 9.50418472290039, 9.780805587768555, 5.018051624298096, 9.957634925842285, 9.9516019821167, 9.666450500488281, 9.449750900268555, 7.6715168952941895, 9.395268440246582, 8.646075248718262, 9.446883201599121, 7.874018669128418, 9.377240180969238, 9.794065475463867, 8.711641311645508, 8.489436149597168, 9.517402648925781, 7.762607097625732, 9.040312767028809, 10.31486988067627, 7.4413652420043945, 10.125710487365723, 5.176345348358154, 10.504171371459961, 10.225419044494629, 8.637024879455566, 10.46445369720459, 8.374497413635254, 9.854434967041016, 5.159868240356445, 8.687263488769531, 9.883763313293457, 9.930159568786621, 9.153594017028809, 9.440766334533691, 8.768901824951172, 8.694439888000488, 8.923022270202637, 10.417956352233887, 8.588915824890137, 8.384798049926758, 10.157374382019043, 9.517388343811035, 7.404414176940918, 10.315601348876953, 10.661301612854004, 7.757480144500732, 9.557405471801758, 9.573211669921875, 9.001673698425293, 9.604045867919922, 9.186835289001465, 9.253024101257324, 9.735452651977539, 9.55918025970459, 10.2524995803833, 9.510222434997559, 10.735361099243164, 8.020624160766602, 9.673164367675781, 9.28258991241455, 9.733543395996094, 8.781113624572754, 9.174670219421387, 9.796036720275879, 9.021078109741211, 8.081138610839844, 10.204301834106445, 10.557089805603027, 10.138550758361816, 9.819500923156738, 9.790177345275879, 9.056498527526855, 10.2708158493042, 8.13786506652832, 9.574936866760254, 8.373126983642578, 9.757172584533691, 10.202982902526855, 9.069905281066895, 9.802681922912598, 9.061380386352539, 8.401166915893555, 8.83825969696045, 10.267276763916016, 8.346705436706543, 9.973319053649902, 10.441862106323242, 8.9896821975708, 9.196035385131836, 9.73009967803955, 9.339956283569336, 7.920296669006348, 8.402213096618652, 8.500995635986328, 9.007365226745605, 9.405644416809082, 10.06161880493164, 9.163429260253906, 8.930811882019043, 10.23302173614502, 8.527774810791016, 10.04362964630127, 9.155193328857422, 7.649187088012695, 10.202286720275879, 10.734975814819336, 7.781369686126709, 9.01414966583252, 8.681467056274414, 9.74732780456543, 9.644969940185547, 10.158431053161621, 10.096282005310059, 9.905539512634277, 9.695510864257812, 7.202799320220947, 9.44187068939209, 9.82140827178955, 10.336503982543945, 10.302498817443848, 10.47862720489502, 9.519455909729004, 9.19978141784668, 10.512616157531738, 9.696304321289062, 7.291758060455322, 9.499432563781738, 8.798487663269043, 10.801135063171387, 9.877965927124023, 9.744352340698242, 9.092094421386719, 9.619056701660156, 8.756406784057617, 9.197101593017578, 9.053183555603027, 9.445306777954102, 10.488922119140625, 8.934770584106445, 9.04655933380127, 8.117083549499512, 9.59915828704834, 7.183903694152832, 7.77676248550415, 9.458722114562988, 7.485154628753662, 10.127924919128418, 9.992265701293945, 9.704724311828613, 9.013335227966309, 9.853641510009766, 9.01801586151123, 10.11601734161377, 8.878171920776367, 8.443123817443848, 6.5422186851501465, 6.7769575119018555, 8.648873329162598, 10.032764434814453, 10.451638221740723, 10.68271541595459, 6.661585807800293, 10.105113983154297, 9.022892951965332, 10.601407051086426, 7.91340970993042, 9.776360511779785, 9.706521034240723, 10.328495979309082, 8.96133804321289, 9.988449096679688, 8.996216773986816, 9.872733116149902, 9.811385154724121, 7.5102667808532715, 10.446457862854004, 7.594540596008301, 9.645633697509766, 7.002047538757324, 8.883658409118652, 9.898292541503906, 10.760432243347168, 7.2300825119018555, 8.99936294555664, 10.14929485321045, 8.025007247924805, 9.314770698547363, 9.860883712768555, 8.791204452514648, 9.398995399475098, 9.304374694824219, 6.310507774353027, 10.629449844360352, 9.882168769836426, 9.584517478942871, 9.136384010314941, 9.904165267944336, 8.383971214294434, 9.565634727478027, 7.6616339683532715, 9.656394004821777, 8.711724281311035, 9.604630470275879, 9.018640518188477, 9.721752166748047, 9.372802734375, 8.069690704345703, 8.230097770690918, 9.479549407958984, 6.4879655838012695, 8.993332862854004, 8.558701515197754, 8.860370635986328, 9.053958892822266, 9.982131004333496, 9.522895812988281, 8.275300979614258, 9.34776782989502, 8.98733901977539, 10.368743896484375, 10.013391494750977, 8.764659881591797, 8.002667427062988, 9.406634330749512, 9.130025863647461, 8.844877243041992, 8.774250030517578, 6.9956159591674805, 8.029540061950684, 9.632909774780273, 7.887487888336182, 9.405348777770996, 8.102363586425781, 9.40453815460205, 8.37795352935791, 9.702837944030762, 10.291565895080566, 7.822684288024902, 9.252885818481445, 8.842506408691406, 9.6204833984375, 8.936226844787598, 8.606745719909668, 9.679976463317871, 8.853096008300781, 8.8632230758667, 10.060857772827148, 7.960031032562256, 9.586007118225098, 8.68598461151123, 9.780415534973145, 8.634184837341309, 8.739477157592773, 9.890164375305176, 8.972271919250488, 8.294681549072266, 10.349318504333496, 9.76657772064209, 10.767350196838379, 9.40087890625, 10.16588306427002, 7.778138160705566, 8.317869186401367, 9.97249984741211, 8.729178428649902, 9.155871391296387, 8.300739288330078, 9.839468002319336, 9.029150009155273, 9.410499572753906, 10.037104606628418, 9.56790542602539, 8.89188289642334, 10.598702430725098, 6.7782063484191895, 7.967618465423584, 8.711380958557129, 9.390528678894043, 9.513887405395508, 9.521443367004395, 10.4024019241333, 9.343122482299805, 8.901205062866211, 9.287409782409668, 9.406594276428223, 9.596563339233398, 9.034276008605957, 8.472339630126953, 8.968846321105957, 6.391990661621094, 8.921355247497559, 7.860448360443115, 8.052193641662598, 9.670004844665527, 10.038947105407715, 10.22964859008789, 8.339604377746582, 9.163025856018066, 10.289299964904785, 8.566376686096191, 8.66468620300293, 6.9591875076293945, 9.248291969299316, 9.112431526184082, 10.676169395446777, 9.52707290649414, 10.155939102172852, 9.495957374572754, 9.620808601379395, 9.073153495788574, 10.618885040283203, 9.235198020935059, 8.255456924438477, 7.72740364074707, 9.061965942382812, 9.944886207580566, 11.446624755859375, 9.423831939697266, 9.96097469329834, 9.830345153808594, 9.236592292785645, 9.790375709533691, 9.795695304870605, 10.322200775146484, 9.044307708740234, 9.649020195007324, 10.553014755249023, 9.920315742492676, 9.789898872375488, 9.54258918762207, 8.299483299255371, 9.429448127746582, 10.160307884216309, 10.301033973693848, 8.416007995605469, 9.618471145629883, 9.316130638122559, 8.018722534179688, 8.174137115478516, 7.786742687225342, 9.574936866760254, 8.639013290405273, 9.441421508789062, 9.50922966003418, 9.197328567504883, 9.238606452941895, 7.930228233337402, 7.508560657501221, 9.86867618560791, 8.599392890930176, 5.529528617858887, 10.030539512634277, 10.163900375366211, 10.016352653503418, 8.897984504699707, 9.636882781982422, 10.22838020324707, 10.278182983398438, 9.636503219604492, 7.957586288452148, 5.94101619720459, 7.54757022857666, 10.764143943786621, 6.043708324432373, 9.384805679321289, 10.20602798461914, 9.283565521240234, 9.19317626953125, 9.156754493713379, 4.594192028045654, 9.77579116821289, 8.011308670043945, 8.485363006591797, 7.829611778259277, 7.955595016479492, 8.071493148803711, 9.968989372253418, 8.59623908996582, 10.15843391418457, 7.47324275970459, 9.80346393585205, 6.762430667877197, 9.638910293579102, 9.728318214416504, 9.9370698928833, 9.683011054992676, 9.320310592651367, 9.613446235656738, 8.06545639038086, 8.147441864013672, 9.496496200561523, 9.754430770874023, 8.467607498168945, 9.260421752929688, 9.538536071777344, 9.977275848388672, 8.368239402770996, 7.591455936431885, 5.31852388381958, 10.581122398376465, 8.464653968811035, 8.933134078979492, 9.45215129852295, 9.03954029083252, 9.228846549987793, 10.228806495666504, 8.303861618041992, 5.632002353668213, 7.99522066116333, 8.812162399291992, 8.834383010864258, 7.998480796813965, 8.715274810791016, 10.102909088134766, 9.97524356842041, 6.726616859436035, 8.621694564819336, 9.357556343078613, 9.227569580078125, 8.923589706420898, 9.4723539352417, 9.797221183776855, 10.044374465942383, 10.020139694213867, 9.655951499938965, 8.019503593444824, 10.573651313781738, 8.75279712677002, 8.505843162536621, 9.967978477478027, 8.189567565917969, 8.894461631774902, 7.378233909606934, 9.375909805297852, 9.062962532043457, 8.076156616210938, 9.850973129272461, 7.8680596351623535, 7.99201774597168, 9.720888137817383, 9.129539489746094, 9.514372825622559, 8.963373184204102, 9.792248725891113, 8.256845474243164, 9.6925630569458, 10.19303035736084, 9.062853813171387, 10.305343627929688, 8.83177375793457, 9.936362266540527, 8.93503189086914, 9.681517601013184, 10.490840911865234, 7.871922969818115, 9.976225852966309, 10.399530410766602, 9.365250587463379, 10.443017959594727, 8.876768112182617, 7.782262325286865, 8.588224411010742, 9.303022384643555, 8.356162071228027, 9.33092975616455, 6.860057353973389, 9.425872802734375, 10.464746475219727, 8.1981201171875, 8.603181838989258, 8.885329246520996, 8.890216827392578, 9.144219398498535, 9.464014053344727, 10.384243965148926, 9.46725845336914, 9.837703704833984, 9.774327278137207, 8.856245040893555, 10.133750915527344, 10.0162992477417, 8.104610443115234, 9.451996803283691, 9.973668098449707, 8.511823654174805, 8.815767288208008, 9.469895362854004, 10.018074035644531, 7.790229320526123, 9.231303215026855, 10.298704147338867, 8.883435249328613, 10.690812110900879, 10.175647735595703, 9.378366470336914, 8.956080436706543, 6.402431964874268, 9.021855354309082, 9.975210189819336, 8.983881950378418, 10.82311725616455, 9.997347831726074, 9.683558464050293, 7.512271404266357, 9.563567161560059, 8.628829956054688, 8.420014381408691, 9.930278778076172, 9.386194229125977, 9.156817436218262, 9.368874549865723, 9.34150505065918, 10.165342330932617, 6.365668296813965, 10.05018424987793, 10.511101722717285, 9.985118865966797, 8.851419448852539, 9.555316925048828, 9.692190170288086, 9.167509078979492, 8.687736511230469, 8.09411334991455, 9.6488676071167, 8.587213516235352, 8.885360717773438, 8.907654762268066, 8.305383682250977, 8.684741973876953, 8.83687686920166, 9.493739128112793, 8.9970703125, 6.286874294281006, 10.013955116271973, 9.484559059143066, 8.6332368850708, 9.195236206054688, 7.820709228515625, 8.011395454406738, 8.189567565917969, 10.437821388244629, 8.803754806518555, 8.978985786437988, 8.06987476348877, 9.255775451660156, 9.840356826782227, 9.601633071899414, 9.554935455322266, 10.180397033691406, 10.840045928955078, 9.928543090820312, 6.3285322189331055, 8.865652084350586, 9.277652740478516, 10.030477523803711, 9.032176971435547, 9.3136568069458, 9.650115013122559, 10.002692222595215, 10.231972694396973, 10.272053718566895, 8.481219291687012, 8.936824798583984, 9.533842086791992, 7.9702935218811035, 9.162825584411621, 10.410362243652344, 9.784692764282227, 10.224505424499512, 7.24313497543335, 9.580135345458984, 10.576915740966797, 9.07429313659668, 9.79599380493164, 7.040156364440918, 9.844819068908691, 9.718425750732422, 9.671821594238281, 9.844707489013672, 10.18666934967041, 8.719956398010254, 8.220487594604492, 7.352197647094727, 9.321520805358887, 9.740076065063477, 7.881468772888184, 9.322093963623047, 9.496832847595215, 8.648953437805176, 9.876018524169922, 10.480794906616211, 7.961050987243652, 8.512932777404785, 8.919892311096191, 7.957485198974609, 10.629622459411621, 9.261930465698242, 8.851118087768555, 9.1260986328125, 9.058713912963867, 8.820330619812012, 10.173063278198242, 5.106110095977783, 6.957767009735107, 9.332754135131836, 10.105669975280762, 9.636963844299316, 9.679540634155273, 9.861983299255371, 8.717754364013672, 9.638501167297363, 9.670764923095703, 8.52207088470459, 9.09976863861084, 8.474621772766113, 10.003541946411133, 8.39587688446045, 8.774672508239746, 9.653397560119629, 9.066720008850098, 8.39730167388916, 9.578012466430664, 9.451672554016113, 9.828164100646973, 7.4821343421936035, 9.154870986938477, 9.941679000854492, 8.131855010986328, 8.118998527526855, 10.219477653503418, 9.360077857971191, 9.439476013183594, 9.490957260131836, 9.020360946655273, 8.140068054199219, 9.671822547912598, 10.153608322143555, 9.3590726852417, 9.104671478271484, 9.518415451049805, 9.941522598266602, 10.15958309173584, 10.38311767578125, 9.92570686340332, 10.366859436035156, 10.312355995178223, 10.23452377319336, 10.069416999816895, 9.788731575012207, 9.841970443725586, 6.630606174468994, 9.95445728302002, 9.2982816696167, 8.349617958068848, 9.718016624450684, 10.880725860595703, 8.927267074584961, 9.919222831726074, 9.774218559265137, 7.501697063446045, 7.7351555824279785, 9.597929954528809, 9.441713333129883, 7.4440836906433105, 8.52238655090332, 9.166643142700195, 9.898409843444824, 6.139593601226807, 7.500175476074219, 10.018148422241211, 7.898471832275391, 7.428503513336182, 9.365206718444824, 8.703669548034668, 8.827709197998047, 8.038702964782715, 9.335312843322754, 6.027215480804443, 9.890314102172852, 9.089719772338867, 10.307650566101074, 9.524208068847656, 8.766668319702148, 9.674571990966797, 9.655664443969727, 8.168198585510254, 8.590683937072754, 9.293132781982422, 8.597084999084473, 9.411261558532715, 8.546696662902832, 8.382908821105957, 8.26488971710205, 8.553829193115234, 9.898622512817383, 9.717565536499023, 8.50751781463623, 9.569798469543457, 9.94270133972168, 8.028170585632324, 9.153470039367676, 9.268054008483887, 8.917136192321777, 9.573038101196289, 9.346904754638672, 9.413687705993652, 9.99045181274414, 8.91976547241211, 10.383720397949219, 9.778115272521973, 9.637078285217285, 9.816835403442383, 9.635878562927246, 9.323909759521484, 8.385997772216797, 9.326111793518066, 7.391564846038818, 8.822373390197754, 6.985250949859619, 8.414610862731934, 9.309569358825684, 7.119624614715576, 9.517044067382812, 9.10046672821045, 10.2588472366333, 9.258048057556152, 9.07534408569336, 8.975020408630371, 7.827402114868164, 9.864317893981934, 9.8843994140625, 9.654598236083984, 10.120368003845215, 8.936771392822266, 8.969182014465332, 8.041943550109863, 9.538911819458008, 9.713152885437012, 9.956106185913086, 9.107826232910156, 6.586099147796631, 8.645705223083496, 11.21768856048584, 10.123026847839355, 9.744942665100098, 7.093242645263672, 9.310190200805664, 8.747785568237305, 9.314709663391113, 10.21474838256836, 9.596817970275879, 9.70136833190918, 9.05429744720459, 9.907493591308594, 10.72458267211914, 8.713068008422852, 8.65153694152832, 9.353259086608887, 10.091556549072266, 9.623331069946289, 9.167231559753418, 11.102706909179688, 8.396451950073242, 9.563862800598145, 8.788056373596191, 8.770639419555664, 8.954323768615723, 10.210723876953125, 9.76823902130127, 8.662383079528809, 8.957901954650879, 5.9523210525512695, 8.219998359680176, 9.73063850402832, 8.09799575805664, 8.674805641174316, 8.450817108154297, 8.634391784667969, 8.199222564697266, 9.9625883102417, 8.408764839172363, 9.997003555297852, 9.533951759338379, 9.676057815551758, 10.223414421081543, 9.601903915405273, 7.746432304382324, 9.351627349853516, 9.747085571289062, 9.943471908569336, 7.733582973480225, 10.085728645324707, 8.79686450958252, 10.322407722473145, 8.319429397583008, 10.40416145324707, 10.577759742736816, 7.84823751449585, 9.06860065460205, 7.85350227355957, 9.664369583129883, 9.469212532043457, 9.652177810668945, 8.697301864624023, 8.756999015808105, 8.826964378356934, 8.624651908874512, 8.473923683166504, 8.460624694824219, 10.209742546081543, 9.907998085021973, 8.96439266204834, 10.5308837890625, 8.622649192810059, 9.70617961883545, 8.805030822753906, 9.487283706665039, 10.247706413269043, 5.94101619720459, 9.085644721984863, 8.533365249633789, 10.100297927856445, 9.255151748657227, 8.931917190551758, 9.18648624420166, 9.63851547241211, 10.636401176452637, 9.500242233276367, 8.980688095092773, 9.35585880279541, 10.102005004882812, 9.360755920410156, 9.457636833190918, 8.804774284362793, 8.906259536743164, 9.237876892089844, 8.113901138305664, 10.411224365234375, 7.977168560028076, 10.428266525268555, 9.236157417297363, 9.46865463256836, 9.374584197998047, 9.104715347290039, 9.255356788635254, 9.843282699584961, 8.735061645507812, 9.508707046508789, 9.122108459472656, 9.40217113494873, 9.379181861877441, 8.92503547668457, 8.964953422546387, 8.962713241577148, 8.963740348815918, 7.8496551513671875, 9.09581470489502, 9.82829761505127, 7.449315547943115, 10.262272834777832, 8.41205883026123, 9.595966339111328, 10.006217956542969, 9.355788230895996, 9.439682960510254, 9.648468017578125, 8.392582893371582, 9.273018836975098, 9.208314895629883, 9.439251899719238, 10.404926300048828, 7.655816555023193, 8.371225357055664, 10.023962020874023, 7.909895896911621, 9.824748992919922, 7.974132061004639, 8.955044746398926, 9.14661979675293, 8.352999687194824, 10.088594436645508, 7.830804824829102, 8.050010681152344, 9.516242980957031, 9.224408149719238, 8.77935791015625, 9.936807632446289, 8.818293571472168, 9.60621452331543, 8.13461685180664, 9.640501976013184, 9.865772247314453, 9.68862247467041, 7.168198108673096, 9.276168823242188, 8.73100757598877, 9.667069435119629, 9.80671215057373, 7.874631881713867, 9.424591064453125, 8.805855751037598, 8.511723518371582, 9.073433876037598, 9.190033912658691, 8.958033561706543, 8.420381546020508, 8.505301475524902, 8.60192584991455, 9.058581352233887, 8.38906192779541, 9.256599426269531, 9.790033340454102, 9.223795890808105, 9.153079986572266, 8.906964302062988, 9.625232696533203, 8.277044296264648, 10.565638542175293, 10.268589973449707, 6.818428039550781, 9.967772483825684, 10.44848918914795, 9.660160064697266, 8.090367317199707, 8.095104217529297, 8.767571449279785, 8.551246643066406, 8.804427146911621, 8.577832221984863, 9.172689437866211, 8.332207679748535, 7.974327564239502, 10.238276481628418, 8.545292854309082, 8.897355079650879, 7.988389492034912, 9.450997352600098, 9.79022216796875, 9.779607772827148, 7.748002529144287, 8.165125846862793, 10.539843559265137, 9.864229202270508, 8.728245735168457, 9.309032440185547, 9.636944770812988, 8.786141395568848, 10.425740242004395, 9.892898559570312, 7.623690128326416, 9.403828620910645, 9.30643367767334, 9.943254470825195, 9.609066009521484, 10.168996810913086, 9.225555419921875, 8.877189636230469, 9.755609512329102, 9.52774715423584, 6.676590919494629, 7.991058826446533, 7.757681846618652, 8.86090087890625, 9.753411293029785, 10.048598289489746, 9.231585502624512, 7.948300838470459, 10.758781433105469, 9.71713924407959, 9.775067329406738, 8.902012825012207, 10.325889587402344, 6.461048603057861, 9.102445602416992, 9.796010971069336, 9.362672805786133, 9.228300094604492, 10.115361213684082, 9.592122077941895, 8.818266868591309, 10.215113639831543, 9.815153121948242, 9.008296012878418, 9.26926040649414, 7.544405460357666, 9.498539924621582, 8.997598648071289, 9.231142044067383, 9.044707298278809, 8.616228103637695, 5.936966419219971, 7.9678473472595215, 10.056050300598145, 9.703716278076172, 10.478504180908203, 10.404867172241211, 9.283271789550781, 9.636411666870117, 8.982873916625977, 9.838384628295898, 9.882904052734375, 9.669305801391602, 8.754373550415039, 9.906922340393066, 10.479869842529297, 9.436532020568848, 8.667742729187012, 9.830302238464355, 9.4251127243042, 8.581217765808105, 10.278046607971191, 10.629566192626953, 9.656923294067383, 9.081621170043945, 9.643465042114258, 8.873679161071777, 9.594120979309082, 9.817410469055176, 9.131175994873047, 10.576034545898438, 7.28395414352417, 7.717924118041992, 9.076972007751465, 4.6361799240112305, 9.167579650878906, 9.33493709564209, 9.329432487487793, 9.567843437194824, 8.160100936889648, 9.797497749328613, 9.54763412475586, 9.175312042236328, 9.259151458740234, 9.236127853393555, 8.767334938049316, 10.10777759552002, 10.27060317993164, 9.328700065612793, 8.457274436950684, 8.33607292175293, 9.775307655334473, 9.709030151367188, 9.13980770111084, 8.824068069458008, 9.60042667388916, 9.48343563079834, 10.593353271484375, 9.666621208190918, 8.09723949432373, 8.82419204711914, 9.833115577697754, 9.19983959197998, 8.549446105957031, 9.774970054626465, 10.637005805969238, 10.618175506591797, 8.292747497558594, 8.95585823059082, 8.550583839416504, 8.354854583740234, 9.517741203308105, 9.716524124145508, 9.51061725616455, 9.87335205078125, 8.55700969696045, 7.794104099273682, 8.685197830200195, 8.962553977966309, 9.347084045410156, 8.81659984588623, 7.337793350219727, 9.689027786254883, 9.808365821838379, 8.573685646057129, 9.024181365966797, 10.559505462646484, 9.03773021697998, 10.203566551208496, 9.176753997802734, 9.32097053527832, 8.952038764953613, 8.610356330871582, 8.839792251586914, 10.562403678894043, 9.44506549835205, 9.52566146850586, 8.074352264404297, 8.268389701843262, 9.51025104522705, 9.94013786315918, 8.300213813781738, 6.1558332443237305, 10.393616676330566, 9.724967956542969, 8.838077545166016, 10.21130657196045, 9.726180076599121, 7.5278778076171875, 9.478960037231445, 7.1598405838012695, 8.753726959228516, 9.880546569824219, 8.184125900268555, 7.622581481933594, 9.54496955871582, 9.905592918395996, 10.207596778869629, 8.551515579223633, 7.868330001831055, 8.7517671585083, 8.820283889770508, 9.891660690307617, 8.722053527832031, 7.656214237213135, 8.910696029663086, 9.117655754089355, 9.28072738647461, 9.714018821716309, 7.845015048980713, 9.939361572265625, 9.320035934448242, 8.796083450317383, 7.921082496643066, 10.125504493713379, 9.315742492675781, 8.688738822937012, 5.592429161071777, 9.38599681854248, 7.407805919647217, 8.522921562194824, 10.226789474487305, 10.424643516540527]\n",
      "The fixed-window model perplexity over test dataset is 566.7274023232299\n"
     ]
    }
   ],
   "source": [
    "perplexity = -1\n",
    "\n",
    "# YOUR CODE HERE\n",
    "seq_entropy = [get_seqeuence_entropy_fixed_window_lm(model_fixed_window, \n",
    "                                                     sample[\"sentence\"], \n",
    "                                                     window_size, \n",
    "                                                     fixed_window_dataset.word_to_index) for sample in ptb_test]\n",
    "print(seq_entropy)\n",
    "perplexity = 2** np.mean(seq_entropy)\n",
    "print(f\"The fixed-window model perplexity over test dataset is {perplexity}\")"
   ]
  },
  {
   "cell_type": "markdown",
   "id": "240c3d89",
   "metadata": {
    "id": "240c3d89"
   },
   "source": [
    "### 2.2 RNN-based Language Model <a name='rnn_lm'></a>\n",
    "To address the need for a neural architecture that can proceed with any length input (as opposed to the fixed-window model that can only process a fixed number of tokens), we implement the Recurrent Neural Network (RNN). The core idea behind is that we can apply the same weight W repeatedly.\n",
    "\n",
    "An advatange of RNN model compared to fixed-window langauage model is that we can pass a given sentence at once, instead of passing it in many windows of size `window_size`. Moreover, the language model has the ability to look behind further that a fixed number of tokens.\n",
    "\n",
    " As we already did a neural model training exercise for the previous neural model, we only provide a trained LM at this section, so that you can focus only on the analysis part.\n",
    "\n",
    "You can find the dataset structure as well as the RNN architecture in the `rnn_utils.py` file."
   ]
  },
  {
   "cell_type": "code",
   "execution_count": null,
   "id": "fc631bc1",
   "metadata": {
    "id": "fc631bc1"
   },
   "outputs": [],
   "source": [
    "from rnn_utils import RNNDataset, RNN_language_model\n",
    "\n",
    "vocabulary_size = 10000\n",
    "word_emb_dim = 200\n",
    "hidden_dim = 200\n",
    "\n",
    "rnn_dataset = RNNDataset(ptb_train, ptb_test, vocabulary_size)\n",
    "\n",
    "# if gpu is available, we puts the model on it\n",
    "device = torch.device(\"cuda:0\" if torch.cuda.is_available() else \"cpu\")\n",
    "\n",
    "# Here we need a <pad> token for the RNN model, in order to have a batch of sequences with difference sizes\n",
    "pad_idx = rnn_dataset.pad_idx # the index for <pad> token\n",
    "rnn_model = RNN_language_model(vocab_size=vocabulary_size, emb_dim=word_emb_dim, hidden_dim=hidden_dim,\n",
    "                               pad_idx=pad_idx)\n",
    "rnn_model.to(device)"
   ]
  },
  {
   "cell_type": "markdown",
   "id": "25137a9f",
   "metadata": {
    "id": "25137a9f"
   },
   "source": [
    "load the model weights using the state_dict in `rnn_model.pt` file."
   ]
  },
  {
   "cell_type": "code",
   "execution_count": 73,
   "id": "52adb1f9",
   "metadata": {
    "id": "52adb1f9"
   },
   "outputs": [
    {
     "name": "stderr",
     "output_type": "stream",
     "text": [
      "C:\\Users\\thier\\AppData\\Local\\Temp\\ipykernel_16368\\1245262089.py:4: FutureWarning: You are using `torch.load` with `weights_only=False` (the current default value), which uses the default pickle module implicitly. It is possible to construct malicious pickle data which will execute arbitrary code during unpickling (See https://github.com/pytorch/pytorch/blob/main/SECURITY.md#untrusted-models for more details). In a future release, the default value for `weights_only` will be flipped to `True`. This limits the functions that could be executed during unpickling. Arbitrary objects will no longer be allowed to be loaded via this mode unless they are explicitly allowlisted by the user via `torch.serialization.add_safe_globals`. We recommend you start setting `weights_only=True` for any use case where you don't have full control of the loaded file. Please open an issue on GitHub for any issues related to this experimental feature.\n",
      "  rnn_model.load_state_dict(torch.load(rnn_model_file, map_location=torch.device('cpu')))\n"
     ]
    },
    {
     "data": {
      "text/plain": [
       "<All keys matched successfully>"
      ]
     },
     "execution_count": 73,
     "metadata": {},
     "output_type": "execute_result"
    }
   ],
   "source": [
    "# YOUR CODE HERE\n",
    "# TODO: Load the model state_dict and map to the correct device\n",
    "rnn_model_file = \"rnn_model.pt\"\n",
    "rnn_model.load_state_dict(torch.load(rnn_model_file, map_location=torch.device('cpu')))"
   ]
  },
  {
   "cell_type": "markdown",
   "id": "f06eb967",
   "metadata": {
    "id": "f06eb967"
   },
   "source": [
    "As the training of an RNN model is time-consuming, we provide a trained language model on this dataset (`rnn_model.pt`), so that you can just analyze the model performance here.\n",
    "As mentioned above, as RNN can get sequences with varying lengths, the input sequences should be padded with a special token like `<pad>`, so that we can create a batch of sentences. The output of the defined RNN model (see the architecture detail `rnn_utils.py`) is the model's entropy over the input data.\n",
    "\n",
    "#### First get the encoded test samples of `ptb_test` dataset, and then pass these (already padded) sentences to the RNN model to get the respective entropy values. Compute the perplexity of the model and compare it with previous approaches.\n",
    "**HINT**: Read `get_encoded_test_samples` method of `rnn_dataset` and all model attribution and methods from `RNN_language_model`, e.g. how to perform forward pass and loss computations.\n"
   ]
  },
  {
   "cell_type": "code",
   "execution_count": 76,
   "id": "09d7b99f",
   "metadata": {
    "id": "09d7b99f"
   },
   "outputs": [
    {
     "name": "stdout",
     "output_type": "stream",
     "text": [
      "The model perplexity is 10342.678204226851\n"
     ]
    }
   ],
   "source": [
    "test_perplexity = -1\n",
    "\n",
    "test_token_ids = rnn_dataset.get_encoded_test_samples()\n",
    "\n",
    "test_loss = []\n",
    "eval_batch_size = 8\n",
    "\n",
    "with torch.no_grad():\n",
    "    for data_idx in range(0, test_token_ids.shape[0], eval_batch_size):\n",
    "        # TODO: get one test batch with batch_size = eval_batch_size\n",
    "        context_batch = test_token_ids[data_idx: data_idx+eval_batch_size].to(device)\n",
    "\n",
    "        batch_max_seq_length = (context_batch!=rnn_dataset.pad_idx).sum(dim=1).max().item()\n",
    "        context_batch = context_batch[:, :batch_max_seq_length]\n",
    "\n",
    "        # TODO: get loss on one batch with rnn_model\n",
    "        batch_loss = rnn_model(context_batch)\n",
    "        test_loss.append(batch_loss.item())\n",
    "avg_test_loss = np.array(test_loss).mean()\n",
    "test_perplexity = np.exp(avg_test_loss)\n",
    "\n",
    "print(f\"The model perplexity is {test_perplexity}\")"
   ]
  }
 ],
 "metadata": {
  "colab": {
   "provenance": []
  },
  "kernelspec": {
   "display_name": "mnlp",
   "language": "python",
   "name": "python3"
  },
  "language_info": {
   "codemirror_mode": {
    "name": "ipython",
    "version": 3
   },
   "file_extension": ".py",
   "mimetype": "text/x-python",
   "name": "python",
   "nbconvert_exporter": "python",
   "pygments_lexer": "ipython3",
   "version": "3.10.11"
  }
 },
 "nbformat": 4,
 "nbformat_minor": 5
}
